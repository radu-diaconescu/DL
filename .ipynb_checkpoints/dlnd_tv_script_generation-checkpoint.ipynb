{
 "cells": [
  {
   "cell_type": "markdown",
   "metadata": {},
   "source": [
    "# TV Script Generation\n",
    "In this project, you'll generate your own [Simpsons](https://en.wikipedia.org/wiki/The_Simpsons) TV scripts using RNNs.  You'll be using part of the [Simpsons dataset](https://www.kaggle.com/wcukierski/the-simpsons-by-the-data) of scripts from 27 seasons.  The Neural Network you'll build will generate a new TV script for a scene at [Moe's Tavern](https://simpsonswiki.com/wiki/Moe's_Tavern).\n",
    "## Get the Data\n",
    "The data is already provided for you.  You'll be using a subset of the original dataset.  It consists of only the scenes in Moe's Tavern.  This doesn't include other versions of the tavern, like \"Moe's Cavern\", \"Flaming Moe's\", \"Uncle Moe's Family Feed-Bag\", etc.."
   ]
  },
  {
   "cell_type": "code",
   "execution_count": 1,
   "metadata": {
    "collapsed": true
   },
   "outputs": [],
   "source": [
    "\"\"\"\n",
    "DON'T MODIFY ANYTHING IN THIS CELL\n",
    "\"\"\"\n",
    "import helper\n",
    "\n",
    "data_dir = './data/simpsons/moes_tavern_lines.txt'\n",
    "text = helper.load_data(data_dir)\n",
    "# Ignore notice, since we don't use it for analysing the data\n",
    "text = text[81:]"
   ]
  },
  {
   "cell_type": "markdown",
   "metadata": {},
   "source": [
    "## Explore the Data\n",
    "Play around with `view_sentence_range` to view different parts of the data."
   ]
  },
  {
   "cell_type": "code",
   "execution_count": 3,
   "metadata": {},
   "outputs": [
    {
     "name": "stdout",
     "output_type": "stream",
     "text": [
      "Dataset Stats\n",
      "Roughly the number of unique words: 11492\n",
      "Number of scenes: 262\n",
      "Average number of sentences in each scene: 15.251908396946565\n",
      "Number of lines: 4258\n",
      "Average number of words in each line: 11.50164396430249\n",
      "\n",
      "The sentences 0 to 15:\n",
      "\n",
      "Moe_Szyslak: (INTO PHONE) Moe's Tavern. Where the elite meet to drink.\n",
      "Bart_Simpson: Eh, yeah, hello, is Mike there? Last name, Rotch.\n",
      "Moe_Szyslak: (INTO PHONE) Hold on, I'll check. (TO BARFLIES) Mike Rotch. Mike Rotch. Hey, has anybody seen Mike Rotch, lately?\n",
      "Moe_Szyslak: (INTO PHONE) Listen you little puke. One of these days I'm gonna catch you, and I'm gonna carve my name on your back with an ice pick.\n",
      "Moe_Szyslak: What's the matter Homer? You're not your normal effervescent self.\n",
      "Homer_Simpson: I got my problems, Moe. Give me another one.\n",
      "Moe_Szyslak: Homer, hey, you should not drink to forget your problems.\n",
      "Barney_Gumble: Yeah, you should only drink to enhance your social skills.\n",
      "\n",
      "\n",
      "Moe_Szyslak: Ah, isn't that nice. Now, there is a politician who cares.\n",
      "Barney_Gumble: If I ever vote, it'll be for him. (BELCH)\n",
      "\n",
      "\n"
     ]
    }
   ],
   "source": [
    "view_sentence_range = (0, 15)\n",
    "\n",
    "\"\"\"\n",
    "DON'T MODIFY ANYTHING IN THIS CELL\n",
    "\"\"\"\n",
    "import numpy as np\n",
    "\n",
    "print('Dataset Stats')\n",
    "print('Roughly the number of unique words: {}'.format(len({word: None for word in text.split()})))\n",
    "scenes = text.split('\\n\\n')\n",
    "print('Number of scenes: {}'.format(len(scenes)))\n",
    "sentence_count_scene = [scene.count('\\n') for scene in scenes]\n",
    "print('Average number of sentences in each scene: {}'.format(np.average(sentence_count_scene)))\n",
    "\n",
    "sentences = [sentence for scene in scenes for sentence in scene.split('\\n')]\n",
    "print('Number of lines: {}'.format(len(sentences)))\n",
    "word_count_sentence = [len(sentence.split()) for sentence in sentences]\n",
    "print('Average number of words in each line: {}'.format(np.average(word_count_sentence)))\n",
    "\n",
    "print()\n",
    "print('The sentences {} to {}:'.format(*view_sentence_range))\n",
    "print('\\n'.join(text.split('\\n')[view_sentence_range[0]:view_sentence_range[1]]))"
   ]
  },
  {
   "cell_type": "markdown",
   "metadata": {},
   "source": [
    "## Implement Preprocessing Functions\n",
    "The first thing to do to any dataset is preprocessing.  Implement the following preprocessing functions below:\n",
    "- Lookup Table\n",
    "- Tokenize Punctuation\n",
    "\n",
    "### Lookup Table\n",
    "To create a word embedding, you first need to transform the words to ids.  In this function, create two dictionaries:\n",
    "- Dictionary to go from the words to an id, we'll call `vocab_to_int`\n",
    "- Dictionary to go from the id to word, we'll call `int_to_vocab`\n",
    "\n",
    "Return these dictionaries in the following tuple `(vocab_to_int, int_to_vocab)`"
   ]
  },
  {
   "cell_type": "code",
   "execution_count": 21,
   "metadata": {},
   "outputs": [
    {
     "name": "stdout",
     "output_type": "stream",
     "text": [
      "Tests Passed\n"
     ]
    }
   ],
   "source": [
    "import numpy as np\n",
    "import problem_unittests as tests\n",
    "from collections import Counter\n",
    "\n",
    "def create_lookup_tables(text):\n",
    "    \"\"\"\n",
    "    Create lookup tables for vocabulary\n",
    "    :param text: The text of tv scripts split into words\n",
    "    :return: A tuple of dicts (vocab_to_int, int_to_vocab)\n",
    "    \"\"\"\n",
    "    # TODO: Implement Function\n",
    "    counts = Counter(text)\n",
    "    vocab = sorted(counts, key = counts.get, reverse=True)\n",
    "    \n",
    "    int_to_vocab = {ii: word for ii, word in enumerate(vocab)}\n",
    "    vocab_to_int = {word: ii for ii, word in int_to_vocab.items()}\n",
    "        \n",
    "    return vocab_to_int, int_to_vocab\n",
    "\n",
    "\n",
    "\"\"\"\n",
    "DON'T MODIFY ANYTHING IN THIS CELL THAT IS BELOW THIS LINE\n",
    "\"\"\"\n",
    "tests.test_create_lookup_tables(create_lookup_tables)"
   ]
  },
  {
   "cell_type": "markdown",
   "metadata": {},
   "source": [
    "### Tokenize Punctuation\n",
    "We'll be splitting the script into a word array using spaces as delimiters.  However, punctuations like periods and exclamation marks make it hard for the neural network to distinguish between the word \"bye\" and \"bye!\".\n",
    "\n",
    "Implement the function `token_lookup` to return a dict that will be used to tokenize symbols like \"!\" into \"||Exclamation_Mark||\".  Create a dictionary for the following symbols where the symbol is the key and value is the token:\n",
    "- Period ( . )\n",
    "- Comma ( , )\n",
    "- Quotation Mark ( \" )\n",
    "- Semicolon ( ; )\n",
    "- Exclamation mark ( ! )\n",
    "- Question mark ( ? )\n",
    "- Left Parentheses ( ( )\n",
    "- Right Parentheses ( ) )\n",
    "- Dash ( -- )\n",
    "- Return ( \\n )\n",
    "\n",
    "This dictionary will be used to token the symbols and add the delimiter (space) around it.  This separates the symbols as it's own word, making it easier for the neural network to predict on the next word. Make sure you don't use a token that could be confused as a word. Instead of using the token \"dash\", try using something like \"||dash||\"."
   ]
  },
  {
   "cell_type": "code",
   "execution_count": 22,
   "metadata": {},
   "outputs": [
    {
     "name": "stdout",
     "output_type": "stream",
     "text": [
      "Tests Passed\n"
     ]
    }
   ],
   "source": [
    "def token_lookup():\n",
    "    \"\"\"\n",
    "    Generate a dict to turn punctuation into a token.\n",
    "    :return: Tokenize dictionary where the key is the punctuation and the value is the token\n",
    "    \"\"\"\n",
    "    # TODO: Implement Function\n",
    "    token_dictionary = {}\n",
    "    token_dictionary['.'] = '||PERIOD||'\n",
    "    token_dictionary[','] = '||COMMA||'\n",
    "    token_dictionary['\"'] = '||QUATION_MARK||'\n",
    "    token_dictionary[';'] = '||SEMICOLON||'\n",
    "    token_dictionary['!'] = '||EXCLAMATION_MARK||'\n",
    "    token_dictionary['?'] = '||QUESTION_MARK||'\n",
    "    token_dictionary['('] = '||LEFT_PAREN||'\n",
    "    token_dictionary[')'] = '||RIGHT_PAREN||'\n",
    "    token_dictionary['--'] = '||DASH||'\n",
    "    token_dictionary['\\n'] = '||NEW_LINE||'\n",
    "    \n",
    "    return token_dictionary\n",
    "\n",
    "\"\"\"\n",
    "DON'T MODIFY ANYTHING IN THIS CELL THAT IS BELOW THIS LINE\n",
    "\"\"\"\n",
    "tests.test_tokenize(token_lookup)"
   ]
  },
  {
   "cell_type": "markdown",
   "metadata": {},
   "source": [
    "## Preprocess all the data and save it\n",
    "Running the code cell below will preprocess all the data and save it to file."
   ]
  },
  {
   "cell_type": "code",
   "execution_count": 23,
   "metadata": {},
   "outputs": [
    {
     "ename": "NameError",
     "evalue": "name 'data_dir' is not defined",
     "output_type": "error",
     "traceback": [
      "\u001b[1;31m---------------------------------------------------------------------------\u001b[0m",
      "\u001b[1;31mNameError\u001b[0m                                 Traceback (most recent call last)",
      "\u001b[1;32m<ipython-input-23-56ccb96c9e1b>\u001b[0m in \u001b[0;36m<module>\u001b[1;34m()\u001b[0m\n\u001b[0;32m      3\u001b[0m \"\"\"\n\u001b[0;32m      4\u001b[0m \u001b[1;31m# Preprocess Training, Validation, and Testing Data\u001b[0m\u001b[1;33m\u001b[0m\u001b[1;33m\u001b[0m\u001b[0m\n\u001b[1;32m----> 5\u001b[1;33m \u001b[0mhelper\u001b[0m\u001b[1;33m.\u001b[0m\u001b[0mpreprocess_and_save_data\u001b[0m\u001b[1;33m(\u001b[0m\u001b[0mdata_dir\u001b[0m\u001b[1;33m,\u001b[0m \u001b[0mtoken_lookup\u001b[0m\u001b[1;33m,\u001b[0m \u001b[0mcreate_lookup_tables\u001b[0m\u001b[1;33m)\u001b[0m\u001b[1;33m\u001b[0m\u001b[0m\n\u001b[0m",
      "\u001b[1;31mNameError\u001b[0m: name 'data_dir' is not defined"
     ]
    }
   ],
   "source": [
    "\"\"\"\n",
    "DON'T MODIFY ANYTHING IN THIS CELL\n",
    "\"\"\"\n",
    "# Preprocess Training, Validation, and Testing Data\n",
    "helper.preprocess_and_save_data(data_dir, token_lookup, create_lookup_tables)"
   ]
  },
  {
   "cell_type": "markdown",
   "metadata": {},
   "source": [
    "# Check Point\n",
    "This is your first checkpoint. If you ever decide to come back to this notebook or have to restart the notebook, you can start from here. The preprocessed data has been saved to disk."
   ]
  },
  {
   "cell_type": "code",
   "execution_count": 1,
   "metadata": {
    "collapsed": true
   },
   "outputs": [],
   "source": [
    "\"\"\"\n",
    "DON'T MODIFY ANYTHING IN THIS CELL\n",
    "\"\"\"\n",
    "import helper\n",
    "import numpy as np\n",
    "import problem_unittests as tests\n",
    "\n",
    "int_text, vocab_to_int, int_to_vocab, token_dict = helper.load_preprocess()"
   ]
  },
  {
   "cell_type": "markdown",
   "metadata": {},
   "source": [
    "## Build the Neural Network\n",
    "You'll build the components necessary to build a RNN by implementing the following functions below:\n",
    "- get_inputs\n",
    "- get_init_cell\n",
    "- get_embed\n",
    "- build_rnn\n",
    "- build_nn\n",
    "- get_batches\n",
    "\n",
    "### Check the Version of TensorFlow and Access to GPU"
   ]
  },
  {
   "cell_type": "code",
   "execution_count": 2,
   "metadata": {},
   "outputs": [
    {
     "name": "stdout",
     "output_type": "stream",
     "text": [
      "TensorFlow Version: 1.2.1\n",
      "Default GPU Device: /gpu:0\n"
     ]
    }
   ],
   "source": [
    "\"\"\"\n",
    "DON'T MODIFY ANYTHING IN THIS CELL\n",
    "\"\"\"\n",
    "from distutils.version import LooseVersion\n",
    "import warnings\n",
    "import tensorflow as tf\n",
    "\n",
    "# Check TensorFlow Version\n",
    "assert LooseVersion(tf.__version__) >= LooseVersion('1.0'), 'Please use TensorFlow version 1.0 or newer'\n",
    "print('TensorFlow Version: {}'.format(tf.__version__))\n",
    "\n",
    "# Check for a GPU\n",
    "if not tf.test.gpu_device_name():\n",
    "    warnings.warn('No GPU found. Please use a GPU to train your neural network.')\n",
    "else:\n",
    "    print('Default GPU Device: {}'.format(tf.test.gpu_device_name()))"
   ]
  },
  {
   "cell_type": "markdown",
   "metadata": {},
   "source": [
    "### Input\n",
    "Implement the `get_inputs()` function to create TF Placeholders for the Neural Network.  It should create the following placeholders:\n",
    "- Input text placeholder named \"input\" using the [TF Placeholder](https://www.tensorflow.org/api_docs/python/tf/placeholder) `name` parameter.\n",
    "- Targets placeholder\n",
    "- Learning Rate placeholder\n",
    "\n",
    "Return the placeholders in the following tuple `(Input, Targets, LearningRate)`"
   ]
  },
  {
   "cell_type": "code",
   "execution_count": 3,
   "metadata": {},
   "outputs": [
    {
     "name": "stdout",
     "output_type": "stream",
     "text": [
      "Tests Passed\n"
     ]
    }
   ],
   "source": [
    "def get_inputs():\n",
    "    \"\"\"\n",
    "    Create TF Placeholders for input, targets, and learning rate.\n",
    "    :return: Tuple (input, targets, learning rate)\n",
    "    \"\"\"\n",
    "    # TODO: Implement Function\n",
    "    Input = tf.placeholder(tf.int32, [None, None], name='input')\n",
    "    Targets = tf.placeholder(tf.int32, [None, None], name='targets')\n",
    "    LearningRate = tf.placeholder(tf.int32, name='learning_rate')\n",
    "    return (Input, Targets, LearningRate)\n",
    "\n",
    "\n",
    "\"\"\"\n",
    "DON'T MODIFY ANYTHING IN THIS CELL THAT IS BELOW THIS LINE\n",
    "\"\"\"\n",
    "tests.test_get_inputs(get_inputs)"
   ]
  },
  {
   "cell_type": "markdown",
   "metadata": {},
   "source": [
    "### Build RNN Cell and Initialize\n",
    "Stack one or more [`BasicLSTMCells`](https://www.tensorflow.org/api_docs/python/tf/contrib/rnn/BasicLSTMCell) in a [`MultiRNNCell`](https://www.tensorflow.org/api_docs/python/tf/contrib/rnn/MultiRNNCell).\n",
    "- The Rnn size should be set using `rnn_size`\n",
    "- Initalize Cell State using the MultiRNNCell's [`zero_state()`](https://www.tensorflow.org/api_docs/python/tf/contrib/rnn/MultiRNNCell#zero_state) function\n",
    "    - Apply the name \"initial_state\" to the initial state using [`tf.identity()`](https://www.tensorflow.org/api_docs/python/tf/identity)\n",
    "\n",
    "Return the cell and initial state in the following tuple `(Cell, InitialState)`"
   ]
  },
  {
   "cell_type": "code",
   "execution_count": 4,
   "metadata": {},
   "outputs": [
    {
     "name": "stdout",
     "output_type": "stream",
     "text": [
      "Tests Passed\n"
     ]
    }
   ],
   "source": [
    "def get_init_cell(batch_size, rnn_size):\n",
    "    \"\"\"\n",
    "    Create an RNN Cell and initialize it.\n",
    "    :param batch_size: Size of batches\n",
    "    :param rnn_size: Size of RNNs\n",
    "    :return: Tuple (cell, initialize state)\n",
    "    \"\"\"\n",
    "    # TODO: Implement Function\n",
    "    \n",
    "    stacked_rnn = []\n",
    "    for iiLyr in range(rnn_size):\n",
    "        stacked_rnn.append(tf.nn.rnn_cell.LSTMCell(rnn_size))\n",
    "    \n",
    "    lstm = tf.contrib.rnn.BasicLSTMCell(rnn_size)\n",
    "    Cell = tf.contrib.rnn.MultiRNNCell(cells= stacked_rnn)\n",
    "    InitialState = Cell.zero_state(batch_size, tf.float32)\n",
    "    InitialState = tf.identity(InitialState, name='initial_state')\n",
    "    return (Cell, InitialState)\n",
    "\n",
    "\n",
    "\"\"\"\n",
    "DON'T MODIFY ANYTHING IN THIS CELL THAT IS BELOW THIS LINE\n",
    "\"\"\"\n",
    "tests.test_get_init_cell(get_init_cell)"
   ]
  },
  {
   "cell_type": "markdown",
   "metadata": {},
   "source": [
    "### Word Embedding\n",
    "Apply embedding to `input_data` using TensorFlow.  Return the embedded sequence."
   ]
  },
  {
   "cell_type": "code",
   "execution_count": 5,
   "metadata": {},
   "outputs": [
    {
     "name": "stdout",
     "output_type": "stream",
     "text": [
      "Tests Passed\n"
     ]
    }
   ],
   "source": [
    "def get_embed(input_data, vocab_size, embed_dim):\n",
    "    \"\"\"\n",
    "    Create embedding for <input_data>.\n",
    "    :param input_data: TF placeholder for text input.\n",
    "    :param vocab_size: Number of words in vocabulary.\n",
    "    :param embed_dim: Number of embedding dimensions\n",
    "    :return: Embedded input.\n",
    "    \"\"\"\n",
    "    # TODO: Implement Function\n",
    "    embedding = tf.Variable(tf.random_uniform((vocab_size, embed_dim), -1, 1))\n",
    "    embed = tf.nn.embedding_lookup(embedding, input_data)\n",
    "    return embed\n",
    "\n",
    "\n",
    "\"\"\"\n",
    "DON'T MODIFY ANYTHING IN THIS CELL THAT IS BELOW THIS LINE\n",
    "\"\"\"\n",
    "tests.test_get_embed(get_embed)"
   ]
  },
  {
   "cell_type": "markdown",
   "metadata": {},
   "source": [
    "### Build RNN\n",
    "You created a RNN Cell in the `get_init_cell()` function.  Time to use the cell to create a RNN.\n",
    "- Build the RNN using the [`tf.nn.dynamic_rnn()`](https://www.tensorflow.org/api_docs/python/tf/nn/dynamic_rnn)\n",
    " - Apply the name \"final_state\" to the final state using [`tf.identity()`](https://www.tensorflow.org/api_docs/python/tf/identity)\n",
    "\n",
    "Return the outputs and final_state state in the following tuple `(Outputs, FinalState)` "
   ]
  },
  {
   "cell_type": "code",
   "execution_count": 6,
   "metadata": {},
   "outputs": [
    {
     "name": "stdout",
     "output_type": "stream",
     "text": [
      "Tests Passed\n"
     ]
    }
   ],
   "source": [
    "def build_rnn(cell, inputs):\n",
    "    \"\"\"\n",
    "    Create a RNN using a RNN Cell\n",
    "    :param cell: RNN Cell\n",
    "    :param inputs: Input text data\n",
    "    :return: Tuple (Outputs, Final State)\n",
    "    \"\"\"\n",
    "    # TODO: Implement Function\n",
    "    # maybe add the initial state\n",
    "    (Outputs, FinalState) = tf.nn.dynamic_rnn(cell, inputs, dtype =tf.float32)\n",
    "    FinalState = tf.identity(FinalState, name='final_state')\n",
    "    return (Outputs, FinalState)\n",
    "\n",
    "\n",
    "\"\"\"\n",
    "DON'T MODIFY ANYTHING IN THIS CELL THAT IS BELOW THIS LINE\n",
    "\"\"\"\n",
    "tests.test_build_rnn(build_rnn)"
   ]
  },
  {
   "cell_type": "markdown",
   "metadata": {},
   "source": [
    "### Build the Neural Network\n",
    "Apply the functions you implemented above to:\n",
    "- Apply embedding to `input_data` using your `get_embed(input_data, vocab_size, embed_dim)` function.\n",
    "- Build RNN using `cell` and your `build_rnn(cell, inputs)` function.\n",
    "- Apply a fully connected layer with a linear activation and `vocab_size` as the number of outputs.\n",
    "\n",
    "Return the logits and final state in the following tuple (Logits, FinalState) "
   ]
  },
  {
   "cell_type": "code",
   "execution_count": 7,
   "metadata": {},
   "outputs": [
    {
     "name": "stdout",
     "output_type": "stream",
     "text": [
      "Tests Passed\n"
     ]
    }
   ],
   "source": [
    "def build_nn(cell, rnn_size, input_data, vocab_size, embed_dim):\n",
    "    \"\"\"\n",
    "    Build part of the neural network\n",
    "    :param cell: RNN cell\n",
    "    :param rnn_size: Size of rnns\n",
    "    :param input_data: Input data\n",
    "    :param vocab_size: Vocabulary size\n",
    "    :param embed_dim: Number of embedding dimensions\n",
    "    :return: Tuple (Logits, FinalState)\n",
    "    \"\"\"\n",
    "    # TODO: Implement Function\n",
    "    embedding = get_embed(input_data, vocab_size, embed_dim)\n",
    "    Outputs, FinalState = build_rnn(cell, embedding)\n",
    "    Logits = tf.contrib.layers.fully_connected(Outputs, vocab_size)\n",
    "    \n",
    "    return (Logits, FinalState)\n",
    "\n",
    "\n",
    "\"\"\"\n",
    "DON'T MODIFY ANYTHING IN THIS CELL THAT IS BELOW THIS LINE\n",
    "\"\"\"\n",
    "tests.test_build_nn(build_nn)"
   ]
  },
  {
   "cell_type": "markdown",
   "metadata": {},
   "source": [
    "### Batches\n",
    "Implement `get_batches` to create batches of input and targets using `int_text`.  The batches should be a Numpy array with the shape `(number of batches, 2, batch size, sequence length)`. Each batch contains two elements:\n",
    "- The first element is a single batch of **input** with the shape `[batch size, sequence length]`\n",
    "- The second element is a single batch of **targets** with the shape `[batch size, sequence length]`\n",
    "\n",
    "If you can't fill the last batch with enough data, drop the last batch.\n",
    "\n",
    "For exmple, `get_batches([1, 2, 3, 4, 5, 6, 7, 8, 9, 10, 11, 12, 13, 14, 15, 16, 17, 18, 19, 20], 3, 2)` would return a Numpy array of the following:\n",
    "```\n",
    "[\n",
    "  # First Batch\n",
    "  [\n",
    "    # Batch of Input\n",
    "    [[ 1  2], [ 7  8], [13 14]]\n",
    "    # Batch of targets\n",
    "    [[ 2  3], [ 8  9], [14 15]]\n",
    "  ]\n",
    "\n",
    "  # Second Batch\n",
    "  [\n",
    "    # Batch of Input\n",
    "    [[ 3  4], [ 9 10], [15 16]]\n",
    "    # Batch of targets\n",
    "    [[ 4  5], [10 11], [16 17]]\n",
    "  ]\n",
    "\n",
    "  # Third Batch\n",
    "  [\n",
    "    # Batch of Input\n",
    "    [[ 5  6], [11 12], [17 18]]\n",
    "    # Batch of targets\n",
    "    [[ 6  7], [12 13], [18  1]]\n",
    "  ]\n",
    "]\n",
    "```\n",
    "\n",
    "Notice that the last target value in the last batch is the first input value of the first batch. In this case, `1`. This is a common technique used when creating sequence batches, although it is rather unintuitive."
   ]
  },
  {
   "cell_type": "code",
   "execution_count": 8,
   "metadata": {},
   "outputs": [
    {
     "name": "stdout",
     "output_type": "stream",
     "text": [
      "Tests Passed\n"
     ]
    }
   ],
   "source": [
    "def get_batches(int_text, batch_size, seq_length):\n",
    "    \"\"\"\n",
    "    Return batches of input and target\n",
    "    :param int_text: Text with the words replaced by their ids\n",
    "    :param batch_size: The size of batch\n",
    "    :param seq_length: The length of sequence\n",
    "    :return: Batches as a Numpy array\n",
    "    \"\"\"\n",
    "\n",
    "    number_of_elements = seq_length * batch_size\n",
    "    n_batches = len(int_text)//number_of_elements\n",
    "\n",
    "    # TODO: Implement Function\n",
    "    batches = np.empty((n_batches, 2, batch_size, seq_length), dtype=np.int32)    \n",
    "    \n",
    "    int_text = np.array(int_text)\n",
    "    int_text = int_text[:n_batches*batch_size* seq_length]\n",
    "    int_text = int_text.reshape((batch_size, -1))\n",
    "\n",
    "    current_batch = 0;\n",
    "\n",
    "    for n in range(0, int_text.shape[1], seq_length):\n",
    "\n",
    "        if n+seq_length < int_text.shape[1] :\n",
    "            \n",
    "            x = int_text[:, n:n+seq_length]\n",
    "            y = np.zeros_like(x)\n",
    "            y[:, :-1], y[:, -1] = x[:, 1:], int_text[:,  n+seq_length]\n",
    "            batches[current_batch][0] = x;\n",
    "            batches[current_batch][1] = y;\n",
    "            current_batch = current_batch + 1\n",
    "           \n",
    "        if n+seq_length == int_text.shape[1] :\n",
    "            x = int_text[:, n:n+seq_length]\n",
    "            batches[current_batch][0] = x;\n",
    "            aux = batches[current_batch][0][int_text.shape[0]-1]\n",
    "            aux = aux[1:len(aux)]\n",
    "            aux = np.append(aux , batches[0,0,0,0])\n",
    "            batches[current_batch][1][int_text.shape[0] -1] = aux \n",
    "\n",
    "   \n",
    "    return batches\n",
    "\n",
    "\n",
    "\n",
    "\n",
    "\n",
    "\"\"\"\n",
    "DON'T MODIFY ANYTHING IN THIS CELL THAT IS BELOW THIS LINE\n",
    "\"\"\"\n",
    "tests.test_get_batches(get_batches)"
   ]
  },
  {
   "cell_type": "markdown",
   "metadata": {},
   "source": [
    "## Neural Network Training\n",
    "### Hyperparameters\n",
    "Tune the following parameters:\n",
    "\n",
    "- Set `num_epochs` to the number of epochs.\n",
    "- Set `batch_size` to the batch size.\n",
    "- Set `rnn_size` to the size of the RNNs.\n",
    "- Set `embed_dim` to the size of the embedding.\n",
    "- Set `seq_length` to the length of sequence.\n",
    "- Set `learning_rate` to the learning rate.\n",
    "- Set `show_every_n_batches` to the number of batches the neural network should print progress."
   ]
  },
  {
   "cell_type": "code",
   "execution_count": 9,
   "metadata": {
    "collapsed": true
   },
   "outputs": [],
   "source": [
    "# Number of Epochs\n",
    "num_epochs = 10\n",
    "# Batch Size\n",
    "batch_size = 20\n",
    "# RNN Size\n",
    "rnn_size = 20\n",
    "# Embedding Dimension Size\n",
    "embed_dim = 20\n",
    "# Sequence Length\n",
    "seq_length = 20\n",
    "# Learning Rate\n",
    "learning_rate = 0.1\n",
    "# Show stats for every n number of batches\n",
    "show_every_n_batches = 10\n",
    "\n",
    "# # Number of Epochs\n",
    "# num_epochs = 51\n",
    "# # Batch Size\n",
    "# batch_size = 100\n",
    "# # RNN Size\n",
    "# rnn_size = 550\n",
    "# # Embedding Dimension Size\n",
    "# embed_dim = 50\n",
    "# # Sequence Length\n",
    "# seq_length = 15\n",
    "# # Learning Rate\n",
    "# learning_rate = .01\n",
    "# # Show stats for every n number of batches\n",
    "# show_every_n_batches = 4\n",
    "\n",
    "\"\"\"\n",
    "DON'T MODIFY ANYTHING IN THIS CELL THAT IS BELOW THIS LINE\n",
    "\"\"\"\n",
    "save_dir = './save'"
   ]
  },
  {
   "cell_type": "markdown",
   "metadata": {},
   "source": [
    "### Build the Graph\n",
    "Build the graph using the neural network you implemented."
   ]
  },
  {
   "cell_type": "code",
   "execution_count": 10,
   "metadata": {
    "collapsed": true
   },
   "outputs": [],
   "source": [
    "\"\"\"\n",
    "DON'T MODIFY ANYTHING IN THIS CELL\n",
    "\"\"\"\n",
    "from tensorflow.contrib import seq2seq\n",
    "\n",
    "train_graph = tf.Graph()\n",
    "with train_graph.as_default():\n",
    "    vocab_size = len(int_to_vocab)\n",
    "    input_text, targets, lr = get_inputs()\n",
    "    input_data_shape = tf.shape(input_text)\n",
    "    cell, initial_state = get_init_cell(input_data_shape[0], rnn_size)\n",
    "    logits, final_state = build_nn(cell, rnn_size, input_text, vocab_size, embed_dim)\n",
    "\n",
    "    # Probabilities for generating words\n",
    "    probs = tf.nn.softmax(logits, name='probs')\n",
    "\n",
    "    # Loss function\n",
    "    cost = seq2seq.sequence_loss(\n",
    "        logits,\n",
    "        targets,\n",
    "        tf.ones([input_data_shape[0], input_data_shape[1]]))\n",
    "\n",
    "    # Optimizer\n",
    "    optimizer = tf.train.AdamOptimizer(lr)\n",
    "\n",
    "    # Gradient Clipping\n",
    "    gradients = optimizer.compute_gradients(cost)\n",
    "    capped_gradients = [(tf.clip_by_value(grad, -1., 1.), var) for grad, var in gradients if grad is not None]\n",
    "    train_op = optimizer.apply_gradients(capped_gradients)"
   ]
  },
  {
   "cell_type": "markdown",
   "metadata": {},
   "source": [
    "## Train\n",
    "Train the neural network on the preprocessed data.  If you have a hard time getting a good loss, check the [forums](https://discussions.udacity.com/) to see if anyone is having the same problem."
   ]
  },
  {
   "cell_type": "code",
   "execution_count": null,
   "metadata": {},
   "outputs": [
    {
     "name": "stdout",
     "output_type": "stream",
     "text": [
      "Epoch   0 Batch    0/172   train_loss = 8.822\n",
      "Epoch   0 Batch   10/172   train_loss = 8.822\n",
      "Epoch   0 Batch   20/172   train_loss = 8.822\n",
      "Epoch   0 Batch   30/172   train_loss = 8.822\n",
      "Epoch   0 Batch   40/172   train_loss = 8.822\n",
      "Epoch   0 Batch   50/172   train_loss = 8.822\n",
      "Epoch   0 Batch   60/172   train_loss = 8.822\n",
      "Epoch   0 Batch   70/172   train_loss = 8.822\n",
      "Epoch   0 Batch   80/172   train_loss = 8.822\n",
      "Epoch   0 Batch   90/172   train_loss = 8.822\n",
      "Epoch   0 Batch  100/172   train_loss = 8.822\n",
      "Epoch   0 Batch  110/172   train_loss = 8.822\n",
      "Epoch   0 Batch  120/172   train_loss = 8.822\n",
      "Epoch   0 Batch  130/172   train_loss = 8.822\n",
      "Epoch   0 Batch  140/172   train_loss = 8.822\n",
      "Epoch   0 Batch  150/172   train_loss = 8.822\n",
      "Epoch   0 Batch  160/172   train_loss = 8.822\n",
      "Epoch   0 Batch  170/172   train_loss = 8.822\n",
      "Epoch   1 Batch    8/172   train_loss = 8.822\n",
      "Epoch   1 Batch   18/172   train_loss = 8.822\n",
      "Epoch   1 Batch   28/172   train_loss = 8.822\n",
      "Epoch   1 Batch   38/172   train_loss = 8.822\n",
      "Epoch   1 Batch   48/172   train_loss = 8.822\n",
      "Epoch   1 Batch   58/172   train_loss = 8.822\n",
      "Epoch   1 Batch   68/172   train_loss = 8.822\n",
      "Epoch   1 Batch   78/172   train_loss = 8.822\n",
      "Epoch   1 Batch   88/172   train_loss = 8.822\n",
      "Epoch   1 Batch   98/172   train_loss = 8.822\n",
      "Epoch   1 Batch  108/172   train_loss = 8.822\n",
      "Epoch   1 Batch  118/172   train_loss = 8.822\n",
      "Epoch   1 Batch  128/172   train_loss = 8.822\n",
      "Epoch   1 Batch  138/172   train_loss = 8.822\n",
      "Epoch   1 Batch  148/172   train_loss = 8.822\n",
      "Epoch   1 Batch  158/172   train_loss = 8.822\n",
      "Epoch   1 Batch  168/172   train_loss = 8.822\n",
      "Epoch   2 Batch    6/172   train_loss = 8.822\n",
      "Epoch   2 Batch   16/172   train_loss = 8.822\n",
      "Epoch   2 Batch   26/172   train_loss = 8.822\n",
      "Epoch   2 Batch   36/172   train_loss = 8.822\n",
      "Epoch   2 Batch   46/172   train_loss = 8.822\n",
      "Epoch   2 Batch   56/172   train_loss = 8.822\n",
      "Epoch   2 Batch   66/172   train_loss = 8.822\n",
      "Epoch   2 Batch   76/172   train_loss = 8.822\n",
      "Epoch   2 Batch   86/172   train_loss = 8.822\n",
      "Epoch   2 Batch   96/172   train_loss = 8.822\n",
      "Epoch   2 Batch  106/172   train_loss = 8.822\n",
      "Epoch   2 Batch  116/172   train_loss = 8.822\n",
      "Epoch   2 Batch  126/172   train_loss = 8.822\n",
      "Epoch   2 Batch  136/172   train_loss = 8.822\n",
      "Epoch   2 Batch  146/172   train_loss = 8.822\n",
      "Epoch   2 Batch  156/172   train_loss = 8.822\n",
      "Epoch   2 Batch  166/172   train_loss = 8.822\n",
      "Epoch   3 Batch    4/172   train_loss = 8.822\n",
      "Epoch   3 Batch   14/172   train_loss = 8.822\n",
      "Epoch   3 Batch   24/172   train_loss = 8.822\n",
      "Epoch   3 Batch   34/172   train_loss = 8.822\n",
      "Epoch   3 Batch   44/172   train_loss = 8.822\n",
      "Epoch   3 Batch   54/172   train_loss = 8.822\n",
      "Epoch   3 Batch   64/172   train_loss = 8.822\n",
      "Epoch   3 Batch   74/172   train_loss = 8.822\n",
      "Epoch   3 Batch   84/172   train_loss = 8.822\n",
      "Epoch   3 Batch   94/172   train_loss = 8.822\n",
      "Epoch   3 Batch  104/172   train_loss = 8.822\n",
      "Epoch   3 Batch  114/172   train_loss = 8.822\n",
      "Epoch   3 Batch  124/172   train_loss = 8.822\n",
      "Epoch   3 Batch  134/172   train_loss = 8.822\n",
      "Epoch   3 Batch  144/172   train_loss = 8.822\n",
      "Epoch   3 Batch  154/172   train_loss = 8.822\n",
      "Epoch   3 Batch  164/172   train_loss = 8.822\n",
      "Epoch   4 Batch    2/172   train_loss = 8.822\n",
      "Epoch   4 Batch   12/172   train_loss = 8.822\n",
      "Epoch   4 Batch   22/172   train_loss = 8.822\n",
      "Epoch   4 Batch   32/172   train_loss = 8.822\n",
      "Epoch   4 Batch   42/172   train_loss = 8.822\n",
      "Epoch   4 Batch   52/172   train_loss = 8.822\n",
      "Epoch   4 Batch   62/172   train_loss = 8.822\n",
      "Epoch   4 Batch   72/172   train_loss = 8.822\n",
      "Epoch   4 Batch   82/172   train_loss = 8.822\n",
      "Epoch   4 Batch   92/172   train_loss = 8.822\n",
      "Epoch   4 Batch  102/172   train_loss = 8.822\n",
      "Epoch   4 Batch  112/172   train_loss = 8.822\n",
      "Epoch   4 Batch  122/172   train_loss = 8.822\n",
      "Epoch   4 Batch  132/172   train_loss = 8.822\n",
      "Epoch   4 Batch  142/172   train_loss = 8.822\n",
      "Epoch   4 Batch  152/172   train_loss = 8.822\n",
      "Epoch   4 Batch  162/172   train_loss = 8.822\n",
      "Epoch   5 Batch    0/172   train_loss = 8.822\n",
      "Epoch   5 Batch   10/172   train_loss = 8.822\n",
      "Epoch   5 Batch   20/172   train_loss = 8.822\n",
      "Epoch   5 Batch   30/172   train_loss = 8.822\n",
      "Epoch   5 Batch   40/172   train_loss = 8.822\n",
      "Epoch   5 Batch   50/172   train_loss = 8.822\n",
      "Epoch   5 Batch   60/172   train_loss = 8.822\n",
      "Epoch   5 Batch   70/172   train_loss = 8.822\n",
      "Epoch   5 Batch   80/172   train_loss = 8.822\n",
      "Epoch   5 Batch   90/172   train_loss = 8.822\n",
      "Epoch   5 Batch  100/172   train_loss = 8.822\n",
      "Epoch   5 Batch  110/172   train_loss = 8.822\n",
      "Epoch   5 Batch  120/172   train_loss = 8.822\n",
      "Epoch   5 Batch  130/172   train_loss = 8.822\n",
      "Epoch   5 Batch  140/172   train_loss = 8.822\n",
      "Epoch   5 Batch  150/172   train_loss = 8.822\n",
      "Epoch   5 Batch  160/172   train_loss = 8.822\n",
      "Epoch   5 Batch  170/172   train_loss = 8.822\n",
      "Epoch   6 Batch    8/172   train_loss = 8.822\n",
      "Epoch   6 Batch   18/172   train_loss = 8.822\n",
      "Epoch   6 Batch   28/172   train_loss = 8.822\n",
      "Epoch   6 Batch   38/172   train_loss = 8.822\n",
      "Epoch   6 Batch   48/172   train_loss = 8.822\n",
      "Epoch   6 Batch   58/172   train_loss = 8.822\n",
      "Epoch   6 Batch   68/172   train_loss = 8.822\n",
      "Epoch   6 Batch   78/172   train_loss = 8.822\n",
      "Epoch   6 Batch   88/172   train_loss = 8.822\n",
      "Epoch   6 Batch   98/172   train_loss = 8.822\n",
      "Epoch   6 Batch  108/172   train_loss = 8.822\n",
      "Epoch   6 Batch  118/172   train_loss = 8.822\n",
      "Epoch   6 Batch  128/172   train_loss = 8.822\n",
      "Epoch   6 Batch  138/172   train_loss = 8.822\n",
      "Epoch   6 Batch  148/172   train_loss = 8.822\n",
      "Epoch   6 Batch  158/172   train_loss = 8.822\n",
      "Epoch   6 Batch  168/172   train_loss = 8.822\n",
      "Epoch   7 Batch    6/172   train_loss = 8.822\n",
      "Epoch   7 Batch   16/172   train_loss = 8.822\n",
      "Epoch   7 Batch   26/172   train_loss = 8.822\n",
      "Epoch   7 Batch   36/172   train_loss = 8.822\n",
      "Epoch   7 Batch   46/172   train_loss = 8.822\n",
      "Epoch   7 Batch   56/172   train_loss = 8.822\n",
      "Epoch   7 Batch   66/172   train_loss = 8.822\n",
      "Epoch   7 Batch   76/172   train_loss = 8.822\n",
      "Epoch   7 Batch   86/172   train_loss = 8.822\n",
      "Epoch   7 Batch   96/172   train_loss = 8.822\n",
      "Epoch   7 Batch  106/172   train_loss = 8.822\n",
      "Epoch   7 Batch  116/172   train_loss = 8.822\n",
      "Epoch   7 Batch  126/172   train_loss = 8.822\n",
      "Epoch   7 Batch  136/172   train_loss = 8.822\n",
      "Epoch   7 Batch  146/172   train_loss = 8.822\n",
      "Epoch   7 Batch  156/172   train_loss = 8.822\n",
      "Epoch   7 Batch  166/172   train_loss = 8.822\n",
      "Epoch   8 Batch    4/172   train_loss = 8.822\n",
      "Epoch   8 Batch   14/172   train_loss = 8.822\n",
      "Epoch   8 Batch   24/172   train_loss = 8.822\n",
      "Epoch   8 Batch   34/172   train_loss = 8.822\n",
      "Epoch   8 Batch   44/172   train_loss = 8.822\n",
      "Epoch   8 Batch   54/172   train_loss = 8.822\n",
      "Epoch   8 Batch   64/172   train_loss = 8.822\n",
      "Epoch   8 Batch   74/172   train_loss = 8.822\n",
      "Epoch   8 Batch   84/172   train_loss = 8.822\n",
      "Epoch   8 Batch   94/172   train_loss = 8.822\n",
      "Epoch   8 Batch  104/172   train_loss = 8.822\n",
      "Epoch   8 Batch  114/172   train_loss = 8.822\n",
      "Epoch   8 Batch  124/172   train_loss = 8.822\n",
      "Epoch   8 Batch  134/172   train_loss = 8.822\n",
      "Epoch   8 Batch  144/172   train_loss = 8.822\n",
      "Epoch   8 Batch  154/172   train_loss = 8.822\n",
      "Epoch   8 Batch  164/172   train_loss = 8.822\n",
      "Epoch   9 Batch    2/172   train_loss = 8.822\n",
      "Epoch   9 Batch   12/172   train_loss = 8.822\n",
      "Epoch   9 Batch   22/172   train_loss = 8.822\n",
      "Epoch   9 Batch   32/172   train_loss = 8.822\n",
      "Epoch   9 Batch   42/172   train_loss = 8.822\n",
      "Epoch   9 Batch   52/172   train_loss = 8.822\n",
      "Epoch   9 Batch   62/172   train_loss = 8.822\n",
      "Epoch   9 Batch   72/172   train_loss = 8.822\n",
      "Epoch   9 Batch   82/172   train_loss = 8.822\n",
      "Epoch   9 Batch   92/172   train_loss = 8.822\n",
      "Epoch   9 Batch  102/172   train_loss = 8.822\n",
      "Epoch   9 Batch  112/172   train_loss = 8.822\n",
      "Epoch   9 Batch  122/172   train_loss = 8.822\n",
      "Epoch   9 Batch  132/172   train_loss = 8.822\n",
      "Epoch   9 Batch  142/172   train_loss = 8.822\n",
      "Epoch   9 Batch  152/172   train_loss = 8.822\n",
      "Epoch   9 Batch  162/172   train_loss = 8.822\n"
     ]
    }
   ],
   "source": [
    "\"\"\"\n",
    "DON'T MODIFY ANYTHING IN THIS CELL\n",
    "\"\"\"\n",
    "batches = get_batches(int_text, batch_size, seq_length)\n",
    "\n",
    "with tf.Session(graph=train_graph) as sess:\n",
    "    sess.run(tf.global_variables_initializer())\n",
    "\n",
    "    for epoch_i in range(num_epochs):\n",
    "        state = sess.run(initial_state, {input_text: batches[0][0]})\n",
    "\n",
    "        for batch_i, (x, y) in enumerate(batches):\n",
    "            feed = {\n",
    "                input_text: x,\n",
    "                targets: y,\n",
    "                initial_state: state,\n",
    "                lr: learning_rate}\n",
    "            train_loss, state, _ = sess.run([cost, final_state, train_op], feed)\n",
    "\n",
    "            # Show every <show_every_n_batches> batches\n",
    "            if (epoch_i * len(batches) + batch_i) % show_every_n_batches == 0:\n",
    "                print('Epoch {:>3} Batch {:>4}/{}   train_loss = {:.3f}'.format(\n",
    "                    epoch_i,\n",
    "                    batch_i,\n",
    "                    len(batches),\n",
    "                    train_loss))\n",
    "\n",
    "    # Save Model\n",
    "    saver = tf.train.Saver()\n",
    "    saver.save(sess, save_dir)\n",
    "    print('Model Trained and Saved')"
   ]
  },
  {
   "cell_type": "markdown",
   "metadata": {},
   "source": [
    "## Save Parameters\n",
    "Save `seq_length` and `save_dir` for generating a new TV script."
   ]
  },
  {
   "cell_type": "code",
   "execution_count": null,
   "metadata": {
    "collapsed": true
   },
   "outputs": [],
   "source": [
    "\"\"\"\n",
    "DON'T MODIFY ANYTHING IN THIS CELL\n",
    "\"\"\"\n",
    "# Save parameters for checkpoint\n",
    "helper.save_params((seq_length, save_dir))"
   ]
  },
  {
   "cell_type": "markdown",
   "metadata": {},
   "source": [
    "# Checkpoint"
   ]
  },
  {
   "cell_type": "code",
   "execution_count": 2,
   "metadata": {
    "collapsed": true
   },
   "outputs": [],
   "source": [
    "\"\"\"\n",
    "DON'T MODIFY ANYTHING IN THIS CELL\n",
    "\"\"\"\n",
    "import tensorflow as tf\n",
    "import numpy as np\n",
    "import helper\n",
    "import problem_unittests as tests\n",
    "\n",
    "_, vocab_to_int, int_to_vocab, token_dict = helper.load_preprocess()\n",
    "seq_length, load_dir = helper.load_params()"
   ]
  },
  {
   "cell_type": "markdown",
   "metadata": {},
   "source": [
    "## Implement Generate Functions\n",
    "### Get Tensors\n",
    "Get tensors from `loaded_graph` using the function [`get_tensor_by_name()`](https://www.tensorflow.org/api_docs/python/tf/Graph#get_tensor_by_name).  Get the tensors using the following names:\n",
    "- \"input:0\"\n",
    "- \"initial_state:0\"\n",
    "- \"final_state:0\"\n",
    "- \"probs:0\"\n",
    "\n",
    "Return the tensors in the following tuple `(InputTensor, InitialStateTensor, FinalStateTensor, ProbsTensor)` "
   ]
  },
  {
   "cell_type": "code",
   "execution_count": 3,
   "metadata": {},
   "outputs": [
    {
     "name": "stdout",
     "output_type": "stream",
     "text": [
      "Tests Passed\n"
     ]
    }
   ],
   "source": [
    "def get_tensors(loaded_graph):\n",
    "    \"\"\"\n",
    "    Get input, initial state, final state, and probabilities tensor from <loaded_graph>\n",
    "    :param loaded_graph: TensorFlow graph loaded from file\n",
    "    :return: Tuple (InputTensor, InitialStateTensor, FinalStateTensor, ProbsTensor)\n",
    "    \"\"\"\n",
    "    # TODO: Implement Function\n",
    "    InputTensor = loaded_graph.get_tensor_by_name(\"input:0\")\n",
    "    InitialStateTensor = loaded_graph.get_tensor_by_name(\"initial_state:0\")\n",
    "    FinalStateTensor = loaded_graph.get_tensor_by_name(\"final_state:0\")\n",
    "    ProbsTensor = loaded_graph.get_tensor_by_name(\"probs:0\")\n",
    "    return (InputTensor, InitialStateTensor, FinalStateTensor, ProbsTensor)\n",
    "\n",
    "\n",
    "\"\"\"\n",
    "DON'T MODIFY ANYTHING IN THIS CELL THAT IS BELOW THIS LINE\n",
    "\"\"\"\n",
    "tests.test_get_tensors(get_tensors)"
   ]
  },
  {
   "cell_type": "markdown",
   "metadata": {},
   "source": [
    "### Choose Word\n",
    "Implement the `pick_word()` function to select the next word using `probabilities`."
   ]
  },
  {
   "cell_type": "code",
   "execution_count": 14,
   "metadata": {},
   "outputs": [
    {
     "name": "stdout",
     "output_type": "stream",
     "text": [
      "[ 0.1   0.8   0.05  0.05]\n",
      "(array([1], dtype=int64),)\n",
      "{0: 'this', 1: 'is', 2: 'a', 3: 'test'}\n",
      "Tests Passed\n"
     ]
    }
   ],
   "source": [
    "def pick_word(probabilities, int_to_vocab):\n",
    "    \"\"\"\n",
    "    Pick the next word in the generated text\n",
    "    :param probabilities: Probabilites of the next word\n",
    "    :param int_to_vocab: Dictionary of word ids as the keys and words as the values\n",
    "    :return: String of the predicted word\n",
    "    \"\"\"\n",
    "    print(probabilities)\n",
    "    max_prob = probabilities.max(axis=0)\n",
    "    idx = np.where(probabilities == max_prob)\n",
    "    print(idx)\n",
    "    print(int_to_vocab)\n",
    "    # TODO: Implement Function\n",
    "    \n",
    "   \n",
    "    return int_to_vocab[np.concatenate(idx).tolist()[0]]\n",
    "\n",
    "\n",
    "\"\"\"\n",
    "DON'T MODIFY ANYTHING IN THIS CELL THAT IS BELOW THIS LINE\n",
    "\"\"\"\n",
    "tests.test_pick_word(pick_word)"
   ]
  },
  {
   "cell_type": "markdown",
   "metadata": {},
   "source": [
    "## Generate TV Script\n",
    "This will generate the TV script for you.  Set `gen_length` to the length of TV script you want to generate."
   ]
  },
  {
   "cell_type": "code",
   "execution_count": 15,
   "metadata": {},
   "outputs": [
    {
     "name": "stdout",
     "output_type": "stream",
     "text": [
      "INFO:tensorflow:Restoring parameters from ./save\n",
      "[[ 0.00014749  0.00014749  0.00014749 ...,  0.00014749  0.00014749\n",
      "   0.00014749]]\n",
      "(array([0, 0, 0, ..., 0, 0, 0], dtype=int64), array([   0,    1,    2, ..., 6777, 6778, 6779], dtype=int64))\n",
      "{0: '||period||', 1: '||new_line||', 2: '||comma||', 3: '||left_paren||', 4: '||right_paren||', 5: 'the', 6: 'i', 7: 'you', 8: '||exclamation_mark||', 9: 'moe_szyslak:', 10: '||question_mark||', 11: 'a', 12: 'homer_simpson:', 13: 'to', 14: 'and', 15: 'of', 16: 'my', 17: 'it', 18: 'that', 19: 'in', 20: '||quation_mark||', 21: 'me', 22: 'is', 23: 'this', 24: \"i'm\", 25: 'for', 26: 'your', 27: 'homer', 28: 'on', 29: 'hey', 30: 'moe', 31: 'oh', 32: 'no', 33: 'lenny_leonard:', 34: 'what', 35: 'with', 36: 'yeah', 37: 'all', 38: 'just', 39: 'like', 40: 'but', 41: 'barney_gumble:', 42: 'so', 43: 'be', 44: 'here', 45: 'carl_carlson:', 46: \"don't\", 47: 'have', 48: 'up', 49: \"it's\", 50: 'well', 51: 'out', 52: 'do', 53: 'was', 54: 'got', 55: 'are', 56: 'get', 57: 'we', 58: \"that's\", 59: 'uh', 60: 'one', 61: \"you're\", 62: 'not', 63: 'now', 64: 'know', 65: 'can', 66: '||dash||', 67: 'at', 68: 'right', 69: '/', 70: 'how', 71: 'if', 72: 'back', 73: 'marge_simpson:', 74: 'about', 75: 'from', 76: 'he', 77: 'go', 78: 'gonna', 79: 'there', 80: 'they', 81: 'beer', 82: 'good', 83: 'who', 84: 'an', 85: 'man', 86: 'okay', 87: 'his', 88: 'little', 89: 'as', 90: 'some', 91: \"can't\", 92: 'then', 93: 'never', 94: 'think', 95: 'come', 96: \"i'll\", 97: 'could', 98: \"i've\", 99: 'him', 100: 'want', 101: 'see', 102: 'look', 103: 'really', 104: 'too', 105: 'guys', 106: 'been', 107: 'make', 108: 'when', 109: 'why', 110: 'ya', 111: 'bar', 112: 'her', 113: 'did', 114: 'time', 115: 'say', 116: 'or', 117: 'marge', 118: 'ah', 119: 'gotta', 120: 'take', 121: 'into', 122: 'love', 123: 'down', 124: 'more', 125: 'our', 126: 'off', 127: 'am', 128: 'guy', 129: 'sure', 130: 'barney', 131: 'two', 132: \"there's\", 133: 'thing', 134: 'would', 135: 'lisa_simpson:', 136: \"we're\", 137: \"he's\", 138: 'big', 139: 'where', 140: 'had', 141: 'let', 142: 'need', 143: 'tell', 144: 'money', 145: 'bart_simpson:', 146: \"what's\", 147: 'sorry', 148: 'something', 149: 'us', 150: 'over', 151: 'drink', 152: 'by', 153: 'ever', 154: 'only', 155: 'way', 156: 'day', 157: 'will', 158: 'wait', 159: 'she', 160: 'chief_wiggum:', 161: 'even', 162: 'give', 163: 'new', 164: 'god', 165: 'huh', 166: \"i'd\", 167: \"ain't\", 168: \"didn't\", 169: 'those', 170: 'great', 171: 'people', 172: 'phone', 173: 'much', 174: 'life', 175: 'has', 176: 'maybe', 177: 'lenny', 178: \"moe's\", 179: 'were', 180: 'eh', 181: 'mean', 182: 'going', 183: 'than', 184: 'place', 185: 'mr', 186: 'wanna', 187: 'should', 188: 'still', 189: \"you've\", 190: 'around', 191: 'better', 192: 'these', 193: 'help', 194: \"'em\", 195: 'home', 196: 'old', 197: 'friend', 198: 'before', 199: 'night', 200: 'name', 201: 'please', 202: 'noise', 203: 'aw', 204: 'tv', 205: 'whoa', 206: 'seymour_skinner:', 207: 'last', 208: 'made', 209: 'any', 210: 'boy', 211: 'face', 212: 'duff', 213: 'drunk', 214: 'call', 215: 'three', 216: 'thanks', 217: \"'cause\", 218: 'put', 219: 'hello', 220: 'listen', 221: 'again', 222: 'looking', 223: 'bad', 224: 'car', 225: 'their', 226: 'very', 227: \"let's\", 228: 'first', 229: 'best', 230: 'yes', 231: 'does', 232: 'wow', 233: 'said', 234: 'another', 235: 'looks', 236: 'ooh', 237: 'them', 238: 'every', 239: 'while', 240: 'kent_brockman:', 241: 'apu_nahasapeemapetilon:', 242: 'guess', 243: 'other', 244: 'work', 245: 'wife', 246: 'years', 247: 'springfield', 248: 'sweet', 249: 'tonight', 250: 'singing', 251: 'feel', 252: 'play', 253: 'dad', 254: \"won't\", 255: 'after', 256: 'thought', 257: 'sobs', 258: 'dr', 259: \"they're\", 260: 'everybody', 261: 'find', 262: 'voice', 263: 'kids', 264: 'things', 265: 'buy', 266: 'might', 267: 'happy', 268: 'check', 269: 'minute', 270: 'shut', 271: 'girl', 272: 'beat', 273: 'since', 274: 'nice', 275: 'show', 276: 'keep', 277: 'head', 278: 'because', 279: 'world', 280: 'friends', 281: \"who's\", 282: 'sighs', 283: 'always', 284: 'chuckle', 285: 'lisa', 286: 'sings', 287: 'use', 288: 'bart', 289: 'which', 290: 'stupid', 291: \"you'll\", 292: \"isn't\", 293: 'someone', 294: 'kid', 295: 'krusty_the_clown:', 296: 'ow', 297: 'c', 298: 'carl', 299: 'laugh', 300: 'talk', 301: 'hundred', 302: 'anything', 303: \"here's\", 304: 'seen', 305: 'remember', 306: 'lot', 307: 'job', 308: 'hell', 309: 'laughs', 310: 'through', 311: 'simpson', 312: 'thank', 313: 'glass', 314: 'next', 315: 'chuckles', 316: 'believe', 317: 'away', 318: 'hope', 319: 'says', 320: 'hear', 321: 'woman', 322: 'happened', 323: 'matter', 324: 'kind', 325: 'house', 326: 'five', 327: 'pretty', 328: 'outta', 329: 'long', 330: \"nothin'\", 331: 'lost', 332: 'real', 333: \"homer's\", 334: 'fat', 335: 'ned_flanders:', 336: 'turn', 337: '_montgomery_burns:', 338: 'book', 339: 'tavern', 340: \"c'mon\", 341: 'stop', 342: 'four', 343: 'once', 344: 'nervous', 345: 'family', 346: 'wish', 347: 'waylon_smithers:', 348: 'comes', 349: 'grampa_simpson:', 350: \"goin'\", 351: 'business', 352: 'game', 353: 'wants', 354: 'idea', 355: 'wrong', 356: \"doin'\", 357: 'myself', 358: 'ask', 359: 'actually', 360: 'nobody', 361: 'getting', 362: 'today', 363: 'many', 364: \"wouldn't\", 365: 'loud', 366: \"comin'\", 367: 'used', 368: \"she's\", 369: \"we've\", 370: 'town', 371: 'duffman:', 372: 'enough', 373: 'done', 374: 'burns', 375: 'everything', 376: 'must', 377: 'problem', 378: 'party', 379: 'took', 380: 'reading', 381: 'hold', 382: 'gee', 383: 'watch', 384: 'doing', 385: 'sound', 386: 'try', 387: 'um', 388: 'bucks', 389: 'maggie', 390: 'na', 391: 'woo', 392: 'true', 393: 'sounds', 394: 'thinking', 395: 'dollars', 396: 'free', 397: 'nah', 398: 'edna', 399: 'pay', 400: 'under', 401: 'secret', 402: 'excuse', 403: 'pants', 404: 'makes', 405: 'sell', 406: 'most', 407: 'canyonero', 408: 'yourself', 409: 'gimme', 410: \"where's\", 411: 'beautiful', 412: 'kill', 413: 'care', 414: 'stuff', 415: 'wanted', 416: 'everyone', 417: 'being', 418: 'leave', 419: 'baby', 420: 'daughter', 421: 'kemi:', 422: 'chief', 423: 'dinner', 424: \"you'd\", 425: 'sad', 426: 'dead', 427: 'knew', 428: 'smithers', 429: 'hurt', 430: 'worry', 431: 'went', 432: 'pal', 433: 'left', 434: 'mouth', 435: 'quickly', 436: 'own', 437: 'pick', 438: 'tough', 439: 'points', 440: 'tipsy', 441: 'save', 442: 'saw', 443: 'told', 444: 'die', 445: 'hate', 446: 'heard', 447: 'gave', 448: 'tomorrow', 449: 'gets', 450: 'came', 451: 'booze', 452: 'eyes', 453: 'excited', 454: 'feeling', 455: 'sign', 456: 'hi', 457: 'drinking', 458: 'fine', 459: 'win', 460: 'break', 461: 'ladies', 462: 'school', 463: 'dog', 464: 'hoo', 465: 'camera', 466: 'till', 467: 'funny', 468: 'quit', 469: 'skinner', 470: 'small', 471: 'gasp', 472: 'flaming', 473: 'hand', 474: \"couldn't\", 475: 'gone', 476: 'twenty', 477: 'seven', 478: 'fight', 479: 'kinda', 480: 'loser', 481: 'mad', 482: 'alcohol', 483: 'kirk_van_houten:', 484: 'noises', 485: 'date', 486: 'without', 487: 'burn', 488: 'artie_ziff:', 489: 'krusty', 490: 'hands', 491: 'eat', 492: 'forget', 493: 'clean', 494: 'sir', 495: 'barflies:', 496: 'anyone', 497: 'loves', 498: 'fire', 499: 'super', 500: 'room', 501: 'easy', 502: 'drive', 503: 'million', 504: 'mom', 505: 'jacques:', 506: \"aren't\", 507: 'bring', 508: 'surprised', 509: 'calling', 510: 'read', 511: 'nuts', 512: 'cash', 513: 'bartender', 514: 'tape', 515: 'meet', 516: 'behind', 517: \"somethin'\", 518: 'called', 519: 'anyway', 520: \"doesn't\", 521: 'door', 522: 'coming', 523: 'happen', 524: 'problems', 525: \"wasn't\", 526: 'upset', 527: 'turns', 528: 'six', 529: 'gentlemen', 530: 'low', 531: 'course', 532: \"haven't\", 533: 'dear', 534: 'already', 535: \"y'know\", 536: 'trouble', 537: \"drinkin'\", 538: 'professor_jonathan_frink:', 539: 'sadly', 540: 'cut', 541: 'high', 542: \"lookin'\", 543: \"we'll\", 544: 'geez', 545: 'each', 546: 'chance', 547: \"talkin'\", 548: 'seymour', 549: ':', 550: 'works', 551: 'close', 552: 'm', 553: 'keys', 554: 'bar_rag:', 555: 'least', 556: 'ugly', 557: 'blame', 558: 'heart', 559: 'mmmm', 560: 'talking', 561: 'quiet', 562: 'larry:', 563: 'stand', 564: 'sing', 565: 'outside', 566: 'spend', 567: 'song', 568: 'end', 569: 'snake_jailbird:', 570: 'hot', 571: 'crazy', 572: 'disgusted', 573: 'change', 574: 'whole', 575: 'machine', 576: \"it'll\", 577: 'start', 578: 'moan', 579: 'realizing', 580: 'straight', 581: 'bottle', 582: 'stay', 583: 'hours', 584: 'dump', 585: 'live', 586: 'steal', 587: 'lady', 588: 'uh-oh', 589: 'fun', 590: 'sigh', 591: 'trying', 592: 'whatever', 593: 'worried', 594: 'the_rich_texan:', 595: 'learn', 596: 'war', 597: 'wiggum', 598: 'worse', 599: 'throat', 600: \"gettin'\", 601: 'self', 602: 'watching', 603: 'eye', 604: 'thinks', 605: 'police', 606: \"'bout\", 607: 'shocked', 608: 'anymore', 609: 'annoyed', 610: 'probably', 611: 'late', 612: 'second', 613: 'marriage', 614: 'crowd:', 615: 'may', 616: 'ten', 617: 'married', 618: \"shouldn't\", 619: 'lousy', 620: 'far', 621: 'young', 622: 'butt', 623: 'girls', 624: 'pull', 625: 'thousand', 626: 'alive', 627: 'poor', 628: 'gasps', 629: 'ma', 630: 'less', 631: 'turned', 632: 'heh', 633: 'apu', 634: 'bit', 635: 'such', 636: 'bowl', 637: 'either', 638: 'person', 639: 'barflies', 640: 'front', 641: 'times', 642: 'point', 643: 'special', 644: 'playing', 645: 'mother', 646: 'delete', 647: 'learned', 648: 'year', 649: 'whip', 650: 'tsk', 651: 'soon', 652: 'else', 653: 'goodbye', 654: 'light', 655: 'drinks', 656: 'blue', 657: 'joe', 658: 'stick', 659: 'greatest', 660: 'air', 661: 'morning', 662: 'private', 663: 'perfect', 664: 'jacques', 665: 'shot', 666: 'both', 667: 'lucky', 668: 'instead', 669: 'goodnight', 670: 'yet', 671: 'king', 672: 'cool', 673: 'eight', 674: 'american', 675: \"how'd\", 676: 'shotgun', 677: 'box', 678: 'alone', 679: 'barn', 680: 'pig', 681: 'lemme', 682: 'duffman', 683: 'arm', 684: 'ass', 685: 'blood', 686: 'patty_bouvier:', 687: 'taking', 688: 'knows', 689: 'picture', 690: 'kick', 691: 'throw', 692: 'tab', 693: 'join', 694: 'later', 695: 'open', 696: 'anybody', 697: 'minutes', 698: 'smell', 699: 'buddy', 700: 'boxing', 701: 'walk', 702: 'president', 703: 'nods', 704: 'found', 705: 'moron', 706: 'angry', 707: 'serious', 708: 'youse', 709: 'ticket', 710: 'exactly', 711: 'goes', 712: 'rev', 713: 'miss', 714: 'fifty', 715: 'mayor_joe_quimby:', 716: 'couple', 717: 'boys', 718: 'feet', 719: 'mind', 720: 'uh-huh', 721: 'card', 722: 'nothing', 723: 'christmas', 724: 'turning', 725: 'letter', 726: 'agnes_skinner:', 727: 'store', 728: 'beers', 729: 'dance', 730: \"kiddin'\", 731: 'japanese', 732: 'homie', 733: 'inside', 734: 'run', 735: 'sotto', 736: 'terrible', 737: 'alright', 738: 'table', 739: 'word', 740: 'english', 741: 'lucius:', 742: 'round', 743: 'fellas', 744: 'tap', 745: 'rummy', 746: 'ha', 747: 'scared', 748: 'pour', 749: \"makin'\", 750: 'walking', 751: 'hmm', 752: 'comic_book_guy:', 753: 'kiss', 754: 'young_marge:', 755: 'food', 756: 'screw', 757: 'move', 758: 'la', 759: 'together', 760: 'friendly', 761: 'number', 762: 'amazed', 763: 'top', 764: 'story', 765: 'sitting', 766: 'son', 767: 'making', 768: 'human', 769: 'cold', 770: 'dry', 771: 'welcome', 772: 'narrator:', 773: 'hang', 774: 'etc', 775: 'weird', 776: \"he'll\", 777: 'using', 778: 'favorite', 779: 'nine', 780: 'ahh', 781: 'collette:', 782: 'moans', 783: 'happier', 784: 'means', 785: 'proudly', 786: 'peanuts', 787: 'crap', 788: 'full', 789: 'himself', 790: 'accident', 791: 'warm_female_voice:', 792: 'smile', 793: 'renee:', 794: 'deal', 795: 'warmly', 796: 'huge', 797: 'paint', 798: 'seat', 799: 'ball', 800: 'finally', 801: 'o', 802: 'plus', 803: 'return', 804: 'somebody', 805: 'mrs', 806: 'damn', 807: 'black', 808: 'butts', 809: 'telling', 810: 'intrigued', 811: 'selma_bouvier:', 812: 'glove', 813: 'ned', 814: 'days', 815: 'advice', 816: 'plant', 817: '||semicolon||', 818: 'grampa', 819: 'send', 820: 'city', 821: 'wire', 822: 'broke', 823: 's', 824: \"ol'\", 825: 'street', 826: 'news', 827: 'fast', 828: 'forever', 829: 'eggs', 830: 'ready', 831: 'hide', 832: 'horrible', 833: 'channel', 834: 'words', 835: 'seems', 836: 'though', 837: 'losers', 838: 'afraid', 839: 'glad', 840: 'saying', 841: 'touched', 842: 'nigel_bakerbutcher:', 843: 'gold', 844: 'jukebox', 845: 'tune', 846: \"we'd\", 847: 'dangerous', 848: 'desperate', 849: 'heaven', 850: 'tony', 851: 'brought', 852: 'milk', 853: 'sips', 854: 'sex', 855: 'slow', 856: 'honey', 857: 'loved', 858: 'ice', 859: 'honest', 860: 'bow', 861: 'joey', 862: 'lying', 863: 'harv:', 864: 'stool', 865: 'worst', 866: 'smells', 867: 'charge', 868: 'hank_williams_jr', 869: 'thirty', 870: 'szyslak', 871: 'music', 872: 'hard', 873: 'treasure', 874: 'lowers', 875: 'bitter', 876: 'takes', 877: 'along', 878: 'impressed', 879: '_julius_hibbert:', 880: 'dunno', 881: 'power', 882: 'walther_hotenhoffer:', 883: 'maya:', 884: 'uncle', 885: 'health', 886: 'gumbel', 887: 'hair', 888: 'became', 889: 'numbers', 890: 'quick', 891: 'crack', 892: 'lou:', 893: 'laughing', 894: 'plastic', 895: 'giving', 896: 'shall', 897: 'eating', 898: 'invented', 899: 'al', 900: 'state', 901: 'fall', 902: 'dumb', 903: 'except', 904: 'tip', 905: 'bet', 906: 'principal', 907: 'fat_tony:', 908: 'seconds', 909: 'group', 910: 'belch', 911: 'truth', 912: 'pass', 913: 'star', 914: 'same', 915: 'across', 916: 'football_announcer:', 917: 'ones', 918: 'gives', 919: 'birthday', 920: 'sent', 921: 'rat', 922: 'flanders', 923: 'write', 924: 'early', 925: 'baseball', 926: 'health_inspector:', 927: 'hit', 928: 'normal', 929: 'class', 930: 'water', 931: 'set', 932: 'fill', 933: 'men', 934: 'holds', 935: 'omigod', 936: 'sick', 937: 'holding', 938: 'won', 939: 'half', 940: 'tinkle', 941: 'strong', 942: 'kent', 943: 'romantic', 944: 'lives', 945: 'forgot', 946: 'princess', 947: 'denver', 948: 'supposed', 949: 'manjula_nahasapeemapetilon:', 950: 'mister', 951: 'plan', 952: \"that'll\", 953: 'slap', 954: 'company', 955: 'admit', 956: 'week', 957: \"sayin'\", 958: 'bag', 959: 'safe', 960: 'young_homer:', 961: 'designated', 962: 'absolutely', 963: 'offended', 964: 'broad', 965: 'isotopes', 966: 'troll', 967: 'beloved', 968: 'x', 969: 'all:', 970: 'dame', 971: 'p', 972: \"how's\", 973: 'sunday', 974: 'announcer:', 975: 'lloyd:', 976: 'speak', 977: 'bender:', 978: 'asked', 979: 'jeez', 980: 'tv_wife:', 981: 'edna_krabappel-flanders:', 982: 'yea', 983: 'park', 984: 'cleaned', 985: 'sober', 986: 'dying', 987: 'needs', 988: 'drederick', 989: 'strap', 990: 'truck', 991: 'games', 992: 'soul', 993: 'dank', 994: 'calm', 995: 'brockman', 996: \"smokin'_joe_frazier:\", 997: '_hooper:', 998: 'children', 999: 'suddenly', 1000: 'horrified', 1001: 'wine', 1002: 'beach', 1003: 'fellow', 1004: 'speech', 1005: 'speaking', 1006: 'surgery', 1007: 'few', 1008: 'short', 1009: 'evening', 1010: 'punch', 1011: '_zander:', 1012: 'center', 1013: 'glasses', 1014: 'ashamed', 1015: 'yep', 1016: 'represent', 1017: 'mayor', 1018: 'unless', 1019: \"i'm-so-stupid\", 1020: \"guy's\", 1021: 'joint', 1022: 'doubt', 1023: 'suicide', 1024: 'women', 1025: 'ad', 1026: 'empty', 1027: 'customers', 1028: 'accent', 1029: 'i-i', 1030: 'catch', 1031: 'college', 1032: 'pity', 1033: \"drivin'\", 1034: 'exasperated', 1035: 'proud', 1036: 'swear', 1037: 'bee', 1038: 'sharps', 1039: 'cutting', 1040: 'adult_bart:', 1041: 'rope', 1042: 'names', 1043: 'artie', 1044: \"world's\", 1045: 'having', 1046: 'fingers', 1047: 'dallas', 1048: 'cheer', 1049: 'service', 1050: 'totally', 1051: 'mouse', 1052: 'clear', 1053: 'side', 1054: 'handsome', 1055: 'until', 1056: 'felt', 1057: 'stories', 1058: 'wonderful', 1059: 'tongue', 1060: 'pool', 1061: 'act', 1062: 'wallet', 1063: 'club', 1064: 'nein', 1065: 'puzzled', 1066: 'fish', 1067: 'cop', 1068: 'french', 1069: 'longer', 1070: 'ago', 1071: 'caught', 1072: 'testing', 1073: 'nineteen', 1074: 'coaster', 1075: 'wheel', 1076: 'pipe', 1077: 'jerks', 1078: 'chug', 1079: 'detective_homer_simpson:', 1080: 'quietly', 1081: 'wall', 1082: 'filthy', 1083: 'shaking', 1084: 'dude', 1085: 'favor', 1086: 'invited', 1087: 'survive', 1088: 'sob', 1089: \"he'd\", 1090: 'saved', 1091: 'wrote', 1092: 'deer', 1093: \"tryin'\", 1094: 'clears', 1095: 'part', 1096: 'hanging', 1097: 'driving', 1098: 'luck', 1099: 'confused', 1100: 'shirt', 1101: 'hospital', 1102: 'third', 1103: 'african', 1104: 'rest', 1105: 'government', 1106: 'tree', 1107: \"tellin'\", 1108: \"one's\", 1109: 'lord', 1110: 'closed', 1111: 'grand', 1112: 'cow', 1113: 'clown', 1114: 'lessons', 1115: 'wonder', 1116: 'writing', 1117: 'named', 1118: 'piece', 1119: \"sittin'\", 1120: 'mike', 1121: 'bank', 1122: 'brilliant', 1123: 'america', 1124: 'wha', 1125: 'running', 1126: \"callin'\", 1127: 'movie', 1128: \"lisa's\", 1129: 'tired', 1130: 'changing', 1131: 'sauce', 1132: 'cost', 1133: 'disappointed', 1134: 'mine', 1135: 'gay', 1136: 'counting', 1137: 'glen:', 1138: 'stunned', 1139: 'suit', 1140: 'biggest', 1141: 'jack', 1142: 'also', 1143: 'tv_husband:', 1144: 'red', 1145: 'thumb', 1146: 'treat', 1147: 'billy_the_kid:', 1148: 'hopeful', 1149: 'bed', 1150: 'selma', 1151: 'local', 1152: 'duh', 1153: 'nuclear', 1154: 'boring', 1155: 'jar', 1156: 'hated', 1157: \"workin'\", 1158: 'during', 1159: 'man:', 1160: 'none', 1161: 'window', 1162: 'chanting', 1163: 'daddy', 1164: 'pop', 1165: 'given', 1166: 'against', 1167: 'little_man:', 1168: 'lose', 1169: 'owe', 1170: 'babies', 1171: 'movies', 1172: 'stock', 1173: 'stagy', 1174: 'foibles', 1175: 'address', 1176: 'sister', 1177: 'adeleine', 1178: 'pit', 1179: 'threw', 1180: 'rather', 1181: 'folks', 1182: 'breath', 1183: \"watchin'\", 1184: 'fridge', 1185: 'sold', 1186: 'deep', 1187: 'rob', 1188: 'girlfriend', 1189: 'computer', 1190: 'u', 1191: 'video', 1192: 'eddie:', 1193: 'gotten', 1194: 'clearly', 1195: 'lips', 1196: 'pub', 1197: 'rich', 1198: \"valentine's\", 1199: 'dramatic', 1200: 'moment', 1201: 'teach', 1202: 'loaded', 1203: 're:', 1204: 'smiling', 1205: 'band', 1206: 'sobbing', 1207: 'professional', 1208: 'frustrated', 1209: 'ride', 1210: 'starts', 1211: 'belches', 1212: 'hungry', 1213: 'island', 1214: 'started', 1215: 'therapy', 1216: 'yard', 1217: 'liver', 1218: 'yellow', 1219: 'bill', 1220: 'senator', 1221: 'kidding', 1222: 'woman:', 1223: \"what'll\", 1224: \"bein'\", 1225: 'pointed', 1226: 'agent', 1227: 'question', 1228: 'snake', 1229: 'trip', 1230: 'tom', 1231: 'nose', 1232: 'seem', 1233: 'needed', 1234: 'partner', 1235: 'field', 1236: 'market', 1237: 'respect', 1238: 'pulls', 1239: 'yesterday', 1240: 'flowers', 1241: \"they've\", 1242: 'hurry', 1243: 'forget-me-shot', 1244: \"moe's_thoughts:\", 1245: \"carl's\", 1246: 'twelve', 1247: 'knock', 1248: 'offer', 1249: 'hero', 1250: 'finding', 1251: 'weekly', 1252: 'amanda', 1253: 'burt', 1254: 'buffalo', 1255: 'test', 1256: \"livin'\", 1257: 'pleased', 1258: 'eleven', 1259: 'whaddaya', 1260: 'sees', 1261: 'castle', 1262: 'burp', 1263: 'minimum', 1264: 'bees', 1265: 'thoughtful', 1266: 'jerk', 1267: 'monster', 1268: 'arms', 1269: 'hans:', 1270: 'dennis_conroy:', 1271: 'answer', 1272: 'championship', 1273: 'twins', 1274: \"o'clock\", 1275: 'gas', 1276: 'busy', 1277: 'tail', 1278: 'sense', 1279: 'ooo', 1280: 'arrest', 1281: 'mug', 1282: 'fbi', 1283: 'neck', 1284: 'restaurant', 1285: \"everyone's\", 1286: 'brain', 1287: 'train', 1288: 'coat', 1289: 'procedure', 1290: 'stillwater:', 1291: 'whisper', 1292: 'egg', 1293: \"today's\", 1294: 'almost', 1295: 'sits', 1296: 'husband', 1297: 'pickled', 1298: 'south', 1299: 'chick', 1300: 'ahead', 1301: \"dad's\", 1302: 'correct', 1303: 'wear', 1304: 'meeting', 1305: 'fan', 1306: 'betty:', 1307: 'illegal', 1308: 'lotta', 1309: 'closing', 1310: 'polite', 1311: 'drivers', 1312: 'pipes', 1313: 'scream', 1314: 'ominous', 1315: 'secrets', 1316: 'forty', 1317: 'heavyweight', 1318: 'father', 1319: 'cover', 1320: 'whee', 1321: 'france', 1322: 'cares', 1323: 'selling', 1324: 'sexy', 1325: 'dollar', 1326: 'chocolate', 1327: 'embarrassed', 1328: 'distraught', 1329: 'different', 1330: 'wally:', 1331: 'upbeat', 1332: 'domestic', 1333: 'bye', 1334: 'hm', 1335: 'amid', 1336: 'beauty', 1337: 'legs', 1338: 'able', 1339: 'hoping', 1340: 'pulled', 1341: 'case', 1342: 'couch', 1343: 'shows', 1344: 'ourselves', 1345: 'keeps', 1346: 'declan_desmond:', 1347: 'understand', 1348: 'ruined', 1349: 'match', 1350: 'pain', 1351: 'sports', 1352: 'flips', 1353: 'ivana', 1354: 'explaining', 1355: 'cries', 1356: 'david_byrne:', 1357: 'new_health_inspector:', 1358: 'follow', 1359: 'pickle', 1360: 'ingredient', 1361: 'fifteen', 1362: 'line', 1363: 'career', 1364: 'especially', 1365: 'amazing', 1366: \"buyin'\", 1367: 'flower', 1368: 'months', 1369: 'boat', 1370: 'original', 1371: 'sly', 1372: 'garbage', 1373: 'figured', 1374: 'character', 1375: 'vance', 1376: 'buttons', 1377: 'feels', 1378: 'clothes', 1379: 'quite', 1380: 'precious', 1381: 'hits', 1382: 'burps', 1383: 'meaningful', 1384: 'hugh:', 1385: 'smooth', 1386: 'whiny', 1387: 'radishes', 1388: 'teenage_barney:', 1389: 'cable', 1390: 'plow', 1391: 'furious', 1392: 'calls', 1393: 'huggenkiss', 1394: 'raises', 1395: 'fix', 1396: 'yap', 1397: 'died', 1398: 'magic', 1399: 'finger', 1400: 'gin', 1401: 'lie', 1402: 'dang', 1403: 'situation', 1404: 'usually', 1405: 'blow', 1406: 'rag', 1407: 'rotch', 1408: 'dan_gillick:', 1409: 'books', 1410: 'opportunity', 1411: 'sincere', 1412: 'ken:', 1413: 'working', 1414: 'billboard', 1415: 'body', 1416: 'drug', 1417: 'teenage_bart:', 1418: 'sheepish', 1419: 'road', 1420: 'sit', 1421: 'grim', 1422: 'stirring', 1423: 'bald', 1424: 'spot', 1425: 'bars', 1426: 'awkward', 1427: 'bottom', 1428: 'sarcastic', 1429: 'enjoy', 1430: \"who'll\", 1431: 'senators', 1432: 'milhouse_van_houten:', 1433: 'tatum', 1434: 'guns', 1435: \"o'problem\", 1436: 'pitcher', 1437: 'choice', 1438: 'renee', 1439: 'recommend', 1440: 'l', 1441: 'struggling', 1442: 'grabbing', 1443: 'driver', 1444: 'puke', 1445: 'middle', 1446: 'sec_agent_#1:', 1447: 'rub', 1448: 'mafia', 1449: 'bus', 1450: 'shove', 1451: 'unison', 1452: '_kissingher:', 1453: 'likes', 1454: 'threatening', 1455: 'gary:', 1456: \"wife's\", 1457: \"bart's\", 1458: 'pardon', 1459: 'covers', 1460: 'sisters', 1461: 'popular', 1462: 'saturday', 1463: 'boo', 1464: 'staying', 1465: 'pocket', 1466: 'reads', 1467: 'defensive', 1468: 'mudflap', 1469: 'cheap', 1470: 'snort', 1471: 'license', 1472: 'sadistic_barfly:', 1473: 'trust', 1474: 'image', 1475: 'stole', 1476: 'chinese', 1477: 'summer', 1478: 'single', 1479: 'bunch', 1480: 'sucked', 1481: 'lonely', 1482: 'wooooo', 1483: 'ancient', 1484: 'der', 1485: 'root', 1486: 'kept', 1487: 'text', 1488: 'shape', 1489: 'spanish', 1490: 'searching', 1491: 'floor', 1492: 'moments', 1493: 'crime', 1494: 'perhaps', 1495: 'crowd', 1496: 'mistake', 1497: 'knowing', 1498: 'enemy', 1499: 'program', 1500: 'kissing', 1501: 'wiener', 1502: 'coach:', 1503: 'traffic', 1504: 'pointing', 1505: 'guest', 1506: 'leans', 1507: 'hunter', 1508: 'bike', 1509: 'alley', 1510: 'chest', 1511: 'seeing', 1512: 'spending', 1513: 'pfft', 1514: 'fault', 1515: 'met', 1516: 'checking', 1517: \"gentleman's\", 1518: 'stayed', 1519: 'double', 1520: 'fact', 1521: 'rough', 1522: \"they'll\", 1523: 'comfortable', 1524: 'entire', 1525: 'fool', 1526: 'sec', 1527: 'brains', 1528: 'fever', 1529: 'cough', 1530: 'aside', 1531: 'feelings', 1532: 'film', 1533: 'scene', 1534: 'sniffles', 1535: 'fritz:', 1536: 'rats', 1537: 'extra', 1538: 'bitterly', 1539: 'leg', 1540: 'tips', 1541: 'peace', 1542: \"barney's\", 1543: 'awful', 1544: 'who-o-oa', 1545: 'evil', 1546: 'jack_larson:', 1547: 'literature', 1548: 'clone', 1549: 'tastes', 1550: 'born', 1551: 'modern', 1552: 'celebrities', 1553: 'incredulous', 1554: 'its', 1555: 'drop', 1556: 'prime', 1557: 'harv', 1558: 'bought', 1559: 'finest', 1560: 'ridiculous', 1561: 'shoot', 1562: 'miserable', 1563: 'sniffs', 1564: 'ruin', 1565: 'fair', 1566: 'upon', 1567: 'careful', 1568: 'clientele', 1569: 'hour', 1570: 'singers:', 1571: 'become', 1572: 'k', 1573: 'step', 1574: 'british', 1575: 'tells', 1576: 'mechanical', 1577: 'f', 1578: 'bright', 1579: 'puff', 1580: 'compliment', 1581: 'toasting', 1582: 'wearing', 1583: 'natural', 1584: 'hall', 1585: 'touchdown', 1586: 'whatcha', 1587: 'heads', 1588: 'jail', 1589: 'inspector', 1590: 'subject', 1591: 'panicky', 1592: 'doors', 1593: 'covering', 1594: 'har', 1595: 'concerned', 1596: 'sleep', 1597: 'kermit', 1598: 'label', 1599: 'reason', 1600: \"where'd\", 1601: 'killed', 1602: 'season', 1603: 'cheers', 1604: 'gently', 1605: 'customer', 1606: 'andy', 1607: 'lindsay_naegle:', 1608: 'twenty-two', 1609: 'mel', 1610: 'inspection', 1611: 'bret:', 1612: 'al_gore:', 1613: 'odd', 1614: 'lately', 1615: 'indignant', 1616: \"could've\", 1617: 'spoken', 1618: 'jesus', 1619: 'fork', 1620: 'troy:', 1621: \"seein'\", 1622: 'death', 1623: 'vegas', 1624: 'greystash', 1625: 'frink', 1626: 'oil', 1627: 'suck', 1628: 'stools', 1629: 'rid', 1630: 'consider', 1631: 'cocktail', 1632: 'vomit', 1633: 'exhaust', 1634: 'milhouse', 1635: 'thankful', 1636: 'dive', 1637: 'crummy', 1638: 'knocked', 1639: 'fly', 1640: 'ground', 1641: 'sexual', 1642: 'opening', 1643: 'brother', 1644: \"'til\", 1645: '&', 1646: 'drunks', 1647: 'hurts', 1648: 'afford', 1649: 'texas', 1650: 'turkey', 1651: 'form', 1652: 'teeth', 1653: 'tradition', 1654: 'crawl', 1655: \"ridin'\", 1656: 'sometime', 1657: 'afternoon', 1658: 'gary_chalmers:', 1659: 'delicious', 1660: 'ã€', 1661: 'pissed', 1662: 'worked', 1663: 'cannot', 1664: 'endorse', 1665: 'james', 1666: 'spit', 1667: '_timothy_lovejoy:', 1668: 'taken', 1669: 'higher', 1670: 'nards', 1671: 'weak', 1672: 'talk-sings', 1673: 'slip', 1674: 'sweetly', 1675: 'public', 1676: 'letters', 1677: 'cigarette', 1678: 'attention', 1679: 'ordered', 1680: 'glen', 1681: 'religion', 1682: 'order', 1683: 'enemies', 1684: 'toilet', 1685: 'general', 1686: 'noticing', 1687: 'banks', 1688: 'coney', 1689: 'register', 1690: 'toss', 1691: 'terrified', 1692: 'delighted', 1693: 'looked', 1694: 'happily', 1695: 'exit', 1696: \"they'd\", 1697: 'paris', 1698: 'above', 1699: 'marvin', 1700: 'focus', 1701: \"year's\", 1702: 'grunts', 1703: 'nobel', 1704: 'motel', 1705: 'crank', 1706: 'stadium', 1707: 'woo-hoo', 1708: 'dynamite', 1709: 'gift', 1710: 'international', 1711: 'weeks', 1712: 'following', 1713: 'nation', 1714: 'theater', 1715: 'bite', 1716: 'then:', 1717: 'toward', 1718: 'glum', 1719: 'severe', 1720: 'corner', 1721: 'sixty-nine', 1722: 'cents', 1723: 'understanding', 1724: 'scotch', 1725: 'finished', 1726: 'hilarious', 1727: 'church', 1728: 'jump', 1729: 'gag', 1730: 'pained', 1731: 'midge', 1732: 'scum', 1733: 'barney-shaped_form:', 1734: 'pause', 1735: 'fumes', 1736: 'hole', 1737: 'tears', 1738: 'team', 1739: 'embarrassing', 1740: 'pays', 1741: 'size', 1742: 'thoughts', 1743: 'scam', 1744: 'palmerston', 1745: 'expect', 1746: 'election', 1747: 'cards', 1748: \"lenny's\", 1749: 'midnight', 1750: 'whose', 1751: \"stinkin'\", 1752: 'spinning', 1753: 'checks', 1754: 'pathetic', 1755: 'hmmm', 1756: 'toys', 1757: 'ring', 1758: 'jamaican', 1759: 'pageant', 1760: 'flatly', 1761: 'reminds', 1762: 'accept', 1763: 'salad', 1764: 'walks', 1765: 'age', 1766: 'bob', 1767: 'pockets', 1768: 'grow', 1769: 'uneasy', 1770: 'hiya', 1771: 'somewhere', 1772: 'system', 1773: 'fourth', 1774: 'future', 1775: 'bless', 1776: 'unlike', 1777: 'ziffcorp', 1778: 'history', 1779: 'uncomfortable', 1780: 'hug', 1781: 'share', 1782: 'dirt', 1783: 'push', 1784: 'anniversary', 1785: 'book_club_member:', 1786: 'raising', 1787: 'unlucky', 1788: 'sadder', 1789: 'screams', 1790: 'workers', 1791: 'ohmygod', 1792: 'german', 1793: 'holiday', 1794: 'lots', 1795: 'relax', 1796: 'teenage', 1797: 'breaking', 1798: 'changed', 1799: 'starting', 1800: 'coffee', 1801: 'twenty-five', 1802: 'serve', 1803: 'moved', 1804: 'closer', 1805: 'past', 1806: 'darts', 1807: 'grabs', 1808: 'kwik-e-mart', 1809: \"i-i'm\", 1810: 'source', 1811: 'invite', 1812: 'accurate', 1813: 'yee-haw', 1814: 'yo', 1815: 'wayne:', 1816: 'grunt', 1817: 'army', 1818: 'idiot', 1819: 'aww', 1820: 'dressed', 1821: 'switch', 1822: 'feed', 1823: 'fireball', 1824: 'campaign', 1825: 'corpses', 1826: 'suppose', 1827: 'shares', 1828: \"c'mere\", 1829: 'challenge', 1830: 'military', 1831: 'loan', 1832: 'law', 1833: \"men's\", 1834: 'jolly', 1835: 'kang:', 1836: 'directions', 1837: 'complete', 1838: 'men:', 1839: 'cameras', 1840: 'frankly', 1841: 'powerful', 1842: 'r', 1843: 'ran', 1844: 'fancy', 1845: 'mock', 1846: 'tried', 1847: 'belly', 1848: 'losing', 1849: 'casual', 1850: 'meant', 1851: 'beginning', 1852: 'per', 1853: 'elder', 1854: \"kids'\", 1855: 'backwards', 1856: 'prank', 1857: 'list', 1858: 'foot', 1859: 'roll', 1860: 'button', 1861: \"havin'\", 1862: 'despite', 1863: 'played', 1864: 'buying', 1865: 'bowling', 1866: 'bar-boy', 1867: \"robbin'\", 1868: 'peach', 1869: 'snaps', 1870: 'cute', 1871: 'junior', 1872: 'child', 1873: 'operation', 1874: 'diet', 1875: 'gal', 1876: 'ho', 1877: 'keeping', 1878: 'fans', 1879: 'tv_father:', 1880: 'wasting', 1881: 'showing', 1882: '_babcock:', 1883: 'paying', 1884: 'wipe', 1885: 'stopped', 1886: 'edison', 1887: 'anguished', 1888: 'innocent', 1889: 'burning', 1890: 'parking', 1891: 'lottery', 1892: 'wide', 1893: 'pats', 1894: 'hates', 1895: 'fraud', 1896: 'helicopter', 1897: 'imagine', 1898: 'peter', 1899: 'dancing', 1900: 'champ', 1901: 'taps', 1902: 'blood-thirsty', 1903: 'giggles', 1904: 'delivery_boy:', 1905: 'sale', 1906: 'tentative', 1907: 'fox', 1908: 'thesaurus', 1909: 'satisfaction', 1910: 'familiar', 1911: 'bourbon', 1912: 'dan', 1913: 'dress', 1914: 'laws', 1915: 'jebediah', 1916: 'motorcycle', 1917: 'comic', 1918: 'fausto', 1919: 'bartenders', 1920: 'poem', 1921: \"'topes\", 1922: 'eyeball', 1923: 'riding', 1924: 'space', 1925: 'product', 1926: 'shoo', 1927: 'flying', 1928: 'between', 1929: \"'im\", 1930: 'rap', 1931: 'judge', 1932: 'brewed', 1933: 'talked', 1934: 'steel', 1935: 'beats', 1936: 'stinks', 1937: 'bears', 1938: 'mm', 1939: 'granted', 1940: 'bastard', 1941: 'nope', 1942: 'curds', 1943: 'director', 1944: 'poet', 1945: 'feast', 1946: 'bret', 1947: 'hotline', 1948: 'possibly', 1949: 'hats', 1950: \"showin'\", 1951: '100', 1952: 'utility', 1953: 'caused', 1954: 'anarchy', 1955: 'cola', 1956: 'windex', 1957: 'tenor:', 1958: 'boxer', 1959: 'sudden', 1960: 'ayyy', 1961: 'highway', 1962: 'brow', 1963: 'civic', 1964: 'choking', 1965: 'disco', 1966: 'frog', 1967: 'plum', 1968: 'carll', 1969: 'charm', 1970: \"town's\", 1971: 'voice_on_transmitter:', 1972: 'snorts', 1973: 'pian-ee', 1974: 'wordloaf', 1975: 'bathroom', 1976: 'floated', 1977: 'henry', 1978: 'victory', 1979: 'paid', 1980: 'friendship', 1981: 'internet', 1982: 'nigerian', 1983: \"cat's\", 1984: 'falcons', 1985: 'beating', 1986: 'murmurs', 1987: 'mmm', 1988: 'aggravated', 1989: 'courage', 1990: 'slightly', 1991: 'cream', 1992: 'yoo', 1993: 'bush', 1994: 'wayne', 1995: 'underpants', 1996: 'considering', 1997: 'guide', 1998: 'unfortunately', 1999: \"drawin'\", 2000: 'weirder', 2001: 'dough', 2002: 'organ', 2003: 'continuing', 2004: 'murmur', 2005: 'chase', 2006: 'insulted', 2007: 'patient', 2008: 'sodas', 2009: 'pitch', 2010: 'skeptical', 2011: 'eighty-one', 2012: 'disgrace', 2013: 'linda', 2014: 'joke', 2015: 'germs', 2016: 'koholic', 2017: 'bully', 2018: \"ma'am\", 2019: 'famous', 2020: 'alfalfa', 2021: 'snow', 2022: 'rainier_wolfcastle:', 2023: 'color', 2024: 'industry', 2025: 'suspect', 2026: 'slight', 2027: 'male_inspector:', 2028: 'porn', 2029: 'chicks', 2030: 'tick', 2031: 'aging', 2032: 'liar', 2033: 'honor', 2034: 'neat', 2035: 'rules', 2036: 'lush', 2037: 'european', 2038: 'sweeter', 2039: 'rock', 2040: 'lap', 2041: 'bridge', 2042: 'cops', 2043: 'manjula', 2044: \"readin'\", 2045: 'bartending', 2046: 'barely', 2047: 'schnapps', 2048: 'amount', 2049: 'dating', 2050: 'loss', 2051: 'bubbles', 2052: 'hangs', 2053: 'thirteen', 2054: 'products', 2055: 'extremely', 2056: 'proposing', 2057: 'seas', 2058: 'solid', 2059: 'alcoholic', 2060: 'academy', 2061: 'expert', 2062: 'medicine', 2063: 'smoke', 2064: 'lucius', 2065: 'sat', 2066: 'comedy', 2067: 'restaurants', 2068: \"fallin'\", 2069: 'forgive', 2070: 'mixed', 2071: 'un-sults', 2072: 'wa', 2073: \"pope's\", 2074: 'coins', 2075: 'promised', 2076: 'sinister', 2077: 'bedbugs', 2078: 'reserve', 2079: 'forehead', 2080: 'drank', 2081: 'lise:', 2082: 'kicked', 2083: 'discuss', 2084: 'record', 2085: 'ech', 2086: 'playful', 2087: 'irish', 2088: 'fudd', 2089: 'jeff', 2090: 'carl:', 2091: 'heavyset', 2092: 'mcbain', 2093: 'wolfe', 2094: 'ale', 2095: 'seriously', 2096: 'dee-fense', 2097: 'railroad', 2098: 'wooden', 2099: 'minister', 2100: 'mic', 2101: \"beer's\", 2102: 'nigeria', 2103: 'cozy', 2104: 'fabulous', 2105: 'rage', 2106: 'museum', 2107: 'violations', 2108: 'helen', 2109: 'busted', 2110: 'lovely', 2111: 'wedding', 2112: 'dames', 2113: 'sandwich', 2114: 'shooting', 2115: 'warily', 2116: 'helllp', 2117: 'patty', 2118: 'distributor', 2119: 'roses', 2120: 'marguerite:', 2121: 'clock', 2122: 'grienke', 2123: 'thru', 2124: 'ironed', 2125: 'radio', 2126: 'scrape', 2127: 'easier', 2128: 'excellent', 2129: \"patrick's\", 2130: 'all-star', 2131: 'grade', 2132: 'witty', 2133: 'befouled', 2134: 'jerky', 2135: 'ragtime', 2136: 'morose', 2137: 'kramer', 2138: 'somehow', 2139: 'cowboys', 2140: 'impatient', 2141: 'kidney', 2142: 'contest', 2143: 'queen', 2144: 'strategy', 2145: 'boozy', 2146: 'fuss', 2147: 'stuck', 2148: 'inflated', 2149: 'watered-down', 2150: 'sitar', 2151: 'sport', 2152: 'anywhere', 2153: 'exchange', 2154: 'yelling', 2155: 'troy_mcclure:', 2156: 'answering', 2157: 'blown', 2158: 'benefits', 2159: 'smallest', 2160: '1895', 2161: 'admiring', 2162: 'bible', 2163: 'troy', 2164: 'sissy', 2165: 'writers', 2166: 'sometimes', 2167: 'so-called', 2168: 'seats', 2169: 'harder', 2170: 'deadly', 2171: 'deserve', 2172: 'inspired', 2173: 'barkeep', 2174: 'spent', 2175: 'pond', 2176: 'pad', 2177: 'appointment', 2178: 'memories', 2179: 'teddy', 2180: \"monroe's\", 2181: 'correcting', 2182: 'multiple', 2183: 'large', 2184: 'foil', 2185: 'waltz', 2186: 'barf', 2187: 'regret', 2188: 'fanciest', 2189: 'stationery', 2190: 'dismissive', 2191: 'candy', 2192: 'ways', 2193: 'pointless', 2194: 'confidence', 2195: 'boneheaded', 2196: 'ginger', 2197: 'magazine', 2198: 'awesome', 2199: 'tang', 2200: 'candidate', 2201: 'smug', 2202: 'compared', 2203: \"buffalo's\", 2204: 'crying', 2205: \"shan't\", 2206: 'don', 2207: 'hitler', 2208: 'interested', 2209: 'manage', 2210: 'quotes', 2211: 'nerve', 2212: 'seemed', 2213: 'astronaut', 2214: 'dropped', 2215: 'krabappel', 2216: 'themselves', 2217: 'tanked-up', 2218: 'brightening', 2219: 'gum', 2220: 'degradation', 2221: 'darkest', 2222: 'excitement', 2223: 'moe-clone:', 2224: 'snap', 2225: 'knife', 2226: \"game's\", 2227: 'achem', 2228: 'seek', 2229: 'remembering', 2230: 'vacuum', 2231: 'reynolds', 2232: 'd', 2233: 'certain', 2234: 'tale', 2235: \"maggie's\", 2236: 'ah-ha', 2237: 'reliable', 2238: 'ugliest', 2239: 'grab', 2240: 'fritz', 2241: 'cutie', 2242: 'brothers', 2243: 'detecting', 2244: 'self-esteem', 2245: 'knees', 2246: 'lover', 2247: 'dearest', 2248: 'grimly', 2249: 'reasons', 2250: 'rolling', 2251: 'w', 2252: 'century', 2253: 'held', 2254: 'trick', 2255: 'pleading', 2256: 'needy', 2257: 'bathing', 2258: 'cheat', 2259: 'compliments', 2260: 'action', 2261: 'emotional', 2262: 'bash', 2263: 'ocean', 2264: 'david', 2265: 'cookies', 2266: 'bread', 2267: 'pretending', 2268: 'onions', 2269: 'routine', 2270: 'cars', 2271: 'jerry', 2272: 'laramie', 2273: 'funds', 2274: 'disapproving', 2275: 'tv_announcer:', 2276: 'rule', 2277: 'trench', 2278: 'louder', 2279: 'restroom', 2280: 'sack', 2281: 'craphole', 2282: 'price', 2283: 'passion', 2284: 'involved', 2285: 'reporter:', 2286: 'grave', 2287: 'coward', 2288: 'alphabet', 2289: 'force', 2290: 'advantage', 2291: \"'tis\", 2292: \"countin'\", 2293: 'businessman_#1:', 2294: 'planning', 2295: 'africa', 2296: 'crew', 2297: 'blend', 2298: 'angel', 2299: 'gorgeous', 2300: 'danish', 2301: \"bartender's\", 2302: 'yell', 2303: 'umm', 2304: 'mcstagger', 2305: 'increasingly', 2306: 'pirate', 2307: 'hawking:', 2308: 'owner', 2309: 'crumble', 2310: 'complaint', 2311: 'eyesore', 2312: 'row', 2313: \"hangin'\", 2314: 'naked', 2315: 'mop', 2316: 'genius', 2317: 'winnings', 2318: 'teams', 2319: 'hop', 2320: 'measurements', 2321: 'joking', 2322: 'smurfs', 2323: 'catching', 2324: 'hail', 2325: \"waitin'\", 2326: 'spread', 2327: 'greetings', 2328: 'beep', 2329: 'bubble', 2330: 'blues', 2331: 'fondly', 2332: 'throwing', 2333: 'inspire', 2334: 'cotton', 2335: 'andalay', 2336: 'simp-sonnnn', 2337: 'therapist', 2338: 'vote', 2339: 'putting', 2340: 'type', 2341: 'twin', 2342: 'mob', 2343: 'began', 2344: 'torn', 2345: 'grandiose', 2346: 'belt', 2347: 'matter-of-fact', 2348: 'realize', 2349: 'wondering', 2350: 'conference', 2351: 'sweetheart', 2352: \"team's\", 2353: \"ladies'\", 2354: 'attitude', 2355: 'joey_kramer:', 2356: 'peppy', 2357: 'reviews', 2358: 'manager', 2359: \"hadn't\", 2360: 'hobo', 2361: 'decent', 2362: 'chilly', 2363: 'sympathetic', 2364: 'ye', 2365: 'draw', 2366: 'morlocks', 2367: 'tax', 2368: 'nudge', 2369: 'asking', 2370: 'mention', 2371: 'apartment', 2372: 'wake', 2373: 'value', 2374: 'expression', 2375: \"crawlin'\", 2376: 'stevie', 2377: \"homer's_brain:\", 2378: 'deliberate', 2379: 'animals', 2380: \"marge's\", 2381: 'pouring', 2382: '250', 2383: 'duty', 2384: 'thoughtfully', 2385: 'cruel', 2386: 'sooner', 2387: 'important', 2388: 'tester', 2389: 'quality', 2390: 'young_moe:', 2391: 'fresh', 2392: 'stealings', 2393: 'whistles', 2394: 'doll', 2395: 'memory', 2396: 'recall', 2397: 'syrup', 2398: 'goods', 2399: 'boxing_announcer:', 2400: 'cheery', 2401: 'photo', 2402: 'klingon', 2403: 'wishes', 2404: 'marmaduke', 2405: 'firmly', 2406: 'blew', 2407: 'department', 2408: 'begins', 2409: 'fighting', 2410: 'dreams', 2411: 'oof', 2412: 'teacher', 2413: 'worth', 2414: 'sports_announcer:', 2415: 'tabooger', 2416: 'freeze', 2417: 'charlie', 2418: 'bam', 2419: 'prison', 2420: 'neighbor', 2421: 'frosty', 2422: 'politics', 2423: 'results', 2424: 'pressure', 2425: 'plans', 2426: 'penny', 2427: 'bigger', 2428: 'tries', 2429: 'wings', 2430: 'pride', 2431: 'billion', 2432: 'conspiratorial', 2433: 'awed', 2434: 'tiny', 2435: 'generous', 2436: 'wins', 2437: 'ohh', 2438: 'finishing', 2439: 'ripcord', 2440: 'mall', 2441: 'vacation', 2442: 'served', 2443: 'wing', 2444: 'stands', 2445: 'honored', 2446: 'corkscrew', 2447: 'sector', 2448: 'suing', 2449: 'filled', 2450: 'cooler', 2451: 'princesses', 2452: 'decide', 2453: 'maman', 2454: 'broom', 2455: 'jailbird', 2456: 'surprise', 2457: \"meanin'\", 2458: 'scooter', 2459: 'assistant', 2460: 'steak', 2461: 'project', 2462: 'denser', 2463: 'bugging', 2464: 'neither', 2465: 'intense', 2466: 'elephants', 2467: 'slyly', 2468: 'effects', 2469: 'weary', 2470: 'purse', 2471: 'shaken', 2472: 'weirded-out', 2473: 'electronic', 2474: 'vodka', 2475: 'golf', 2476: 'belong', 2477: 'wangs', 2478: 'square', 2479: \"chewin'\", 2480: 'kyoto', 2481: \"children's\", 2482: 'mate', 2483: 'hunting', 2484: 'spied', 2485: 'refresh', 2486: 'shaggy', 2487: 'roz:', 2488: 'jubilant', 2489: 'self-made', 2490: 'twice', 2491: 'ziff', 2492: 'lights', 2493: 'pint', 2494: 'built', 2495: 'wang', 2496: 'borrow', 2497: 'thought_bubble_homer:', 2498: 'reach', 2499: 'kindly', 2500: 'handing', 2501: \"it'd\", 2502: 'difficult', 2503: 't-shirt', 2504: 'planet', 2505: 'soap', 2506: \"tester's\", 2507: 'level', 2508: 'lurleen', 2509: 'lurleen_lumpkin:', 2510: 'punches', 2511: 'recently', 2512: 'shower', 2513: 'potato', 2514: 'palm', 2515: 'obvious', 2516: 'airport', 2517: 'creeps', 2518: 'shoulder', 2519: 'dryer', 2520: 'vampires', 2521: \"weren't\", 2522: 'remains', 2523: 'judge_snyder:', 2524: \"money's\", 2525: 'duel', 2526: 'balls', 2527: 'jockey', 2528: 'plenty', 2529: 'roof', 2530: 'padre', 2531: 'poker', 2532: 'bride', 2533: 'babe', 2534: 'baritone', 2535: 'grandmother', 2536: 'disappeared', 2537: 'b', 2538: 'plywood', 2539: 'peanut', 2540: 'thighs', 2541: 'wade_boggs:', 2542: 'carlson', 2543: 'commission', 2544: 'joined', 2545: 'soup', 2546: 'brave', 2547: 'dennis_kucinich:', 2548: 'nearly', 2549: 'fictional', 2550: 'drawing', 2551: 'agent_johnson:', 2552: 'pulling', 2553: 'admitting', 2554: 'costume', 2555: 'regulars', 2556: 'yourselves', 2557: 'prohibit', 2558: 'calculate', 2559: \"hasn't\", 2560: 'dreamed', 2561: 'prayer', 2562: '7-year-old_brockman:', 2563: 'trolls', 2564: 'vulnerable', 2565: 'based', 2566: 'swill', 2567: 'yup', 2568: 'clinton', 2569: 'superhero', 2570: 'discussing', 2571: \"dyin'\", 2572: 'sugar', 2573: 'relationship', 2574: 'forward', 2575: 'social', 2576: 'deacon', 2577: 'fevered', 2578: 'advance', 2579: 'rumaki', 2580: 'hibbert', 2581: 'thanksgiving', 2582: 'bottles', 2583: 'managing', 2584: 'release', 2585: 'poking', 2586: 'doreen:', 2587: 'doreen', 2588: 'miles', 2589: 'studio', 2590: 'agree', 2591: 'voice:', 2592: 'delivery', 2593: 'yawns', 2594: 'medical', 2595: 'freak', 2596: 'awe', 2597: 'bump', 2598: 'camp', 2599: 'eventually', 2600: 'banquo', 2601: 'rounds', 2602: 'trapped', 2603: 'satisfied', 2604: 'gang', 2605: 'combine', 2606: 'present', 2607: \"someone's\", 2608: 'tommy', 2609: 'heading', 2610: 'reasonable', 2611: 'sec_agent_#2:', 2612: 'cigarettes', 2613: 'wash', 2614: 'smart', 2615: 'queer', 2616: 'yards', 2617: 'santa', 2618: \"father's\", 2619: 'neil_gaiman:', 2620: 'complaining', 2621: 'fox_mulder:', 2622: 'nasa', 2623: 'whenever', 2624: \"springfield's\", 2625: 'koi', 2626: 'pleasant', 2627: 'bird', 2628: 'jets', 2629: 'festival', 2630: 'aerosmith', 2631: \"what're\", 2632: 'deeply', 2633: 'crossed', 2634: 'reaching', 2635: 'gentleman:', 2636: 'stern', 2637: 'reached', 2638: 'haw', 2639: 'pleasure', 2640: 'appealing', 2641: 'bets', 2642: \"wonderin'\", 2643: 'shrugging', 2644: 'bashir', 2645: 'drown', 2646: 'near', 2647: 'wave', 2648: '6', 2649: 'charity', 2650: 'sabermetrics', 2651: 'media', 2652: 'love-matic', 2653: 'smile:', 2654: 'code', 2655: 'failed', 2656: 'salt', 2657: 'cleaner', 2658: 'terrific', 2659: 'acting', 2660: 'mount', 2661: 'mortgage', 2662: 'fragile', 2663: 'informant', 2664: 'tie', 2665: 'lighting', 2666: 'calmly', 2667: 'page', 2668: 'prepared', 2669: 'lowering', 2670: 'rhyme', 2671: 'answers', 2672: 'suspicious', 2673: 'buried', 2674: 'energy', 2675: 'fixed', 2676: 'partly', 2677: 'beneath', 2678: 'listening', 2679: 'folk', 2680: 'scary', 2681: 'lloyd', 2682: 'shock', 2683: 'whether', 2684: 'beam', 2685: 'maya', 2686: \"what'sa\", 2687: 'priest', 2688: 'willy', 2689: 'ollie', 2690: 'snake-handler', 2691: 'superior', 2692: 'flag', 2693: 'saint', 2694: 'effervescent', 2695: \"other's\", 2696: 'effigy', 2697: 'mess', 2698: \"takin'\", 2699: 'mail', 2700: 'cat', 2701: 'forbidden', 2702: 'meal', 2703: 'isle', 2704: 'shutting', 2705: 'boyfriend', 2706: 'grumpy', 2707: 'louie:', 2708: 'nickels', 2709: 'joining', 2710: 'gosh', 2711: 'diamond', 2712: 'skin', 2713: 'zero', 2714: 'devastated', 2715: 'skirt', 2716: 'defeated', 2717: 'formico', 2718: 'bold', 2719: 'stir', 2720: 'underbridge', 2721: 'bucket', 2722: 'christopher', 2723: 'therefore', 2724: 'margarita', 2725: 'gals', 2726: 'i-i-i', 2727: 'jumps', 2728: 'explain', 2729: 'woman_bystander:', 2730: 'bags', 2731: 'straining', 2732: 'tofu', 2733: 'patterns', 2734: 'insightful', 2735: 'retired', 2736: 'cheese', 2737: 'rolled', 2738: 'successful', 2739: 'towed', 2740: 'muttering', 2741: 'dungeon', 2742: 'pigs', 2743: 'smugglers', 2744: 'shoots', 2745: 'sausage', 2746: 'missed', 2747: 'gifts', 2748: 'atlanta', 2749: 'solo', 2750: 'ringing', 2751: 'broadway', 2752: 'raccoons', 2753: 'raise', 2754: 'pin', 2755: 'prefer', 2756: 'curious', 2757: 'trusted', 2758: 'dessert', 2759: 'confident', 2760: 'attempting', 2761: 'cent', 2762: 'abandon', 2763: 'woozy', 2764: 'arab_man:', 2765: 'although', 2766: 'awwww', 2767: 'available', 2768: \"payin'\", 2769: 'message', 2770: 'puts', 2771: 'freedom', 2772: 'gums', 2773: 'express', 2774: 'white', 2775: 'latin', 2776: 'village', 2777: 'formico:', 2778: 'doug:', 2779: 'cake', 2780: 'churchill', 2781: 'corporate', 2782: 'scully', 2783: 'bums', 2784: 'hired', 2785: 'written', 2786: 'placing', 2787: 'cueball', 2788: 'teenage_homer:', 2789: 'helped', 2790: 'fold', 2791: 'prize', 2792: 'inspiring', 2793: 'ha-ha', 2794: 'standards', 2795: 'warn', 2796: 'investor', 2797: 'homers', 2798: 'completing', 2799: 'bear', 2800: 'bedroom', 2801: 'corporation', 2802: 'lazy', 2803: 'laney_fontaine:', 2804: 'virtual', 2805: 'yogurt', 2806: 'civilization', 2807: 'stranger:', 2808: 'justice', 2809: 'smoothly', 2810: 'percent', 2811: 'violin', 2812: 'yours', 2813: 'slice', 2814: 'punk', 2815: 'refund', 2816: 'carve', 2817: 'remembered', 2818: 'closes', 2819: 'ball-sized', 2820: 'acquaintance', 2821: 'gargoyle', 2822: 'naturally', 2823: 'due', 2824: 'involving', 2825: 'mumbling', 2826: 'eighty-seven', 2827: 'agreement', 2828: 'someday', 2829: 'actors', 2830: 'brassiest', 2831: \"others'\", 2832: 'changes', 2833: 'gator:', 2834: 'professor', 2835: 'authorized', 2836: 'suds', 2837: 'chum', 2838: 'conversation', 2839: 'handle', 2840: 'payments', 2841: 'sea', 2842: 'gun', 2843: 'awww', 2844: 'prove', 2845: 'allowed', 2846: 'karaoke', 2847: 'cowardly', 2848: 'lib', 2849: 'shrugs', 2850: 'dials', 2851: 'copy', 2852: 'labels', 2853: 'passed', 2854: 'celebrity', 2855: 'painting', 2856: 'relieved', 2857: 'entirely', 2858: 'scare', 2859: 'ambrosia', 2860: 'alfred', 2861: 'hollywood', 2862: 'monkey', 2863: 'positive', 2864: 'spy', 2865: 'is:', 2866: 'mona_simpson:', 2867: 'website', 2868: 'known', 2869: 'sneaky', 2870: \"bar's\", 2871: 'attack', 2872: 'lock', 2873: '_powers:', 2874: 'sleeps', 2875: 'aged_moe:', 2876: 'outlook', 2877: 'roomy', 2878: 'shakespeare', 2879: 'juice', 2880: 'badges', 2881: 'realized', 2882: 'waylon', 2883: 'wrestling', 2884: 'greedy', 2885: 'ahhh', 2886: 'pope', 2887: 'safer', 2888: 'admiration', 2889: 'securities', 2890: 'decency', 2891: 'jobs', 2892: 'standing', 2893: 'lenny:', 2894: 'conditioner', 2895: 'appear', 2896: 'reactions', 2897: 'bothered', 2898: \"don'tcha\", 2899: 'louisiana', 2900: 'woooooo', 2901: 'funniest', 2902: 'abcs', 2903: 'poorer', 2904: \"ma's\", 2905: 'impending', 2906: 'flush-town', 2907: '2', 2908: 'dum-dum', 2909: 'utensils', 2910: 'tease', 2911: 'calendars', 2912: 'faith', 2913: 'mt', 2914: 'portentous', 2915: 'omit', 2916: 'profiling', 2917: 'winks', 2918: 'overturned', 2919: 'chosen', 2920: 'march', 2921: 'nooo', 2922: 'fools', 2923: 'cap', 2924: 'iran', 2925: 'uniforms', 2926: 'diapers', 2927: 'catty', 2928: 'exultant', 2929: 'diaper', 2930: 'poster', 2931: 'beards', 2932: 'cutest', 2933: 'button-pusher', 2934: 'pasta', 2935: 'ralph_wiggum:', 2936: 'jay:', 2937: 'dull', 2938: 'players', 2939: 'confidentially', 2940: 'thirty-nine', 2941: 'uncreeped-out', 2942: 'beer-dorf', 2943: 'nerd', 2944: \"i'unno\", 2945: 'knives', 2946: 'perfunctory', 2947: 'swallowed', 2948: \"department's\", 2949: 'over-pronouncing', 2950: 'well-wisher', 2951: 'string', 2952: 'derek', 2953: 'ali', 2954: 'mistakes', 2955: 'stretch', 2956: 'disappointment', 2957: 'bide', 2958: 'drawn', 2959: 'widow', 2960: 'maude', 2961: 'ref', 2962: 'innocence', 2963: 'taylor', 2964: 'happens', 2965: 'starlets', 2966: 'monorails', 2967: 'chubby', 2968: 'brooklyn', 2969: 'tear', 2970: 'scientific', 2971: 'inherent', 2972: 'slurred', 2973: 'ballclub', 2974: 'scrutinizes', 2975: 'afloat', 2976: 'life-partner', 2977: 'sinkhole', 2978: 'specializes', 2979: 'sweden', 2980: 'cerebral', 2981: 'preparation', 2982: 'schabadoo', 2983: 'additional-seating-capacity', 2984: 'bloodball', 2985: \"number's\", 2986: 'federal', 2987: 'soot', 2988: 'politician', 2989: 'shades', 2990: 'benjamin:', 2991: 'perverted', 2992: 'sidekick', 2993: 'maitre', 2994: 'normals', 2995: 'hollowed-out', 2996: 'frat', 2997: 'frankenstein', 2998: 'u2:', 2999: 'beligerent', 3000: 'kirk_voice_milhouse:', 3001: 'unintelligent', 3002: 'stops', 3003: 'begging', 3004: 'aid', 3005: 'jay', 3006: 'east', 3007: 'veux', 3008: 'psst', 3009: 'paramedic:', 3010: \"what'd\", 3011: \"city's\", 3012: 'cheerier', 3013: 'boozer', 3014: 'canoodling', 3015: 'syndicate', 3016: 'chic', 3017: 'investigating', 3018: 'grateful', 3019: 'rafters', 3020: 'experienced', 3021: 'slogan', 3022: 'voodoo', 3023: 'sentimonies', 3024: 'dracula', 3025: 'hah', 3026: 'novelty', 3027: 'avalanche', 3028: 'sucker', 3029: 'whoa-ho', 3030: 'korea', 3031: 'stretches', 3032: 'selection', 3033: 'spooky', 3034: 'beeps', 3035: \"foolin'\", 3036: 'absentmindedly', 3037: 'fund', 3038: 'western', 3039: 'janette', 3040: 'sobo', 3041: 'taught', 3042: 'my-y-y-y-y-y', 3043: 'brawled', 3044: 'conditioning', 3045: 'female_inspector:', 3046: 'wad', 3047: 'joy', 3048: 'macho', 3049: 'eu', 3050: 'injury', 3051: 'thousands', 3052: 'kay', 3053: 'tigers', 3054: 'albert', 3055: 'anti-intellectualism', 3056: 'tabs', 3057: 'tooth', 3058: 'arimasen', 3059: 'sen', 3060: 'stay-puft', 3061: 'gentle', 3062: 'quitcher', 3063: 'sanitation', 3064: 'shoulda', 3065: 'greatly', 3066: 'nantucket', 3067: 'hyper-credits', 3068: 'childless', 3069: 'collapse', 3070: 'exits', 3071: 'hafta', 3072: 'lugs', 3073: 'plain', 3074: 'take-back', 3075: 'rented', 3076: 'abusive', 3077: 'rhode', 3078: 'attractive_woman_#1:', 3079: 'moving', 3080: 'swamp', 3081: 'rods', 3082: 'cocoa', 3083: 'contract', 3084: 'heartily', 3085: 'comeback', 3086: 'nickel', 3087: 'recipe', 3088: 'sheet', 3089: 'venture', 3090: 'detail', 3091: 'comedies', 3092: 'index', 3093: 'title:', 3094: 'disillusioned', 3095: 'teacup', 3096: 'ratted', 3097: 'kitchen', 3098: 'figures', 3099: 'sanitary', 3100: \"football's\", 3101: 'total', 3102: 'interesting', 3103: 'congratulations', 3104: 'crony', 3105: \"spaghetti-o's\", 3106: 'trashed', 3107: 'accelerating', 3108: 'listened', 3109: 'edna-lover-one-seventy-two', 3110: 'attach', 3111: 'dory', 3112: 'muertos', 3113: 'uses', 3114: 'windelle', 3115: 'support', 3116: 'sweater', 3117: 'specials', 3118: 'annoying', 3119: 'romance', 3120: 'squirrel', 3121: 'overflowing', 3122: 'revenge', 3123: 'shipment', 3124: 'cousin', 3125: 'television', 3126: 'bounced', 3127: 'spoon', 3128: 'technical', 3129: 'roy', 3130: '3rd_voice:', 3131: 'proof', 3132: 'right-handed', 3133: 'counter', 3134: 'monday', 3135: 'remorseful', 3136: 'popped', 3137: 'viva', 3138: 'saga', 3139: 'plums', 3140: 'tv-station_announcer:', 3141: 'warmth', 3142: 'el', 3143: 'warned', 3144: 'noble', 3145: \"y'money's\", 3146: 'imitating', 3147: 'conversations', 3148: 'mmmmm', 3149: 'society_matron:', 3150: 'gardens', 3151: 'buttocks', 3152: 'prices', 3153: 'rice', 3154: 'hibachi', 3155: \"tv's\", 3156: 'plotz', 3157: 'motor', 3158: 'gags', 3159: 'provide', 3160: 'hare-brained', 3161: 'mobile', 3162: 'wage', 3163: 'fist', 3164: 'rugged', 3165: 'unfair', 3166: 'evasive', 3167: 'holidays', 3168: \"high-falutin'\", 3169: 'sudoku', 3170: 'swig', 3171: 'anyhow', 3172: 'orgasmville', 3173: 'cheerleaders:', 3174: 'feedbag', 3175: 'produce', 3176: 'infatuation', 3177: 'oooh', 3178: 'boxers', 3179: 'twenty-nine', 3180: 'score', 3181: 'examines', 3182: '530', 3183: 'sketching', 3184: 'full-bodied', 3185: \"startin'\", 3186: 'dea-d-d-dead', 3187: 'exquisite', 3188: 'compadre', 3189: 'comment', 3190: 'charges', 3191: 'rub-a-dub', 3192: 'doom', 3193: 'harvesting', 3194: 'pronounce', 3195: 'beings', 3196: 'county', 3197: 'occasional', 3198: 'payday', 3199: 'series', 3200: 'releasing', 3201: 'creme', 3202: 'director:', 3203: 'smelly', 3204: \"fishin'\", 3205: 'heave-ho', 3206: 'assassination', 3207: 'artist', 3208: 'stolen', 3209: 'side:', 3210: 'dna', 3211: 'ronstadt', 3212: 'blimp', 3213: 'thomas', 3214: 'contemptuous', 3215: 'script', 3216: 'glyco-load', 3217: 'ehhhhhhhhh', 3218: 'shame', 3219: 'vanities', 3220: 'sacrifice', 3221: 'prompting', 3222: 'whirlybird', 3223: 'seething', 3224: 'dizer', 3225: 'glorious', 3226: 'boston', 3227: 'balloon', 3228: 'mcclure', 3229: 'masks', 3230: 'las', 3231: 'rush', 3232: 'simplest', 3233: 'branding', 3234: 'murdered', 3235: 'settled', 3236: 'distaste', 3237: 'jokes', 3238: 'notch', 3239: 'carny:', 3240: 'ireland', 3241: 'blurbs', 3242: \"cleanin'\", 3243: 'vacations', 3244: '_marvin_monroe:', 3245: 'mexicans', 3246: 'scarf', 3247: 'defiantly', 3248: 'fwooof', 3249: 'housewife', 3250: \"soakin's\", 3251: 'creates', 3252: 'snitch', 3253: 'drawer', 3254: \"'s\", 3255: 'ceremony', 3256: 'mushy', 3257: 'tornado', 3258: 'mozzarella', 3259: \"tony's\", 3260: '_burns_heads:', 3261: 'sued', 3262: 'canyoner-oooo', 3263: 'ambrose', 3264: 'jogging', 3265: 'wells', 3266: 'personal', 3267: 'yew', 3268: 'leaving', 3269: 'whistling', 3270: 'alien', 3271: 'hotel', 3272: 'actress', 3273: 'religious', 3274: 'quarter', 3275: \"writin'\", 3276: 'earth', 3277: 'fad', 3278: 'bauer', 3279: 'junkyard', 3280: 'righ', 3281: 'pretzels', 3282: 'breakdown', 3283: 'all-all-all', 3284: 'obama', 3285: 'marjorie', 3286: 'lighten', 3287: 'muscles', 3288: 'tolerance', 3289: 'kidnaps', 3290: 'octa-', 3291: 'when-i-get-a-hold-of-you', 3292: 'environment', 3293: 'packets', 3294: 'cell', 3295: 'gargoyles', 3296: 'supermodel', 3297: 'sponge', 3298: 'curiosity', 3299: 'photographer', 3300: 'mild', 3301: 'paparazzo', 3302: 'patron_#2:', 3303: 'quarry', 3304: 'champignons', 3305: 'fighter', 3306: \"fendin'\", 3307: 'offa', 3308: 'bad-mouth', 3309: \"i-i'll\", 3310: 'strolled', 3311: 'lotsa', 3312: 'design', 3313: \"o'reilly\", 3314: 'maximum', 3315: 'proper', 3316: 'benjamin', 3317: 'customers-slash-only', 3318: 'excuses', 3319: 'art', 3320: 'gulliver_dark:', 3321: 'donor', 3322: 'trustworthy', 3323: 'kearney_zzyzwicz:', 3324: 'bon-bons', 3325: 'taste', 3326: 'moon', 3327: 'flaking', 3328: 'musses', 3329: 'wounds', 3330: 'furiously', 3331: 'chumbawamba', 3332: \"mo'\", 3333: 'hydrant', 3334: 'drift', 3335: 'mid-seventies', 3336: 'tummies', 3337: 'cracked', 3338: 'officer', 3339: 'chinua', 3340: 'stripe', 3341: 'pre-columbian', 3342: 'eighty-three', 3343: 'pretend', 3344: 'enter', 3345: 'kegs', 3346: 'crowned', 3347: 'pine', 3348: 'material', 3349: 'lovelorn', 3350: 'equivalent', 3351: 'country', 3352: 'skunk', 3353: 'dilemma', 3354: 'macbeth', 3355: 'edner', 3356: 'inclination', 3357: 'oopsie', 3358: 'guff', 3359: 'causes', 3360: 'life-sized', 3361: 'frazier', 3362: 'misfire', 3363: 'beer:', 3364: 'gut', 3365: 'mirror', 3366: 'metal', 3367: 'eighty-six', 3368: 'clammy', 3369: 'emotion', 3370: 'fonda', 3371: 'drop-off', 3372: 'proposition', 3373: 'kinderhook', 3374: 'alarm', 3375: 'jig', 3376: \"costume's\", 3377: 'choked-up', 3378: \"can'tcha\", 3379: 'gibson', 3380: 'enthusiasm', 3381: 'brag', 3382: 'driveability', 3383: 'buzziness', 3384: 'reflected', 3385: 'shyly', 3386: 'throws', 3387: 'raggie', 3388: 'mint', 3389: 'sneeze', 3390: 'brother-in-law', 3391: 'owns', 3392: 'emphasis', 3393: 'dishrag', 3394: 'squashing', 3395: 'troubles', 3396: 'brings', 3397: 'bumpy-like', 3398: 'ideal', 3399: 'banquet', 3400: 'nonchalantly', 3401: 'tobacky', 3402: 'commit', 3403: 'compete', 3404: 'four-star', 3405: 'ninth', 3406: 'backgammon', 3407: 'undies', 3408: 'prep', 3409: 'wigs', 3410: 'faced', 3411: 'administration', 3412: 'muhammad', 3413: 'adequate', 3414: 'conclusions', 3415: 'hearing', 3416: 'tasty', 3417: 'crystal', 3418: 'attend', 3419: 'birthplace', 3420: 'tomatoes', 3421: 'diving', 3422: 'family-owned', 3423: 'rings', 3424: 'happiness', 3425: \"tab's\", 3426: \"stayin'\", 3427: 'premiering', 3428: 'ga', 3429: 'carnival', 3430: 'ons', 3431: 'nicer', 3432: 'noggin', 3433: 'depression', 3434: 'schemes', 3435: 'owned', 3436: 'barstools', 3437: 'spews', 3438: 'tsking', 3439: 'longest', 3440: 'ninety-nine', 3441: 'criminal', 3442: 'arabs', 3443: 'acquitted', 3444: 'depressed', 3445: 'expecting', 3446: 'multi-purpose', 3447: 'sidelines', 3448: 'remaining', 3449: 'nominated', 3450: 'rickles', 3451: 'pusillanimous', 3452: 'eye-gouger', 3453: 'bidet', 3454: 'b-day', 3455: 'stars', 3456: 'reluctantly', 3457: 'dark', 3458: 'symphonies', 3459: \"ball's\", 3460: 'triangle', 3461: 'brotherhood', 3462: \"industry's\", 3463: 'chuck', 3464: 'wowww', 3465: 'onto', 3466: 'bono:', 3467: 'nash', 3468: 'contemporary', 3469: 'sagely', 3470: 'showed', 3471: 'occupancy', 3472: 'lindsay', 3473: 'ditched', 3474: 'intimacy', 3475: 'starve', 3476: 'unforgettable', 3477: \"aristotle's\", 3478: 'menace', 3479: 'toxins', 3480: 'cuz', 3481: 'hops', 3482: 'hideous', 3483: 'wally', 3484: \"g'night\", 3485: 'looooooooooooooooooong', 3486: \"rasputin's\", 3487: 'eaters', 3488: 'stupidly', 3489: 'presumir', 3490: 'shopping', 3491: 'wood', 3492: 'pas', 3493: 'planned', 3494: 'low-blow', 3495: 'squeal', 3496: \"calf's\", 3497: \"bettin'\", 3498: 'frankie', 3499: 'pursue', 3500: 'ivy-covered', 3501: 'bust', 3502: 'avenue', 3503: 'op', 3504: 'hairs', 3505: 'turlet', 3506: 'tow', 3507: 'furniture', 3508: 'lobster-based', 3509: 'hike', 3510: 'stepped', 3511: 'classy', 3512: 'surprising', 3513: 'sampler', 3514: 'itchy', 3515: 'hottest', 3516: 'divine', 3517: 'cockroach', 3518: 'fruit', 3519: 'treats', 3520: 'bulletin', 3521: 'cajun', 3522: 'soft', 3523: 'edelbrock', 3524: 'nail', 3525: 'versus', 3526: 'unfamiliar', 3527: 'incriminating', 3528: 'average-looking', 3529: 'cauliflower', 3530: 'accusing', 3531: 'presentable', 3532: 'otherwise', 3533: 'pilsner-pusher', 3534: 'squeals', 3535: 'martini', 3536: 'delts', 3537: 'freed', 3538: 'sagacity', 3539: 'practice', 3540: 'log', 3541: 'enabling', 3542: 'issuing', 3543: 'car:', 3544: 'getaway', 3545: 'melodramatic', 3546: 'awkwardly', 3547: 'bleak', 3548: 'bouquet', 3549: 'reporter', 3550: 'though:', 3551: 'incognito', 3552: 'shuts', 3553: \"bo's\", 3554: 'maiden', 3555: 'break-up', 3556: 'thunder', 3557: \"round's\", 3558: 'pigtown', 3559: 'result', 3560: 'trapping', 3561: 'cricket', 3562: 'subscriptions', 3563: 'squadron', 3564: 'heals', 3565: 'robbers', 3566: 'remote', 3567: 'jukebox_record:', 3568: 'murdoch', 3569: 'indifference', 3570: 'prettiest', 3571: 'carey', 3572: 'non-american', 3573: 'glee', 3574: \"santa's\", 3575: 'swishkabobs', 3576: 'urban', 3577: 'storms', 3578: 'updated', 3579: 'mistresses', 3580: 'brain-switching', 3581: 'derisive', 3582: 'strongly', 3583: 'susie-q', 3584: 'malibu', 3585: 'whispers', 3586: 'coincidentally', 3587: 'sympathy', 3588: 'xx', 3589: 'pridesters:', 3590: 'crappy', 3591: 'legend', 3592: '70', 3593: 'frenchman', 3594: 'indeed', 3595: 'encores', 3596: 'monroe', 3597: 'decided', 3598: 'liven', 3599: 'angrily', 3600: 'self-centered', 3601: 'awfully', 3602: 'solves', 3603: 'lists', 3604: 'whatchamacallit', 3605: 'browns', 3606: 'fiiiiile', 3607: 'missing', 3608: 'jam', 3609: 'rainier', 3610: 'sounded', 3611: 'decadent', 3612: 'goo', 3613: 'patriotic', 3614: 'influence', 3615: 'traitor', 3616: 'wobbly', 3617: 'cushions', 3618: 'boned', 3619: 'magnanimous', 3620: \"breakin'\", 3621: 'tow-joes', 3622: 'contented', 3623: 'jigger', 3624: 'shred', 3625: 'crunch', 3626: 'prolonged', 3627: 'lighter', 3628: 'negative', 3629: 'rubbed', 3630: 'notice', 3631: 'country-fried', 3632: 'overstressed', 3633: 'sacrilicious', 3634: 'payback', 3635: 'slick', 3636: 'e-z', 3637: 'lucinda', 3638: 'fayed', 3639: 'groans', 3640: 'wasted', 3641: 'cartoons', 3642: 'finish', 3643: 'aziz', 3644: 'attractive_woman_#2:', 3645: 'augustus', 3646: 'cuff', 3647: 'drummer', 3648: 'protestantism', 3649: 'travel', 3650: 'dashes', 3651: 'mathis', 3652: 'harvard', 3653: 'gambler', 3654: \"lovers'\", 3655: 'halvsies', 3656: 'swine', 3657: 'donation', 3658: 'shorter', 3659: \"fine-lookin'\", 3660: 'winston', 3661: 'salary', 3662: 'pills', 3663: 'tracks', 3664: \"larry's\", 3665: 'kisses', 3666: 'load', 3667: 'legal', 3668: 'guiltily', 3669: 'mural', 3670: 'damage', 3671: 'creepy', 3672: 'population', 3673: 'sap', 3674: 'reentering', 3675: 'sweetest', 3676: 'dumbest', 3677: 'pee', 3678: 'howya', 3679: 'whatchacallit', 3680: 'newsweek', 3681: 'scratcher', 3682: 'straighten', 3683: 'wheels', 3684: 'recreate', 3685: 'malted', 3686: \"fans'll\", 3687: 'specified', 3688: 'danny', 3689: 'nonsense', 3690: 'darn', 3691: 'options', 3692: 'shutup', 3693: \"nick's\", 3694: 'distinct', 3695: 'homeless', 3696: \"soundin'\", 3697: 'assent', 3698: 'studied', 3699: 'celeste', 3700: 'managed', 3701: 'sumatran', 3702: 'connor-politan', 3703: 'vicious', 3704: 'orifice', 3705: 'wolfcastle', 3706: 'cooker', 3707: 'moustache', 3708: 'hostile', 3709: 'sustain', 3710: 'hanh', 3711: 'steampunk', 3712: 'kick-ass', 3713: 'nbc', 3714: 'softer', 3715: 'temper', 3716: 'rubs', 3717: 'employment', 3718: 'regretted', 3719: 'suits', 3720: 'loudly', 3721: 'proves', 3722: \"ya'\", 3723: \"i'd'a\", 3724: 'winner', 3725: 'ew', 3726: 'most:', 3727: 'aims', 3728: 'two-drink', 3729: 'continuum', 3730: 'vehicle', 3731: \"s'okay\", 3732: \"challengin'\", 3733: 'scout', 3734: 'clearing', 3735: 'flexible', 3736: 'jackpot-thief', 3737: 'philosophical', 3738: 'furry', 3739: 'chain', 3740: 'kisser', 3741: 'go-near-', 3742: 'dyspeptic', 3743: 'safely', 3744: 'dingy', 3745: 'parenting', 3746: 'journey', 3747: 'shoes', 3748: 'lawyer', 3749: 'coast', 3750: 'michael_stipe:', 3751: 'knock-up', 3752: 'naval', 3753: 'pregnancy', 3754: 'flew', 3755: 'candles', 3756: \"enjoyin'\", 3757: 'eminence', 3758: 'ratio', 3759: 'insulin', 3760: 'synthesize', 3761: 'jewelry', 3762: 'smelling', 3763: 'michelin', 3764: 'eww', 3765: 'beans', 3766: 'literary', 3767: 'alma', 3768: 'thirty-thousand', 3769: 'dies', 3770: 'valley', 3771: 'wakede', 3772: \"nothin's\", 3773: 'washer', 3774: '$42', 3775: 'savagely', 3776: 'disdainful', 3777: 'badmouths', 3778: 'duff_announcer:', 3779: 'blobbo', 3780: 'sam:', 3781: 'grudgingly', 3782: 'haircuts', 3783: 'dreary', 3784: 'strictly', 3785: 'pantsless', 3786: 'sales', 3787: 'housework', 3788: 'aah', 3789: 'incarcerated', 3790: 'ads', 3791: 'backbone', 3792: 'talkers', 3793: 'mason', 3794: 'kirk', 3795: 'diddilies', 3796: 'statesmanlike', 3797: 'tokens', 3798: 'femininity', 3799: 'attracted', 3800: 'temp', 3801: 'warranty', 3802: 'characteristic', 3803: 'experience', 3804: 'ripped', 3805: 'easily', 3806: 'unlocked', 3807: 'stooges', 3808: 'tying', 3809: 'rewound', 3810: 'faces', 3811: 'pall', 3812: 'kazoo', 3813: 'worldview', 3814: 'snide', 3815: \"bringin'\", 3816: 'kidneys', 3817: 'shoe', 3818: 'radiation', 3819: \"wallet's\", 3820: 'trail', 3821: 'bobo', 3822: \"dolph's_dad:\", 3823: 'ram', 3824: \"people's\", 3825: \"rentin'\", 3826: 'shack', 3827: 'indicates', 3828: 'hardwood', 3829: 'singing/pushing', 3830: 'hiding', 3831: 'pledge', 3832: 'locked', 3833: 'icelandic', 3834: 'feminist', 3835: 'chili', 3836: 'declared', 3837: 'coyly', 3838: 'jay_leno:', 3839: 'wreck', 3840: 'mostly', 3841: 'envy-tations', 3842: 'jewish', 3843: 'dã¼ff', 3844: 'pickles', 3845: 'bones', 3846: 'nordiques', 3847: 'slobs', 3848: 'booking', 3849: 'recorder', 3850: 'skins', 3851: 'ding-a-ding-ding-ding-ding-ding-ding', 3852: 'girl-bart', 3853: 'evergreen', 3854: 'fierce', 3855: 'frogs', 3856: 'gees', 3857: 's-a-u-r-c-e', 3858: 'notably', 3859: 'wish-meat', 3860: 'reluctant', 3861: 'entertainer', 3862: 'period', 3863: 'whoo', 3864: 'sensible', 3865: 'floating', 3866: 'presidential', 3867: 'babar', 3868: 'killjoy', 3869: 'platinum', 3870: 'addiction', 3871: 'reopen', 3872: 'lime', 3873: 'wolverines', 3874: 'swooning', 3875: 'pictured', 3876: 'hooky', 3877: 'boggs', 3878: 'weight', 3879: 'schmoe', 3880: 'k-zug', 3881: \"wino's\", 3882: 'habit', 3883: 'corkscrews', 3884: 'simultaneous', 3885: 'slender', 3886: 'forced', 3887: 'poulet', 3888: 'usual', 3889: 'rueful', 3890: 'philosophic', 3891: 'plants', 3892: 'admirer', 3893: 'exciting', 3894: 'kadlubowski', 3895: 'prettied', 3896: 'freaking', 3897: 'chin', 3898: 'invisible', 3899: 'manipulation', 3900: 'hexa-', 3901: 'stores', 3902: 'unattended', 3903: 'football', 3904: 'undated', 3905: 'territorial', 3906: 'shaker', 3907: 'extreme', 3908: 'spamming', 3909: 'overhearing', 3910: 'barney-type', 3911: 'bookie', 3912: 'liquor', 3913: 'hushed', 3914: 'puffy', 3915: 'assumed', 3916: 'crestfallen', 3917: 'er', 3918: 'half-beer', 3919: 'drives', 3920: 'ecru', 3921: 'aidens', 3922: 'view', 3923: 'issues', 3924: 'wussy', 3925: 'fired', 3926: 'gangrene', 3927: \"narratin'\", 3928: 'sneak', 3929: 'bon', 3930: 'mission', 3931: 'horribilis', 3932: 'bunion', 3933: 'co-sign', 3934: 'socialize', 3935: 'rafter', 3936: \"school's\", 3937: 'radical', 3938: 'patron_#1:', 3939: 'pepto-bismol', 3940: 'sass', 3941: 'north', 3942: 'vampire', 3943: 'pancakes', 3944: 'doll-baby', 3945: 'britannia', 3946: 'practically', 3947: 'ehhhhhhhh', 3948: 'hostages', 3949: 'necessary', 3950: 'scornfully', 3951: 'windshield', 3952: 'reconsidering', 3953: 'gunter', 3954: 'americans', 3955: 'chipper', 3956: 'willing', 3957: 'fit', 3958: 'quimby', 3959: 'genuinely', 3960: 'hers', 3961: 'bonding', 3962: 'arrived', 3963: \"toot's\", 3964: 'hose', 3965: 'ne', 3966: 'caricature', 3967: 'wishing', 3968: 'mater', 3969: 'linda_ronstadt:', 3970: 'loyal', 3971: \"askin'\", 3972: 'dirge-like', 3973: 'volunteer', 3974: 'mayan', 3975: 'outs', 3976: 'and:', 3977: 'manchego', 3978: 'coupon', 3979: 'steam', 3980: 'pepsi', 3981: 'aged', 3982: \"aren'tcha\", 3983: 'wise', 3984: 'anderson', 3985: 'patting', 3986: 'fringe', 3987: \"who'da\", 3988: \"messin'\", 3989: 'yak', 3990: 'bonfire', 3991: 'donut-shaped', 3992: 'judges', 3993: \"table's\", 3994: 'tied', 3995: 'uninhibited', 3996: 'chapel', 3997: 'understood', 3998: 'businessman_#2:', 3999: 'booze-bags', 4000: 'carney', 4001: 'housing', 4002: 'haplessly', 4003: 'homeland', 4004: 'killing', 4005: 'scruffy_blogger:', 4006: \"show's\", 4007: 'pizza', 4008: 'hammer', 4009: 'conversion', 4010: 'saget', 4011: 'christian', 4012: 'unfresh', 4013: 'grace', 4014: 'dentist', 4015: 'statistician', 4016: 'tactful', 4017: 'closet', 4018: 'resist', 4019: 'louse', 4020: 'icy', 4021: \"son's\", 4022: 'smoker', 4023: 'burg', 4024: 'almond', 4025: 'ugh', 4026: 'transylvania', 4027: 'astronauts', 4028: 'vengeance', 4029: 'billingsley', 4030: 'bum:', 4031: 'schizophrenia', 4032: 'montrer', 4033: 'pinball', 4034: \"b-52's:\", 4035: 'novel', 4036: \"s'pose\", 4037: 'videotaped', 4038: 'texan', 4039: 'belly-aching', 4040: 'soothing', 4041: 'unattractive', 4042: 'kills', 4043: 'unrelated', 4044: 'disturbing', 4045: 'oh-so-sophisticated', 4046: 'statue', 4047: 'winces', 4048: 'hillary', 4049: 'mid-conversation', 4050: 'ineffective', 4051: 'jacksons', 4052: 'muscle', 4053: 'supplying', 4054: 'easygoing', 4055: 'plaintive', 4056: \"leavin'\", 4057: 'gestated', 4058: \"plank's\", 4059: 'alter', 4060: \"smokin'\", 4061: 'meatpies', 4062: 'suru', 4063: 'all-american', 4064: 'obsessive-compulsive', 4065: 'maintenance', 4066: 'lemonade', 4067: 'tall', 4068: 'de-scramble', 4069: 'sorts', 4070: 'moe-heads', 4071: \"cont'd:\", 4072: 'playhouse', 4073: 'silence', 4074: 'skydiving', 4075: 'expired', 4076: 'ticks', 4077: 'raining', 4078: 'wacky', 4079: 'moe-ron', 4080: 'rims', 4081: 'gear-head', 4082: 'tree_hoper:', 4083: \"tootin'\", 4084: 'pair', 4085: 'name:', 4086: 'destroyed', 4087: 'cheryl', 4088: 'considers', 4089: 'bid', 4090: 'growing', 4091: 'guts', 4092: 'hillbillies', 4093: 'ling', 4094: 'curse', 4095: 'open-casket', 4096: 'potatoes', 4097: 'test-', 4098: 'fence', 4099: 'besides', 4100: 'wrestle', 4101: 'bragging', 4102: 'smokes', 4103: 'forty-seven', 4104: 'forgets', 4105: 'renders', 4106: 'dejected_barfly:', 4107: 'valuable', 4108: 'earrings', 4109: \"sippin'\", 4110: 'heroism', 4111: \"raggin'\", 4112: 'spouses', 4113: 'brainheaded', 4114: 'gimmick', 4115: 'crotch', 4116: 'remain', 4117: 'intruding', 4118: 'pinchpenny', 4119: 'liser', 4120: 'delivery_man:', 4121: 'hub', 4122: \"doctor's\", 4123: 'domed', 4124: 'further', 4125: 'argue', 4126: 'chorus:', 4127: 'hispanic_crowd:', 4128: 'coin', 4129: 'spellbinding', 4130: 'combination', 4131: \"hawkin'\", 4132: 'fl', 4133: 'junebug', 4134: 'arse', 4135: 'ees', 4136: 'madonna', 4137: 'choked', 4138: 'windowshade', 4139: 'bumbling', 4140: 'stupidest', 4141: 'handwriting', 4142: 'grammy', 4143: 'para', 4144: 'boyhood', 4145: 'abe', 4146: 'suffering', 4147: \"poisonin'\", 4148: 'southern', 4149: 'marshmallow', 4150: 'blob', 4151: 'daniel', 4152: 'reckless', 4153: 'sat-is-fac-tion', 4154: 'recruiter', 4155: 'clothespins:', 4156: 'typing', 4157: 'crab', 4158: 'ho-ly', 4159: 'adjourned', 4160: 'gel', 4161: 'infiltrate', 4162: 'jackass', 4163: 'sub-monkeys', 4164: 'necklace', 4165: 'chauffeur:', 4166: 'huddle', 4167: 'inanely', 4168: 'broken', 4169: 'marry', 4170: 'five-fifteen', 4171: \"how're\", 4172: 'employees', 4173: 'we-we-we', 4174: \"liftin'\", 4175: 'dumbbell', 4176: 'oww', 4177: 'often', 4178: 'blossoming', 4179: 'abercrombie', 4180: 'lone', 4181: 'gumbo', 4182: 'bannister', 4183: 'elect', 4184: 'lainie:', 4185: 'cattle', 4186: 'dinks', 4187: 'nature', 4188: 'guinea', 4189: 'frontrunner', 4190: 'cheered', 4191: 'cheapskates', 4192: 'miss_lois_pennycandy:', 4193: 'fixes', 4194: 'idioms', 4195: 'compels', 4196: 'washed', 4197: 'hmf', 4198: 'phony', 4199: 'batmobile', 4200: \"hobo's\", 4201: \"yieldin'\", 4202: 'language', 4203: 'ralph', 4204: 'prints', 4205: 'correction', 4206: 'mahatma', 4207: 'butter', 4208: 'champion', 4209: 'fell', 4210: 'unhook', 4211: 'scanning', 4212: 'aerospace', 4213: 'hyahh', 4214: 'mither', 4215: 'ho-la', 4216: 'cakes', 4217: 'tank', 4218: 'hiring', 4219: 'farewell', 4220: 'acronyms', 4221: 'chug-a-lug', 4222: 'email', 4223: 'allowance', 4224: 'luxury', 4225: \"professor's\", 4226: 'gruff', 4227: 'touch', 4228: 'appropriate', 4229: 'trucks', 4230: 'afterglow', 4231: 'lanes', 4232: 'conspiracy', 4233: \"that'd\", 4234: 'wh', 4235: 'dishonor', 4236: 'chip', 4237: 'eyed', 4238: \"g'on\", 4239: 'buddies', 4240: 'hammock', 4241: \"thinkin'\", 4242: 'convenient', 4243: 'lifetime', 4244: 'measure', 4245: 'guessing', 4246: \"tree's\", 4247: 'th-th-th-the', 4248: 'fella', 4249: 'rekindle', 4250: 'beast', 4251: \"bart'd\", 4252: 'hourly', 4253: 'racially-diverse', 4254: 'harvey', 4255: 'sells', 4256: 'freely', 4257: 'hangout', 4258: \"friend's\", 4259: 'zone', 4260: 'fireworks', 4261: 'giggle', 4262: 'slaves', 4263: 'tomato', 4264: 'sunk', 4265: 'toledo', 4266: 'badmouth', 4267: 'bills', 4268: 'fantastic', 4269: 'andrew', 4270: 'heatherton', 4271: 'dutch', 4272: 'gesture', 4273: \"puttin'\", 4274: 'flynt', 4275: 'beanbag', 4276: 'urine', 4277: 'super-genius', 4278: \"tv'll\", 4279: 'shtick', 4280: 'nã£o', 4281: 'easy-going', 4282: 'starving', 4283: 'gabriel', 4284: 'lobster-politans', 4285: 'hygienically', 4286: 'applicant', 4287: 'four-drink', 4288: 'george', 4289: 'heartless', 4290: 'showered', 4291: 'elocution', 4292: 'firm', 4293: 'interrupting', 4294: 'universe', 4295: 'swings', 4296: \"can't-believe-how-bald-he-is\", 4297: 'plug', 4298: 'sideshow_bob:', 4299: 'sympathizer', 4300: 'face-macer', 4301: 'voicemail', 4302: 'stinky', 4303: 'press', 4304: 'justify', 4305: 'play/', 4306: 'stiffening', 4307: 'chauffeur', 4308: 'sniffing', 4309: 'bellyaching', 4310: 'lame', 4311: 'fishing', 4312: 'laid', 4313: 'capitol', 4314: 'founded', 4315: 'exploiter', 4316: \"she'd\", 4317: 'apart', 4318: 'file', 4319: 'brusque', 4320: 'sangre', 4321: 'italian', 4322: 'lennyy', 4323: 'bupkus', 4324: 'maxed', 4325: 'rome', 4326: 'quebec', 4327: 'reaction', 4328: 'agents', 4329: 'faded', 4330: 'forty-two', 4331: 'beyond', 4332: 'sledge-hammer', 4333: 'vestigial', 4334: 'brief', 4335: 'stagehand:', 4336: 'democrats', 4337: 'conclude', 4338: 'miracle', 4339: 'rupert_murdoch:', 4340: 'remembers', 4341: 'mediterranean', 4342: 'goldarnit', 4343: 'quero', 4344: 'approval', 4345: 'choose', 4346: 'passports', 4347: 'publish', 4348: 'ignorant', 4349: 'flash', 4350: 'triumphantly', 4351: 'lewis', 4352: 'clipped', 4353: 'waterfront', 4354: 'nightmares', 4355: \"somebody's\", 4356: \"neighbor's\", 4357: 'exchanged', 4358: 'jelly', 4359: 'splash', 4360: 'looser', 4361: 'aunt', 4362: 'key', 4363: 'chuckling', 4364: 'shrieks', 4365: 'juke', 4366: 'rascals', 4367: 'eurotrash', 4368: 'dollface', 4369: 'morning-after', 4370: 'zeal', 4371: 'contact', 4372: \"homer'll\", 4373: 'leno', 4374: 'pep', 4375: 'dumbass', 4376: 'intelligent', 4377: 'make:', 4378: 'ate', 4379: 'allow', 4380: 'burnside', 4381: 'absolut', 4382: 'dressing', 4383: 'yee-ha', 4384: 'sticking-place', 4385: 'vincent', 4386: 'gutenberg', 4387: 'meaningless', 4388: 'delicately', 4389: 'irrelevant', 4390: 'permanent', 4391: 'kneeling', 4392: 'victorious', 4393: 'dictator', 4394: 'powered', 4395: 'executive', 4396: 'alpha-crow', 4397: 'uhhhh', 4398: 'cure', 4399: \"knockin'\", 4400: 'crayola', 4401: 'raging', 4402: 'ignorance', 4403: 'cupid', 4404: 'drains', 4405: 'gator', 4406: 'understood:', 4407: 'limericks', 4408: 'forgiven', 4409: 'kl5-4796', 4410: \"stallin'\", 4411: 'treehouse', 4412: 'stagey', 4413: 'relaxed', 4414: 'puke-holes', 4415: 'vermont', 4416: 'reed', 4417: 'erasers', 4418: 'weekend', 4419: 'hubub', 4420: 'waters', 4421: 'bindle', 4422: 'breathalyzer', 4423: 'yourse', 4424: 'hot-rod', 4425: 'thought_bubble_lenny:', 4426: 'pre-recorded', 4427: 'loafers', 4428: 'wishful', 4429: 'chipped', 4430: 'breaks', 4431: 'hero-phobia', 4432: \"pressure's\", 4433: 'lungs', 4434: 'test-lady', 4435: 'lend', 4436: 'thanking', 4437: 'drinking:', 4438: 'chub', 4439: 'nonchalant', 4440: 'mustard', 4441: 'edgy', 4442: 'manboobs', 4443: 'charter', 4444: 'wrapped', 4445: 'freshened', 4446: 'chateau', 4447: 'recap:', 4448: 'delicate', 4449: 'elves:', 4450: 'congoleum', 4451: 'shortcomings', 4452: \"now's\", 4453: 'nailed', 4454: 'whaaa', 4455: 'knocks', 4456: 'aristotle:', 4457: 'demo', 4458: 'please/', 4459: 'scores', 4460: 'droning', 4461: '8', 4462: 'rolls', 4463: 'roller', 4464: 'monkeyshines', 4465: 'ahem', 4466: 'gift:', 4467: 'culkin', 4468: 'crushed', 4469: 'tenuous', 4470: 'offshoot', 4471: 'arise', 4472: 'orphan', 4473: 'eager', 4474: 'tones', 4475: 'eats', 4476: 'darjeeling', 4477: 'ingested', 4478: 'catch-phrase', 4479: 'impress', 4480: 'layer', 4481: 'self-satisfied', 4482: 'moe-near-now', 4483: 'gluten', 4484: 'excavating', 4485: 'cooking', 4486: 'iranian', 4487: 'geysir', 4488: 'common', 4489: 'knowingly', 4490: 'slugger', 4491: 'cruise', 4492: 'fulla', 4493: 'what-for', 4494: 'adventure', 4495: 'paper', 4496: 'eddie', 4497: 'friday', 4498: 'aboard', 4499: 'column', 4500: 'len-ny', 4501: 'followed', 4502: 'dumptruck', 4503: 'pre-game', 4504: 'swelling', 4505: 'ab', 4506: 'legs:', 4507: 'rosey', 4508: 'achebe', 4509: 'kahlua', 4510: 'gayer', 4511: 'tablecloth', 4512: 'cross-country', 4513: 'other_player:', 4514: 'pantry', 4515: 'playoff', 4516: 'thorough', 4517: 'au', 4518: 'frightened', 4519: 'extended', 4520: 'yuh-huh', 4521: 'full-blooded', 4522: 'majority', 4523: 'gamble', 4524: 'assume', 4525: 'sue', 4526: 'sugar-me-do', 4527: 'hooked', 4528: 'cleaning', 4529: 'happily:', 4530: 'shard', 4531: \"fightin'\", 4532: 'shores', 4533: 'venom', 4534: 'blinded', 4535: 'fourteen:', 4536: 'refiero', 4537: 'charged', 4538: 'filed', 4539: 'access', 4540: 'beached', 4541: 'glamour', 4542: 'pharmaceutical', 4543: 'office', 4544: 'falling', 4545: 'fistiana', 4546: 'drag', 4547: 'ironic', 4548: 'groveling', 4549: 'trainers', 4550: 'crooks', 4551: 'mindless', 4552: 'ralphie', 4553: 'rancid', 4554: 'espousing', 4555: 'coma', 4556: \"phone's\", 4557: 'lachrymose', 4558: 'month', 4559: 'legally', 4560: 'attached', 4561: 'jerking', 4562: 'assert', 4563: 'birth', 4564: 'peeved', 4565: 'womb', 4566: 'amends', 4567: 'paints', 4568: 'flack', 4569: 'alva', 4570: 'deliberately', 4571: 'cobbling', 4572: 'pointy', 4573: 'wore', 4574: 'walked', 4575: 'wham', 4576: 'thirty-three', 4577: 'hootie', 4578: 'spirit', 4579: 'yoink', 4580: 'infor', 4581: 'crayon', 4582: 'quimbys:', 4583: \"feelin's\", 4584: 'ape-like', 4585: 'signed', 4586: 'sideshow', 4587: 'riveting', 4588: 'sesame', 4589: 'sexton', 4590: 'chicken', 4591: 'fears', 4592: 'bake', 4593: 'engraved', 4594: 'creature', 4595: 'fletcherism', 4596: 'faceful', 4597: 'confession', 4598: 'motto', 4599: 'deals', 4600: 'pyramid', 4601: 'indecipherable', 4602: 'doctor', 4603: 'exited', 4604: 'massive', 4605: 'parrot', 4606: 'sleeping', 4607: 'stored', 4608: 'churchy', 4609: 'a-a-b-b-a', 4610: 'perverse', 4611: 'tickets', 4612: 'enthused', 4613: 'high-definition', 4614: 'theory', 4615: 'dramatically', 4616: 'phase', 4617: 'bail', 4618: 'annie', 4619: 'portuguese', 4620: 'runs', 4621: 'aer', 4622: 'runaway', 4623: 'humanity', 4624: 'bury', 4625: 'sing-song', 4626: 'parents', 4627: 'kim_basinger:', 4628: 'fortune', 4629: 'watashi', 4630: 'cruiser', 4631: 'blackjack', 4632: 'perking', 4633: 'briefly', 4634: 'rector', 4635: 'truck_driver:', 4636: 'noosey', 4637: 'barber', 4638: 'seductive', 4639: 'takeaway', 4640: 'title', 4641: 'goodwill', 4642: 'yammering', 4643: 'gin-slingers', 4644: 're-al', 4645: 'mccall', 4646: 'annus', 4647: 'nurse', 4648: 'sponsor', 4649: 'polish', 4650: 'shelf', 4651: 'anger', 4652: 'jeers', 4653: \"stabbin'\", 4654: 'breathless', 4655: 'spreads', 4656: 'lease', 4657: 'everywhere', 4658: 'seminar', 4659: 'ton', 4660: 'referee', 4661: 'shaved', 4662: 'supports', 4663: 'lead', 4664: 'hippies', 4665: 'good-looking', 4666: \"grandmother's\", 4667: 'heck', 4668: 'snackie', 4669: 'colonel:', 4670: 'occurs', 4671: 'be-stainã¨d', 4672: 'eaten', 4673: 'shifty', 4674: 'puke-pail', 4675: 'johnny', 4676: 'ladder', 4677: 'boxer:', 4678: \"when's\", 4679: 'elmer', 4680: 'yello', 4681: 'chug-monkeys', 4682: 'menlo', 4683: 'unsafe', 4684: 'luv', 4685: 'lifters', 4686: 'mamma', 4687: 'carlotta:', 4688: \"liberty's\", 4689: 'principles', 4690: 'dammit', 4691: 'earpiece', 4692: 'knit', 4693: 'doppler', 4694: 'settles', 4695: 'exhibit', 4696: 'onassis', 4697: 'flustered', 4698: 'the_edge:', 4699: 'robot', 4700: 'urinal', 4701: 'jeff_gordon:', 4702: 'chastity', 4703: 'arrange', 4704: 'moonshine', 4705: 'donated', 4706: 'blowfish', 4707: 'shreda', 4708: 'befriend', 4709: 'restless', 4710: 'jerk-ass', 4711: 'acceptance', 4712: 'cloudy', 4713: 'emporium', 4714: 'forbids', 4715: 'mccarthy', 4716: 'massage', 4717: 'bronco', 4718: 'felony', 4719: 'man_with_crazy_beard:', 4720: 'swatch', 4721: 'underwear', 4722: 'pajamas', 4723: 'created', 4724: 'incapable', 4725: '91', 4726: 'horror', 4727: 'swimming', 4728: 'imported-sounding', 4729: 'backing', 4730: 'scrubbing', 4731: 'shoulders', 4732: 'aquafresh', 4733: 'bathtub', 4734: 'frozen', 4735: 'switched', 4736: 'flashing', 4737: 'noooooooooo', 4738: 'error', 4739: 'savings', 4740: 'speed', 4741: 'kool', 4742: 'fuzzlepitch', 4743: \"yesterday's\", 4744: 'arguing', 4745: 'terrace', 4746: 'cursed', 4747: 'today/', 4748: 'hateful', 4749: 'in-in-in', 4750: 'awake', 4751: 'e', 4752: 'languages', 4753: 'this:', 4754: 'grey', 4755: 'oh-ho', 4756: 'presidents', 4757: 'stacey', 4758: 'tapping', 4759: 'lied', 4760: 'applesauce', 4761: 'prayers', 4762: 'safecracker', 4763: 'bolting', 4764: \"clancy's\", 4765: 'control', 4766: 'harm', 4767: 'telemarketing', 4768: 'dime', 4769: 'marvelous', 4770: 'crippling', 4771: 'geyser', 4772: 'grieving', 4773: 'nuked', 4774: 'sealed', 4775: 'data', 4776: 'doooown', 4777: 'kentucky', 4778: 'kenny', 4779: \"queen's\", 4780: 'basement', 4781: 'simple', 4782: 'diminish', 4783: 'breathtaking', 4784: 'neon', 4785: 'innocuous', 4786: 'traditions', 4787: 'w-a-3-q-i-zed', 4788: 'multi-national', 4789: 'fondest', 4790: 'detective', 4791: 'perplexed', 4792: 'slapped', 4793: 'pronto', 4794: 'whaaaa', 4795: 'initially', 4796: 'farthest', 4797: 'getcha', 4798: 'rapidly', 4799: 'meanwhile', 4800: 'horns', 4801: \"coaster's\", 4802: 'app', 4803: 'easter', 4804: 'ivory', 4805: 'annual', 4806: 'falsetto', 4807: 'eliminate', 4808: 'eve', 4809: 'mortal', 4810: 'computer_voice_2:', 4811: 'diablo', 4812: 'feisty', 4813: \"'pu\", 4814: 'peeping', 4815: 'rasputin', 4816: 'affectations', 4817: 'cases', 4818: 'kings', 4819: 'placed', 4820: 'grope', 4821: 'dregs', 4822: 'upsetting', 4823: 'facebook', 4824: 'shout', 4825: 'idealistic', 4826: 'fainted', 4827: \"washin'\", 4828: 'othello', 4829: '/mr', 4830: \"'now\", 4831: 'broncos', 4832: 'partners', 4833: 'extract', 4834: 'fail', 4835: \"rustlin'\", 4836: 'inches', 4837: 'sperm', 4838: 'cheated', 4839: 'sponsoring', 4840: 'ventriloquism', 4841: 'chairman', 4842: \"brady's\", 4843: 'device', 4844: 'sickens', 4845: 'stripes', 4846: \"choosin'\", 4847: 'tender', 4848: 'nameless', 4849: 'padres', 4850: 'mull', 4851: 'brick', 4852: 'sticker', 4853: 'unsanitary', 4854: 'jernt', 4855: 'figure', 4856: 'herself', 4857: 'dislike', 4858: 'flat', 4859: 'sensitivity', 4860: 'lenford', 4861: \"mcstagger's\", 4862: 'dreamy', 4863: 'mitts', 4864: \"cashin'\", 4865: 'misconstrue', 4866: 'ninety-seven', 4867: 'nightmare', 4868: 'mickey', 4869: 'lookalike', 4870: 'blade', 4871: 'automobiles', 4872: 'spits', 4873: 'paste', 4874: 'feat', 4875: 'sweat', 4876: 'coms', 4877: 'knuckle-dragging', 4878: 'cletus_spuckler:', 4879: 'logos', 4880: 'sees/', 4881: 'unjustly', 4882: 'transfer', 4883: 'average', 4884: 'mm-hmm', 4885: 'tragedy', 4886: 'thousand-year', 4887: 'twenty-four', 4888: \"y'see\", 4889: 'mckinley', 4890: 'gabriel:', 4891: 'madison', 4892: 'insurance', 4893: 'temple', 4894: 'single-mindedness', 4895: 'polygon', 4896: 'cheering', 4897: 'humiliation', 4898: 'cushion', 4899: 'royal', 4900: 'outlive', 4901: 'according', 4902: 'william', 4903: 'wildest', 4904: 'occupied', 4905: 'slaps', 4906: 'polls', 4907: 'macaulay', 4908: 'tapered', 4909: 'coughs', 4910: 'entering', 4911: 'ideas', 4912: 'shelbyville', 4913: 'mimes', 4914: 'wildfever', 4915: 'ancestors', 4916: 'feld', 4917: 'priority', 4918: 'safety', 4919: 'beaumont', 4920: 'reward', 4921: 'marched', 4922: 'wudgy', 4923: 'teen', 4924: 'stengel', 4925: 'tiger', 4926: \"renee's\", 4927: 'reptile', 4928: 'shells', 4929: \"'evening\", 4930: 'tar-paper', 4931: 'twentieth', 4932: 'freaky', 4933: 'pages', 4934: 'sickly', 4935: 'alibi', 4936: 'dig', 4937: \"edna's\", 4938: 'disgracefully', 4939: 'inning', 4940: 'weather', 4941: 'temporarily', 4942: \"'kay-zugg'\", 4943: 'jimmy', 4944: 'blessing', 4945: 'pews', 4946: 'wieners', 4947: 'jane', 4948: 'complicated', 4949: 'intakes', 4950: 'displeased', 4951: 'frescas', 4952: 'faint', 4953: 'salvador', 4954: 'dogs', 4955: 'asses', 4956: 'spiritual', 4957: 'passes', 4958: 'koji', 4959: 'attractive', 4960: 'spit-backs', 4961: 'species', 4962: 'barter', 4963: 'souped', 4964: 'pen', 4965: 'telegraph', 4966: \"duff's\", 4967: 'verdict', 4968: \"wouldn't-a\", 4969: '1-800-555-hugs', 4970: 'fledgling', 4971: '14', 4972: 'picky', 4973: 'cherry', 4974: 'limits', 4975: 'drapes', 4976: 'pussycat', 4977: 'clenched', 4978: 'swell', 4979: 'helps', 4980: 'leprechaun', 4981: 'donate', 4982: 'deeper', 4983: 'handling', 4984: 'earlier', 4985: 'toms', 4986: 'super-tough', 4987: 'warren', 4988: 'getup', 4989: \"speakin'\", 4990: 'poured', 4991: 'snout', 4992: 'steely-eyed', 4993: 'wears', 4994: 'appendectomy', 4995: 'up-bup-bup', 4996: 'philip', 4997: 'oak', 4998: 'knuckles', 4999: 'dã¼ffenbraus', 5000: 'splattered', 5001: 'quick-like', 5002: 'desperately', 5003: 'something:', 5004: 'ninety-six', 5005: \"battin'\", 5006: 'terminated', 5007: 'friction', 5008: 'halloween', 5009: 'shag', 5010: 'ribbon', 5011: 'duke', 5012: 'actor', 5013: 'ore', 5014: \"scammin'\", 5015: 'putty', 5016: 'offense', 5017: 'jumping', 5018: 'generosity', 5019: 'surgeonnn', 5020: 'pennies', 5021: 'dana_scully:', 5022: 'skills', 5023: 'asks', 5024: 'sucks', 5025: 'accidents', 5026: 'wok', 5027: 'blur', 5028: 'faiths', 5029: 'moe-lennium', 5030: 'napkins', 5031: 'heaving', 5032: 'fustigation', 5033: \"'roids\", 5034: 'anyhoo', 5035: 'hoped', 5036: 'boozehound', 5037: 'hunger', 5038: 'bleacher', 5039: 'chair', 5040: 'dozen', 5041: \"drexel's\", 5042: 'starla:', 5043: 'aghast', 5044: \"hell's\", 5045: 'mind-numbing', 5046: 'tonic', 5047: 'beverage', 5048: 'fbi_agent:', 5049: 'elaborate', 5050: 'harrowing', 5051: 'dumpster', 5052: 'wealthy', 5053: 'here-here-here', 5054: 'steinbrenner', 5055: 'hellhole', 5056: \"collector's\", 5057: 'caper', 5058: 'tuborg', 5059: \"'your\", 5060: 'dignity', 5061: 'caholic', 5062: 'author', 5063: 'tropical', 5064: 'terror', 5065: 'estranged', 5066: 'tight', 5067: 'judgments', 5068: 'adopted', 5069: 'ivanna', 5070: 'brakes', 5071: 'lodge', 5072: 'gheet', 5073: 'lookalike:', 5074: 'perfume', 5075: 'noose', 5076: 'startled', 5077: 'loathe', 5078: 'majesty', 5079: 'slop', 5080: 'problemo', 5081: 'factor', 5082: 'slays', 5083: 'poison', 5084: 'enlightened', 5085: 'purveyor', 5086: 'michael', 5087: 'groan', 5088: 'manatee', 5089: 'package', 5090: 'slab', 5091: \"s'cuse\", 5092: 'resenting', 5093: 'wiggle-frowns', 5094: 'sending', 5095: 'fast-paced', 5096: 'poetry', 5097: 'pretends', 5098: \"nixon's\", 5099: 'opens', 5100: \"coffee'll\", 5101: 'scram', 5102: 'flourish', 5103: 'drunkening', 5104: 'strokkur', 5105: 'fonzie', 5106: 'a-b-', 5107: 'panties', 5108: 'ears', 5109: 'predecessor', 5110: \"daughter's\", 5111: 'online', 5112: 'various', 5113: 'stained-glass', 5114: 'grammys', 5115: 'juan', 5116: 'sassy', 5117: 'failure', 5118: \"summer's\", 5119: 'dispenser', 5120: 'recorded', 5121: 'ashtray', 5122: 'shindig', 5123: 'official', 5124: 'midge:', 5125: 'regulations', 5126: 'officials', 5127: 'victim', 5128: 'stomach', 5129: 'courts', 5130: 'micronesian', 5131: 'si-lent', 5132: 'klown', 5133: \"stealin'\", 5134: 'allegiance', 5135: 'compare', 5136: 'attraction', 5137: 'virile', 5138: 'renew', 5139: 'pretentious_rat_lover:', 5140: 'perch', 5141: 'beatings', 5142: 'bushes', 5143: 'charlie:', 5144: 'visas', 5145: 'permitting', 5146: 'specialists', 5147: 'saving', 5148: 'guard', 5149: 'young_barfly:', 5150: 'polishing', 5151: 'repay', 5152: 'mellow', 5153: 'toy', 5154: 'trash', 5155: 'tin', 5156: 'baloney', 5157: 'newspaper', 5158: 'laughter', 5159: 'lenses', 5160: 'youth', 5161: 'upn', 5162: \"spiffin'\", 5163: 'norway', 5164: 'example', 5165: 'bottoms', 5166: 'darkness', 5167: 'crimes', 5168: 'sixty', 5169: 'shhh', 5170: 'winning', 5171: 'reading:', 5172: 'grumbling', 5173: 'byrne', 5174: 'doof', 5175: '1979', 5176: 'half-day', 5177: \"wearin'\", 5178: 'fast-food', 5179: 'stamps', 5180: 'sieben-gruben', 5181: 'selfish', 5182: 'expose', 5183: 'newsies', 5184: 'highball', 5185: 'mostrar', 5186: 'consoling', 5187: 'illustrates', 5188: 'waking-up', 5189: 'vin', 5190: 'togetherness', 5191: 'fatso', 5192: 'jazz', 5193: 'dropping', 5194: 'chapter', 5195: 'gentles', 5196: 'disappointing', 5197: 'stats', 5198: 'grind', 5199: 'thorn', 5200: 'eighty-five', 5201: 'pro', 5202: \"d'\", 5203: 'elizabeth', 5204: \"must've\", 5205: 'h', 5206: 'pudgy', 5207: 'fastest', 5208: 'carb', 5209: 'gulps', 5210: 'rainforest', 5211: 'jobless', 5212: 'doy', 5213: 'chapstick', 5214: 'carefully', 5215: 'wienerschnitzel', 5216: 'believer', 5217: 'composite', 5218: 'tomahto', 5219: 'jubilation', 5220: 'du', 5221: 'cigars', 5222: 'offensive', 5223: 'blocked', 5224: 'meaning', 5225: '50%', 5226: 'rem', 5227: 'hunka', 5228: 'generously', 5229: 'brunch', 5230: 'cans', 5231: 'contractors', 5232: 'wind', 5233: 'poplar', 5234: 'moxie', 5235: 'enhance', 5236: 'hate-hugs', 5237: 'replace', 5238: 'examples', 5239: \"mother's\", 5240: 'sturdy', 5241: 'phrase', 5242: 'disco_stu:', 5243: 'van', 5244: 'faulkner', 5245: 'haws', 5246: 'owes', 5247: \"somethin's\", 5248: \"squeezin'\", 5249: 'lecture', 5250: 'courthouse', 5251: 'lushmore', 5252: 'you-need-man', 5253: 'indifferent', 5254: 'madman', 5255: 'lobster', 5256: 'hmmmm', 5257: 'flanders:', 5258: 'idiots', 5259: 'waitress', 5260: 'beaumarchais', 5261: 'ze-ro', 5262: 'enthusiastically', 5263: 'macgregor', 5264: \"blowin'\", 5265: 'relaxing', 5266: 'predictable', 5267: 'entrance', 5268: 'gol-dangit', 5269: 'separator', 5270: 'obese', 5271: 'menacing', 5272: 'quarterback', 5273: 'triple-sec', 5274: 'cecil_terwilliger:', 5275: 'ultimate', 5276: 'daaaaad', 5277: 'sponge:', 5278: 'nasty', 5279: 'without:', 5280: \"fryer's\", 5281: \"man's\", 5282: 'cheaper', 5283: 'clothespins', 5284: 'outrageous', 5285: 'mouths', 5286: 'done:', 5287: 'rude', 5288: 'impeach', 5289: 'add', 5290: 'simpsons', 5291: \"'ceptin'\", 5292: 'silent', 5293: 'tuna', 5294: 'militia', 5295: 'absorbent', 5296: \"snappin'\", 5297: 'moon-bounce', 5298: 'rent', 5299: 'steaming', 5300: 'anxious', 5301: 'crowded', 5302: 'signal', 5303: 'engine', 5304: 'fumigated', 5305: 'rump', 5306: 'digging', 5307: 'declare', 5308: 'small_boy:', 5309: 'slim', 5310: 'pushes', 5311: 'whispered', 5312: 'sedaris', 5313: 'edge', 5314: 'background', 5315: 'committing', 5316: 'sun', 5317: \"listenin'\", 5318: 'accepting', 5319: 'determined', 5320: 'depressant', 5321: \"bladder's\", 5322: 'holy', 5323: 'strangles', 5324: 'brockelstein', 5325: 'cheesecake', 5326: 'hustle', 5327: 'crapmore', 5328: 'court', 5329: 'dictating', 5330: 'sickened', 5331: 'night-crawlers', 5332: 'rife', 5333: 'low-life', 5334: 'avec', 5335: 'blooded', 5336: 'cologne', 5337: 'stocking', 5338: 'wrap', 5339: 'repeating', 5340: 'priceless', 5341: 'led', 5342: 'chinese_restaurateur:', 5343: 'guzzles', 5344: 'starters', 5345: 'ruint', 5346: 'mmm-hmm', 5347: 'soir', 5348: 'blinds', 5349: \"c'mom\", 5350: 'items', 5351: \"family's\", 5352: 'rookie', 5353: 'kissed', 5354: 'combines', 5355: 'contemplates', 5356: 'snotty', 5357: 'raking', 5358: 'enjoys', 5359: 'eggshell', 5360: 'states', 5361: 'panicked', 5362: 'loboto-moth', 5363: 'twerpy', 5364: 'superdad', 5365: 'undermine', 5366: 'finance', 5367: 'carmichael', 5368: 'foodie', 5369: 'mumble', 5370: 'sixteen', 5371: 'statues', 5372: 'nick', 5373: 'wistful', 5374: 'arrested:', 5375: 'gil_gunderson:', 5376: 'winch', 5377: 'grocery', 5378: 'citizens', 5379: 'theatrical', 5380: 'tha', 5381: 'lookalikes', 5382: 'training', 5383: 'indeedy', 5384: 'schedule', 5385: 'read:', 5386: 'compressions', 5387: 'boxcar', 5388: 'irs', 5389: 'gore', 5390: 'tolerable', 5391: 'cab', 5392: 'simon', 5393: 'samples', 5394: 'pernt', 5395: 'corn', 5396: 'dejected', 5397: 'beard', 5398: 'rusty', 5399: 'john', 5400: 'said:', 5401: 'cup', 5402: 'refreshingness', 5403: 'glitz', 5404: 'installed', 5405: 'wolveriskey', 5406: 'nitwit', 5407: 'neighbors', 5408: 'flophouse', 5409: 'position', 5410: 'decide:', 5411: 'nevada', 5412: 'je', 5413: 'wheeeee', 5414: 'mac-who', 5415: \"duelin'\", 5416: 'aggie', 5417: 'outstanding', 5418: 'cadillac', 5419: 'errrrrrr', 5420: 'mole', 5421: \"tinklin'\", 5422: 'kansas', 5423: 'friend:', 5424: 'nervously', 5425: 'casting', 5426: 'life-extension', 5427: 'grinch', 5428: 'coy', 5429: 'hooters', 5430: 'merchants', 5431: 'inexorable', 5432: 'grandkids', 5433: 'meyerhof', 5434: 'society', 5435: 'scum-sucking', 5436: 'municipal', 5437: 'wagering', 5438: 'authenticity', 5439: 'mountain', 5440: 'flush', 5441: 'jer', 5442: 'resolution', 5443: 'jovial', 5444: 'kickoff', 5445: 'headhunters', 5446: 'blaze', 5447: 'highest', 5448: 'archaeologist', 5449: 'gregor', 5450: 'blamed', 5451: 'stinger', 5452: 'numeral', 5453: 'exhale', 5454: 'associate', 5455: 'luckily', 5456: 'fires', 5457: 'fake', 5458: 'dint', 5459: 'voted', 5460: 'reunion', 5461: 'spilled', 5462: 'pumping', 5463: 'homunculus', 5464: 'atari', 5465: 'sloe', 5466: 'carolina', 5467: 'whoever', 5468: 'libido', 5469: 'plane', 5470: 'eva', 5471: 'retain', 5472: 'musta', 5473: 'de', 5474: 'handoff', 5475: 'fleabag', 5476: 'notorious', 5477: 'fontaine', 5478: 'spare', 5479: 'colossal', 5480: 'ends', 5481: \"'round\", 5482: 'pip', 5483: 'grain', 5484: 'griffith', 5485: 'refill', 5486: 'dean', 5487: 'weep', 5488: 'jacks', 5489: 'lay', 5490: \"usin'\", 5491: 'man_at_bar:', 5492: 'hotenhoffer', 5493: 'semi-imported', 5494: 'peter_buck:', 5495: 'developed', 5496: 'coal', 5497: 'fdic', 5498: 'rutabaga', 5499: 'lingus', 5500: 'p-k', 5501: 'cobra', 5502: \"should've\", 5503: 'supermarket', 5504: 'savvy', 5505: \"jimbo's_dad:\", 5506: 'ingrates', 5507: 'spacey', 5508: 'cronies', 5509: 'tearfully', 5510: 'grammar', 5511: 'exact', 5512: 'divorced', 5513: 'slit', 5514: '-ry', 5515: 'dipping', 5516: 'shesh', 5517: 'possessions', 5518: 'st', 5519: \"handwriting's\", 5520: 'publishers', 5521: 'oblivious', 5522: 'ehhh', 5523: 'bowled', 5524: 'taunting', 5525: 'short_man:', 5526: 'stalking', 5527: 'dizzy', 5528: 'pushing', 5529: 'pretzel', 5530: 'drove', 5531: 'richard:', 5532: \"floatin'\", 5533: 'graves', 5534: 'poin-dexterous', 5535: 'wazoo', 5536: 'capuchin', 5537: 'woe:', 5538: 'disguise', 5539: 'optimistic', 5540: 'libraries', 5541: 'botanical', 5542: 'ripping', 5543: 'traitors', 5544: 'deny', 5545: 'designer', 5546: 'everyday', 5547: 'occasion', 5548: 'unusual', 5549: 'land', 5550: 'richer', 5551: 'xanders', 5552: 'taxi', 5553: 'encouraged', 5554: \"president's\", 5555: 'intoxicated', 5556: 'sincerely', 5557: \"depressin'\", 5558: \"spyin'\", 5559: 'depressing', 5560: 'however', 5561: 'minus', 5562: 'courteous', 5563: 'microphone', 5564: 'presto:', 5565: 'commanding', 5566: 'abolish', 5567: 'stage', 5568: 'naively', 5569: 'killarney', 5570: 'urge', 5571: 'piling', 5572: 'hawaii', 5573: 'meaningfully', 5574: 'forty-five', 5575: 'decision', 5576: 'lou', 5577: 'boozebag', 5578: 'in-ground', 5579: 'horrors', 5580: 'scratching', 5581: 'enveloped', 5582: 'winded', 5583: 'lear', 5584: 'seamstress', 5585: 'rationalizing', 5586: 'physical', 5587: 'mirthless', 5588: 'resigned', 5589: 'exclusive:', 5590: 'cesss', 5591: 'busiest', 5592: 'fat_in_the_hat:', 5593: 'stones', 5594: \"cuckold's\", 5595: 'wantcha', 5596: 'smitty:', 5597: 'onion', 5598: 'producers', 5599: 'dateline:', 5600: 'disturbance', 5601: 'halfway', 5602: 'skinny', 5603: 'scoffs', 5604: 'recent', 5605: '4x4', 5606: 'richard', 5607: 'firing', 5608: 'certificate', 5609: 'prejudice', 5610: 'wraps', 5611: 'sneering', 5612: 'published', 5613: 'appalled', 5614: 'insults', 5615: 'vigilante', 5616: 'bloodiest', 5617: 'surprised/thrilled', 5618: 'gruesome', 5619: 'hardhat', 5620: 'enterprising', 5621: 'counterfeit', 5622: 'repressed', 5623: 'releases', 5624: 'reality', 5625: \"starla's\", 5626: 'focused', 5627: 'unhappy', 5628: 'flayvin', 5629: 'rebuttal', 5630: 'laney', 5631: 'super-nice', 5632: 'heavens', 5633: 'disgraceful', 5634: 'flown', 5635: 'prizefighters', 5636: 'looting', 5637: 'bras', 5638: 'lily-pond', 5639: 'stu', 5640: 'snail', 5641: 'space-time', 5642: 'thirsty', 5643: 'donuts', 5644: 'dice', 5645: 'giant', 5646: 'punkin', 5647: 'rip', 5648: 'wound', 5649: 'vengeful', 5650: 'bites', 5651: 'mailbox', 5652: 'researching', 5653: 'ummmmmmmmm', 5654: 'coherent', 5655: 'rebuilt', 5656: 'warning', 5657: 'cockroaches', 5658: 'three-man', 5659: 'fuhgetaboutit', 5660: 'santeria', 5661: 'whim', 5662: 'planted', 5663: 'neighboreeno', 5664: 'scatter', 5665: 'ripper', 5666: \"kid's\", 5667: 'squad', 5668: 'scientists', 5669: 'leftover', 5670: 'full-time', 5671: 'runt', 5672: 'buddha', 5673: 'dennis', 5674: 'sheets', 5675: 'beer-jerks', 5676: 'ford', 5677: 'sugar-free', 5678: \"'er\", 5679: 'bono', 5680: 'badly', 5681: 'choke', 5682: 'thoughtless', 5683: 'cecil', 5684: 'instantly', 5685: 'cannoli', 5686: 'duffed', 5687: 'writer:', 5688: 'supply', 5689: 'male_singers:', 5690: 'lance', 5691: \"bashir's\", 5692: 'homer_doubles:', 5693: 'cowboy', 5694: 'lady-free', 5695: 'inserted', 5696: 'cappuccino', 5697: 'heliotrope', 5698: 'bagged', 5699: 'pets', 5700: \"dimwit's\", 5701: 'generally', 5702: 'smiled', 5703: 'fortress', 5704: 'mary', 5705: 'youngsters', 5706: 'brainiac', 5707: 'slot', 5708: 'fat-free', 5709: 'naegle', 5710: 'bulked', 5711: 'sticking', 5712: 'alls', 5713: 'eco-fraud', 5714: 'stink', 5715: 'life-threatening', 5716: 'slipped', 5717: 'stays', 5718: 'adjust', 5719: 'crisis', 5720: 'unearth', 5721: 'modestly', 5722: 'gloop', 5723: 'world-class', 5724: 'links', 5725: 'six-barrel', 5726: 'waist', 5727: 'insecure', 5728: 'heather', 5729: 'application', 5730: 'a-lug', 5731: 'dateline', 5732: 'julienne', 5733: 'contemplated', 5734: 'tanking', 5735: 'sitcom', 5736: 'anti-lock', 5737: 'lowest', 5738: 'buffet', 5739: 'living', 5740: 'germans', 5741: 'lovejoy', 5742: 'terrifying', 5743: 'grandã©', 5744: 'disguised', 5745: '50-60', 5746: 'chained', 5747: 'singer', 5748: 'aisle', 5749: 'moesy', 5750: 'chunky', 5751: 'show-off', 5752: 'aiden', 5753: 'conditioners', 5754: 'trees', 5755: 'germany', 5756: 'rivalry', 5757: 'wiggle', 5758: \"'\", 5759: \"plaster's\", 5760: 'store-bought', 5761: 'helping', 5762: 'ear', 5763: 'feminine', 5764: 'manuel', 5765: 'sixty-five', 5766: 'painted', 5767: 'fry', 5768: 'gus', 5769: 'whatsit', 5770: 'ruuuule', 5771: 'betrayed', 5772: 'chow', 5773: 'blows', 5774: 'audience:', 5775: 'sail', 5776: 'theme', 5777: 'hollye', 5778: 'mice', 5779: 'bits', 5780: 'evils', 5781: 'accounta', 5782: 'banned', 5783: 'bugs', 5784: 'hemoglobin', 5785: 'suave', 5786: 'united', 5787: 'kissingher', 5788: 'premise', 5789: 'lady_duff:', 5790: 'oughta', 5791: 'barney-guarding', 5792: 'foam', 5793: 'cuckoo', 5794: 'wipes', 5795: 'albeit', 5796: 'stewart', 5797: 'thrust', 5798: 'sheriff', 5799: \"idea's\", 5800: 'cozies', 5801: 'sacajawea', 5802: 'sequel', 5803: 'astrid', 5804: 'shakes', 5805: 'stirrers', 5806: 'unusually', 5807: \"tatum'll\", 5808: \"tonight's\", 5809: 'invulnerable', 5810: 'graveyard', 5811: 'plastered', 5812: 'agh', 5813: 'sets', 5814: 'iddilies', 5815: 'lifts', 5816: 'connection', 5817: 'amber', 5818: 'modest', 5819: 'delays', 5820: 'champs', 5821: \"'cept\", 5822: 'anthony_kiedis:', 5823: 'heart-broken', 5824: 'roach', 5825: 'investment', 5826: 'mines', 5827: 'supreme', 5828: 'dignified', 5829: 'gimmicks', 5830: \"lady's\", 5831: 'nahasapeemapetilon', 5832: 'eight-year-old', 5833: 'protecting', 5834: 'stairs', 5835: 'squirrels', 5836: 'limber', 5837: 'bachelorhood', 5838: 'ungrateful', 5839: 'spitting', 5840: 'extinguishers', 5841: 'nucular', 5842: 'dirty', 5843: 'sleigh-horses', 5844: 'elite', 5845: 'dealt', 5846: 'j', 5847: 'sprawl', 5848: 'watched', 5849: 'poke', 5850: 'build', 5851: 'fights', 5852: 'donut', 5853: 'ducked', 5854: 'terrorizing', 5855: 'sister-in-law', 5856: 'railroads', 5857: '35', 5858: 'captain', 5859: 'whale', 5860: 'booger', 5861: 'affection', 5862: 'clubs', 5863: 'unexplained', 5864: 'wobble', 5865: 'presently', 5866: 'ura', 5867: 'navy', 5868: 'clench', 5869: 'colorado', 5870: \"shootin'\", 5871: 'agent_miller:', 5872: 'moe_recording:', 5873: 'honeys', 5874: 'meditative', 5875: 'bluff', 5876: \"beggin'\", 5877: 'presents', 5878: 'aggravazes', 5879: 'dimly', 5880: 'england', 5881: 'upgrade', 5882: 'belts', 5883: 'whoopi', 5884: 'patented', 5885: 'stein-stengel-', 5886: 'odor', 5887: 'nachos', 5888: 'dealie', 5889: 'starla', 5890: 'blubberino', 5891: 'renovations', 5892: \"thing's\", 5893: 'moonlight', 5894: 'brine', 5895: 'asleep', 5896: 'gallon', 5897: 'bill_james:', 5898: 'jaegermeister', 5899: 'experiments', 5900: 'fatty', 5901: 'increased', 5902: 'ding-a-ding-ding-a-ding-ding', 5903: 'compromise:', 5904: 'kucinich', 5905: '21', 5906: 'amused', 5907: 'choices', 5908: \"g'ahead\", 5909: 'microbrew', 5910: 'rug', 5911: 'clincher', 5912: 'wondered', 5913: 'uglier', 5914: \"d'ya\", 5915: 'teriyaki', 5916: 'eightball', 5917: 'lessee', 5918: 'orders', 5919: 'defected', 5920: 'occurrence', 5921: 'race', 5922: 'diets', 5923: \"car's\", 5924: 'con', 5925: 'sight-unseen', 5926: 'calvin', 5927: 'photos', 5928: 'forty-nine', 5929: 'massachusetts', 5930: 'reminded', 5931: 'barbed', 5932: 'sunny', 5933: 'jasper_beardly:', 5934: 'delightful', 5935: 'timbuk-tee', 5936: 'alcoholism', 5937: 'jams', 5938: 'someplace', 5939: 'spotting', 5940: 'nauseous', 5941: 'newly-published', 5942: 'politicians', 5943: 'encouraging', 5944: 'soaps', 5945: 'clown-like', 5946: 'mansions', 5947: 'distract', 5948: 'arm-pittish', 5949: 'stan', 5950: 'demand', 5951: \"tramp's\", 5952: 'newest', 5953: '3', 5954: 'shill', 5955: 'two-thirds-empty', 5956: \"o'\", 5957: 'unable', 5958: 'senators:', 5959: \"wait'll\", 5960: 'non-losers', 5961: 'eyeballs', 5962: 'ninety-eight', 5963: 'intoxicants', 5964: 'squeeze', 5965: 'stamp', 5966: 'thrilled', 5967: 'pontiff', 5968: 'healthier', 5969: 'man_with_tree_hat:', 5970: 'piano', 5971: 'shush', 5972: 'stab', 5973: \"sat's\", 5974: 'hooch', 5975: 'answered', 5976: 'radiator', 5977: 'student', 5978: 'woodchucks', 5979: 'expense', 5980: 'saucy', 5981: 'lee', 5982: 'murderously', 5983: 'hockey-fight', 5984: 'boisterous', 5985: 'selective', 5986: 'ping-pong', 5987: 'scornful', 5988: 'veteran', 5989: 'nor', 5990: \"singin'\", 5991: 'catholic', 5992: '2nd_voice_on_transmitter:', 5993: 'stares', 5994: 'radioactive', 5995: 'collateral', 5996: 'celebration', 5997: 'random', 5998: 'horses', 5999: 'launch', 6000: 'charming', 6001: 'brown', 6002: 'hampstead-on-cecil-cecil', 6003: 'nursemaid', 6004: 'kemi', 6005: 'mock-up', 6006: 'mike_mills:', 6007: \"mtv's\", 6008: 'wild', 6009: \"mopin'\", 6010: 'zinged', 6011: 'swimmers', 6012: 'wholeheartedly', 6013: 'spelling', 6014: 'shriners', 6015: 'snatch', 6016: 'f-l-a-n-r-d-s', 6017: \"playin'\", 6018: 'skinheads', 6019: 'boxcars', 6020: 'pillows', 6021: \"eatin'\", 6022: 'grenky', 6023: \"life's\", 6024: 'i/you', 6025: 'moolah-stealing', 6026: 'adult', 6027: 'bar:', 6028: \"pickin'\", 6029: 'apron', 6030: 'grrrreetings', 6031: 'stalwart', 6032: 'huhza', 6033: \"betsy'll\", 6034: 'pugilist', 6035: 'captain:', 6036: 'ugliness', 6037: 'die-hard', 6038: 'astonishment', 6039: 'presses', 6040: 'lipo', 6041: 'ought', 6042: 'tourist', 6043: 'brace', 6044: 'twelve-step', 6045: 'worthless', 6046: 'swigmore', 6047: 'heh-heh', 6048: 'explanation', 6049: 'and/or', 6050: 'behavior', 6051: 'swan', 6052: 'funeral', 6053: 'vulgar', 6054: 'pepper', 6055: 'wisconsin', 6056: 'west', 6057: 'tyson/secretariat', 6058: 'alternative', 6059: 'loneliness', 6060: 'chill', 6061: 'including', 6062: 'x-men', 6063: 'larson', 6064: 'strategizing', 6065: 'habitrail', 6066: 'ahhhh', 6067: 'cell-ee', 6068: 'serum', 6069: \"cheerin'\", 6070: 'touches', 6071: 'washouts', 6072: 'burt_reynolds:', 6073: 'nagurski', 6074: 'praise', 6075: 'hangover', 6076: 'kako:', 6077: 'popping', 6078: 'unbelievable', 6079: 'splendid', 6080: 'eyeing', 6081: 'tapestry', 6082: 'wittgenstein', 6083: 'direction', 6084: 'picnic', 6085: 'partially', 6086: 'dash', 6087: 'supervising', 6088: 'devils:', 6089: 'dealer', 6090: 'salvation', 6091: \"tap-pullin'\", 6092: 'it:', 6093: \"elmo's\", 6094: 'competitive', 6095: 'one-hour', 6096: 'cage', 6097: 'malabar', 6098: 'tubman', 6099: 'brandy', 6100: \"time's\", 6101: \"lefty's\", 6102: \"changin'\", 6103: 'yells', 6104: 'bell', 6105: 'watered', 6106: 'dae', 6107: 'half-back', 6108: 'solved', 6109: 'ihop', 6110: 'mariah', 6111: 'stalin', 6112: 'poisoning', 6113: 'beef', 6114: 'apology', 6115: 'concentrate', 6116: 'penmanship', 6117: 'ointment', 6118: 'cats', 6119: 'represents', 6120: 'bliss', 6121: 'tidy', 6122: 'sweetie', 6123: 'cavern', 6124: \"swishifyin'\", 6125: 'skoal', 6126: 'chips', 6127: 'shaky', 6128: 'reaches', 6129: 'dads', 6130: 'cosmetics', 6131: 'williams', 6132: 'replaced', 6133: 'improv', 6134: 'suburban', 6135: 'malfeasance', 6136: 'fills', 6137: 'schorr', 6138: \"she'll\", 6139: 'endorsement', 6140: 'homesick', 6141: 'telephone', 6142: 'clandestine', 6143: 'bumblebee_man:', 6144: 'dazed', 6145: 'musical', 6146: 'choice:', 6147: 'goal', 6148: 'cocks', 6149: 'inquiries', 6150: 'nap', 6151: 'hearts', 6152: 'fifth', 6153: 'law-abiding', 6154: 'cab_driver:', 6155: 'muslim', 6156: 'trivia', 6157: 'bedridden', 6158: 'bulldozing', 6159: 'streetlights', 6160: 'landlord', 6161: 'handler', 6162: 'broken:', 6163: 'trade', 6164: 'risquã©', 6165: 'hitchhike', 6166: 'gunk', 6167: 'and-and', 6168: 'hems', 6169: \"burnin'\", 6170: 'leak', 6171: 'spender', 6172: 'anonymous', 6173: 'mexican_duffman:', 6174: 'johnny_carson:', 6175: 'hat', 6176: 'pure', 6177: 'julep', 6178: 'mix', 6179: 'latour', 6180: 'barbara', 6181: 'pizzicato', 6182: 'ron', 6183: 'hunky', 6184: 'gossipy', 6185: 'espn', 6186: 'moonnnnnnnn', 6187: 'picked', 6188: 'blokes', 6189: 'advertise', 6190: 'handed', 6191: 'mis-statement', 6192: 'connor', 6193: 'comforting', 6194: 'yellow-belly', 6195: 'appreciate', 6196: 'rotten', 6197: 'voyager', 6198: 'item', 6199: 'passenger', 6200: \"tomorrow's\", 6201: 'buzz', 6202: 'grains', 6203: 'bachelorette', 6204: \"boy's\", 6205: 'life:', 6206: 'sketch', 6207: 'neanderthal', 6208: 'soaked', 6209: 'site', 6210: 'beady', 6211: 'white_rabbit:', 6212: \"this'll\", 6213: 'crowds', 6214: 'refreshment', 6215: 'flame', 6216: 'leonard', 6217: 'youuu', 6218: 'startup', 6219: 'tribute', 6220: 'term', 6221: 'sunglasses', 6222: 'labor', 6223: 'parked', 6224: 'gasoline', 6225: 'gunter:', 6226: 'itself', 6227: 'cranberry', 6228: 'hounds', 6229: 'binoculars', 6230: '7g', 6231: 'snotball', 6232: 'anti-crime', 6233: 'souvenir', 6234: 'lurks', 6235: 'watt', 6236: 'rocks', 6237: 'rain', 6238: 'squeezed', 6239: 'ehhhhhh', 6240: 'microwave', 6241: 'suspiciously', 6242: 'circus', 6243: 'foundation', 6244: 'karaoke_machine:', 6245: 'countryman', 6246: 'milhouses', 6247: 'spite', 6248: 'liability', 6249: 'nibble', 6250: 'persia', 6251: 'cause', 6252: 'fresco', 6253: 'shop', 6254: 'begin', 6255: 'part-time', 6256: 'leathery', 6257: 'fiction', 6258: 'slobbo', 6259: '10:15', 6260: 'distance', 6261: 'sang', 6262: 'alky', 6263: 'tasimeter', 6264: \"something's\", 6265: 'incredible', 6266: 'flea:', 6267: 'einstein', 6268: 'intention', 6269: 'strawberry', 6270: 'forgotten', 6271: 'lincoln', 6272: 'alec_baldwin:', 6273: 'sink', 6274: 'cliff', 6275: 'screws', 6276: 'squishee', 6277: 'lis', 6278: 'rig', 6279: 'phasing', 6280: 'older', 6281: 'sight', 6282: 'grin', 6283: 'depending', 6284: 'finale', 6285: 'th', 6286: 'africanized', 6287: 'twenty-six', 6288: 'unbelievably', 6289: 'glummy', 6290: 'hammy', 6291: 'hook', 6292: 'bleeding', 6293: 'arts', 6294: 'network', 6295: 'strain', 6296: 'strains', 6297: 'pack', 6298: 'difference', 6299: 'enjoyed', 6300: 'hoagie', 6301: 'settlement', 6302: 'steamed', 6303: 'ohhhh', 6304: 'repeated', 6305: \"somethin':\", 6306: 'lump', 6307: 'perfected', 6308: 'flailing', 6309: 'chunk', 6310: 'appearance-altering', 6311: 'disposal', 6312: 'pointedly', 6313: 'consulting', 6314: 'tremendous', 6315: 'desire', 6316: 'drollery', 6317: 'fantasy', 6318: 'occupation', 6319: 'improved', 6320: 'irishman', 6321: 'located', 6322: 'patrons', 6323: 'prince', 6324: 'portfolium', 6325: 'peaked', 6326: 'fury', 6327: 'bullet-proof', 6328: 'sizes', 6329: 'fica', 6330: 'sternly', 6331: 'squabbled', 6332: 'neighborhood', 6333: 'hearse', 6334: 'carpet', 6335: 'perã³n', 6336: 'kodos:', 6337: 'mystery', 6338: 'killer', 6339: 'sobriety', 6340: 'choices:', 6341: \"fun's\", 6342: 'smiles', 6343: 'sistine', 6344: 'goblins', 6345: 'november', 6346: 'tee', 6347: 'strips', 6348: 'damned', 6349: 'event', 6350: 'billiard', 6351: 'competing', 6352: 'minors', 6353: 'soul-crushing', 6354: 'convinced', 6355: 'son-of-a', 6356: 'luckiest', 6357: 'apply', 6358: 'adrift', 6359: 'mill', 6360: 'progress', 6361: 'gordon', 6362: 'lift', 6363: 'hurting', 6364: \"hole'\", 6365: 'glowers', 6366: 'thrown', 6367: 'buds', 6368: 'immiggants', 6369: 'head-gunk', 6370: 'clams', 6371: 'mabel', 6372: 'bubbles-in-my-nose-y', 6373: 'transmission', 6374: 'democracy', 6375: 'grease', 6376: 'hidden', 6377: 'delightfully', 6378: 'rip-off', 6379: \"renovatin'\", 6380: 'ing', 6381: 'ã', 6382: 'bathed', 6383: 'eternity', 6384: 'spectacular', 6385: 'nelson', 6386: 'weapon', 6387: 'wars', 6388: 'paintings', 6389: 'streetcorner', 6390: 'tons', 6391: 'stood', 6392: 'betcha', 6393: 'punching', 6394: 'effervescence', 6395: 'grub', 6396: 'endorsed', 6397: 'declan', 6398: 'pawed', 6399: 'caveman', 6400: 'cock', 6401: \"england's\", 6402: 'runners', 6403: \"murphy's\", 6404: 'verticality', 6405: 'drinker', 6406: 'papa', 6407: \"donatin'\", 6408: 'muffled', 6409: 'bedtime', 6410: 'swe-ee-ee-ee-eet', 6411: 'specific', 6412: \"disrobin'\", 6413: 'stonewall', 6414: 'lizard', 6415: 'hoax', 6416: 'quimby_#2:', 6417: 'pus-bucket', 6418: 'imaginary', 6419: 'y', 6420: 'y-you', 6421: 'equal', 6422: 'amnesia', 6423: 'hundreds', 6424: 'legoland', 6425: 'solely', 6426: 'woulda', 6427: 'capitalists', 6428: 'knowledge', 6429: 'gig', 6430: 'roz', 6431: 'lager', 6432: 'phlegm', 6433: 'promotion', 6434: 'badge', 6435: 'methinks', 6436: 'eighteen', 6437: '1973', 6438: \"'n'\", 6439: 'suspenders', 6440: 'mexican', 6441: 'rash', 6442: 'bartholomã©:', 6443: 'talkative', 6444: 'maher', 6445: 'introduce', 6446: 'dawning', 6447: 'backward', 6448: 'bridges', 6449: 'nascar', 6450: 'lofty', 6451: 'remodel', 6452: 'inserts', 6453: 'unavailable', 6454: 'fire_inspector:', 6455: 'wednesday', 6456: 'landfill', 6457: 'occurred', 6458: 'trunk', 6459: 'bull', 6460: 'burglary', 6461: 'wuss', 6462: 'dreamily', 6463: 'process', 6464: 'scrutinizing', 6465: 'kicks', 6466: 'sucking', 6467: 'lovers', 6468: 'ebullient', 6469: 'absentminded', 6470: 'hooray', 6471: 'shark', 6472: 'sanctuary', 6473: 'fountain', 6474: 'rabbits', 6475: 'nelson_muntz:', 6476: 'mulder', 6477: 'continued', 6478: 'burger', 6479: 'oughtta', 6480: 'helpful', 6481: 'host', 6482: 'virility', 6483: 'consciousness', 6484: 'locklear', 6485: 'fluoroscope', 6486: 'community', 6487: 'musketeers', 6488: 'agency', 6489: 'clap', 6490: 'blank', 6491: 'nos', 6492: \"man'd\", 6493: 'nfl_narrator:', 6494: 'oddest', 6495: 'wiping', 6496: 'stumble', 6497: 'forget-me-drinks', 6498: 'flashbacks', 6499: 'nectar', 6500: 'patrons:', 6501: 'propose', 6502: 'zack', 6503: 'smuggled', 6504: \"smackin'\", 6505: 'way:', 6506: 'chew', 6507: 'expensive', 6508: 'glitterati', 6509: 'she-pu', 6510: 'tempting', 6511: 'ignoring', 6512: 'medieval', 6513: \"kearney's_dad:\", 6514: 'wenceslas', 6515: 'witches', 6516: \"man's_voice:\", 6517: '_eugene_blatz:', 6518: 'hemorrhage-amundo', 6519: 'enforced', 6520: 'brunswick', 6521: 'guilt', 6522: 'cummerbund', 6523: \"mecca's\", 6524: 'handshake', 6525: 'ferry', 6526: \"jackpot's\", 6527: 'temples', 6528: 'trenchant', 6529: 'breakfast', 6530: 'ballot', 6531: 'superpower', 6532: \"heat's\", 6533: 'sideshow_mel:', 6534: \"linin'\", 6535: 'ruled', 6536: 'discriminate', 6537: 'celebrate', 6538: 'listens', 6539: 'wrecking', 6540: 'hilton', 6541: 'harmony', 6542: 'helpless', 6543: 'unkempt', 6544: 'little_hibbert_girl:', 6545: 'sour', 6546: 'oooo', 6547: 'information', 6548: 'instrument', 6549: 'villanova', 6550: 'barkeeps', 6551: 'composer', 6552: 'california', 6553: 'poetics', 6554: 'clips', 6555: 'indigenous', 6556: 'sharity', 6557: 'groin', 6558: 'beefs', 6559: 'activity', 6560: 'thawing', 6561: 'option', 6562: 'painless', 6563: 'limited', 6564: 'depository', 6565: 'audience', 6566: 'oblongata', 6567: 'rockers', 6568: 'sooo', 6569: \"'ere\", 6570: 'flames', 6571: 'rainbows', 6572: 'suspended', 6573: 'mocking', 6574: 'certainly', 6575: 'bursts', 6576: 'powers', 6577: 'jã¤germeister', 6578: 'cocking', 6579: 'other_book_club_member:', 6580: 'reader', 6581: 'mommy', 6582: 'promise', 6583: 'credit', 6584: 'pulitzer', 6585: 'sweaty', 6586: 'manfred', 6587: 'illegally', 6588: 'fink', 6589: 'jeter', 6590: 'sky', 6591: 'sniper', 6592: 'twelveball', 6593: 'considering:', 6594: 'grubby', 6595: 'appreciated', 6596: 'notices', 6597: 'milks', 6598: 'kinds', 6599: 'booth', 6600: 'fustigate', 6601: 'natured', 6602: 'zoomed', 6603: 'shareholder', 6604: 'gr-aargh', 6605: 'cyrano', 6606: 'larry', 6607: 'infestation', 6608: 'dexterous', 6609: 'homer_', 6610: 'apulina', 6611: 'mags', 6612: 'lard', 6613: \"neat's-foot\", 6614: 'peppers', 6615: 'unsourced', 6616: 'parasol', 6617: 'taxes', 6618: 'whoops', 6619: 'presided', 6620: 'oils', 6621: 'thirty-five', 6622: 'tow-talitarian', 6623: 'meals', 6624: 'advertising', 6625: 'amiable', 6626: 'sloppy', 6627: 'reserved', 6628: 'old-time', 6629: 'bumped', 6630: 'butterball', 6631: 'hugh', 6632: 'kennedy', 6633: 'clapping', 6634: 'civil', 6635: 'lifestyle', 6636: 'refreshing', 6637: 'golden', 6638: 'coined', 6639: 'craft', 6640: 'liable', 6641: 'marquee', 6642: 'repairman', 6643: 'confidential', 6644: 'peabody', 6645: 'pile', 6646: 'sharing', 6647: 'encore', 6648: 'flash-fry', 6649: 'regretful', 6650: 'insured', 6651: 'gotcha', 6652: 'theatah', 6653: 'slurps', 6654: 'bachelor', 6655: 'worldly', 6656: 'stickers', 6657: 'disaster', 6658: 'meteor', 6659: \"games'd\", 6660: 'hears', 6661: 'walther', 6662: 'spine', 6663: 'newsletter', 6664: 'scent', 6665: 'intriguing', 6666: 'soaking', 6667: 'rat-like', 6668: 'dumb-asses', 6669: \"ragin'\", 6670: 'toe', 6671: 'committee', 6672: 'insensitive', 6673: 'lorre', 6674: 'exception:', 6675: 'ron_howard:', 6676: 'thnord', 6677: 'punishment', 6678: 'fortensky', 6679: 'intervention', 6680: 'whup', 6681: 'forecast', 6682: \"poundin'\", 6683: 'braun:', 6684: 'ghouls', 6685: \"secret's\", 6686: 'completely', 6687: 'tv_daughter:', 6688: 'hardy', 6689: 'blind', 6690: 'movement', 6691: 'frink-y', 6692: 'bottomless', 6693: 'crinkly', 6694: 'tense', 6695: 'rom', 6696: 'typed', 6697: 'drunkenly', 6698: 'olive', 6699: 'ruby-studded', 6700: 'whining', 6701: 'so-ng', 6702: 'old_jewish_man:', 6703: 'thing:', 6704: 'totalitarians', 6705: 'filth', 6706: 'certified', 6707: 'protesters', 6708: \"'morning\", 6709: 'wizard', 6710: 'stingy', 6711: 'yelp', 6712: 'refinanced', 6713: 'rumor', 6714: 'cuddling', 6715: \"treatin'\", 6716: 'relative', 6717: 'awareness', 6718: 'tire', 6719: 'debonair', 6720: 'waste', 6721: 'plucked', 6722: 'amber_dempsey:', 6723: 'voters', 6724: 'los', 6725: 'moe-clone', 6726: 'jackson', 6727: 'insist', 6728: 'jury', 6729: \"pullin'\", 6730: 'protesting', 6731: 'hosting', 6732: \"dog's\", 6733: 'ease', 6734: 'blissful', 6735: 'socratic', 6736: 'station', 6737: 'robin', 6738: 'effect', 6739: 'nemo', 6740: 'cleveland', 6741: 'puzzle', 6742: 'polenta', 6743: \"getting'\", 6744: 'science', 6745: 'reciting', 6746: 'ails', 6747: 'count', 6748: 'mini-dumpsters', 6749: 'bowie', 6750: 'wife-swapping', 6751: 'privacy', 6752: 'model', 6753: 'escort', 6754: 'deli', 6755: 'lumpa', 6756: 'haikus', 6757: 'cheaped', 6758: 'affects', 6759: 'throats', 6760: 'mini-beret', 6761: 'whaddya', 6762: 'mugs', 6763: 'disappear', 6764: 'quadruple-sec', 6765: 'haiti', 6766: 'grants', 6767: \"cupid's\", 6768: 'crow', 6769: \"brockman's\", 6770: 'wikipedia', 6771: 'post-suicide', 6772: 'buyer', 6773: 'appeals', 6774: 'guttural', 6775: 'snapping', 6776: \"america's\", 6777: 'pink', 6778: 'crowbar', 6779: 'emergency'}\n"
     ]
    },
    {
     "ename": "IndexError",
     "evalue": "index 1 is out of bounds for axis 0 with size 1",
     "output_type": "error",
     "traceback": [
      "\u001b[1;31m---------------------------------------------------------------------------\u001b[0m",
      "\u001b[1;31mIndexError\u001b[0m                                Traceback (most recent call last)",
      "\u001b[1;32m<ipython-input-15-1db8abe06e71>\u001b[0m in \u001b[0;36m<module>\u001b[1;34m()\u001b[0m\n\u001b[0;32m     30\u001b[0m             {input_text: dyn_input, initial_state: prev_state})\n\u001b[0;32m     31\u001b[0m \u001b[1;33m\u001b[0m\u001b[0m\n\u001b[1;32m---> 32\u001b[1;33m         \u001b[0mpred_word\u001b[0m \u001b[1;33m=\u001b[0m \u001b[0mpick_word\u001b[0m\u001b[1;33m(\u001b[0m\u001b[0mprobabilities\u001b[0m\u001b[1;33m[\u001b[0m\u001b[0mdyn_seq_length\u001b[0m\u001b[1;33m-\u001b[0m\u001b[1;36m1\u001b[0m\u001b[1;33m]\u001b[0m\u001b[1;33m,\u001b[0m \u001b[0mint_to_vocab\u001b[0m\u001b[1;33m)\u001b[0m\u001b[1;33m\u001b[0m\u001b[0m\n\u001b[0m\u001b[0;32m     33\u001b[0m \u001b[1;33m\u001b[0m\u001b[0m\n\u001b[0;32m     34\u001b[0m         \u001b[0mgen_sentences\u001b[0m\u001b[1;33m.\u001b[0m\u001b[0mappend\u001b[0m\u001b[1;33m(\u001b[0m\u001b[0mpred_word\u001b[0m\u001b[1;33m)\u001b[0m\u001b[1;33m\u001b[0m\u001b[0m\n",
      "\u001b[1;31mIndexError\u001b[0m: index 1 is out of bounds for axis 0 with size 1"
     ]
    }
   ],
   "source": [
    "gen_length = 200\n",
    "# homer_simpson, moe_szyslak, or Barney_Gumble\n",
    "prime_word = 'moe_szyslak'\n",
    "\n",
    "\"\"\"\n",
    "DON'T MODIFY ANYTHING IN THIS CELL THAT IS BELOW THIS LINE\n",
    "\"\"\"\n",
    "loaded_graph = tf.Graph()\n",
    "with tf.Session(graph=loaded_graph) as sess:\n",
    "    # Load saved model\n",
    "    loader = tf.train.import_meta_graph(load_dir + '.meta')\n",
    "    loader.restore(sess, load_dir)\n",
    "\n",
    "    # Get Tensors from loaded model\n",
    "    input_text, initial_state, final_state, probs = get_tensors(loaded_graph)\n",
    "\n",
    "    # Sentences generation setup\n",
    "    gen_sentences = [prime_word + ':']\n",
    "    prev_state = sess.run(initial_state, {input_text: np.array([[1]])})\n",
    "\n",
    "    # Generate sentences\n",
    "    for n in range(gen_length):\n",
    "        # Dynamic Input\n",
    "        dyn_input = [[vocab_to_int[word] for word in gen_sentences[-seq_length:]]]\n",
    "        dyn_seq_length = len(dyn_input[0])\n",
    "\n",
    "        # Get Prediction\n",
    "        probabilities, prev_state = sess.run(\n",
    "            [probs, final_state],\n",
    "            {input_text: dyn_input, initial_state: prev_state})\n",
    "        \n",
    "        pred_word = pick_word(probabilities[dyn_seq_length-1], int_to_vocab)\n",
    "\n",
    "        gen_sentences.append(pred_word)\n",
    "    \n",
    "    # Remove tokens\n",
    "    tv_script = ' '.join(gen_sentences)\n",
    "    for key, token in token_dict.items():\n",
    "        ending = ' ' if key in ['\\n', '(', '\"'] else ''\n",
    "        tv_script = tv_script.replace(' ' + token.lower(), key)\n",
    "    tv_script = tv_script.replace('\\n ', '\\n')\n",
    "    tv_script = tv_script.replace('( ', '(')\n",
    "        \n",
    "    print(tv_script)"
   ]
  },
  {
   "cell_type": "markdown",
   "metadata": {},
   "source": [
    "# The TV Script is Nonsensical\n",
    "It's ok if the TV script doesn't make any sense.  We trained on less than a megabyte of text.  In order to get good results, you'll have to use a smaller vocabulary or get more data.  Luckly there's more data!  As we mentioned in the begging of this project, this is a subset of [another dataset](https://www.kaggle.com/wcukierski/the-simpsons-by-the-data).  We didn't have you train on all the data, because that would take too long.  However, you are free to train your neural network on all the data.  After you complete the project, of course.\n",
    "# Submitting This Project\n",
    "When submitting this project, make sure to run all the cells before saving the notebook. Save the notebook file as \"dlnd_tv_script_generation.ipynb\" and save it as a HTML file under \"File\" -> \"Download as\". Include the \"helper.py\" and \"problem_unittests.py\" files in your submission."
   ]
  }
 ],
 "metadata": {
  "kernelspec": {
   "display_name": "Python 3",
   "language": "python",
   "name": "python3"
  },
  "language_info": {
   "codemirror_mode": {
    "name": "ipython",
    "version": 3
   },
   "file_extension": ".py",
   "mimetype": "text/x-python",
   "name": "python",
   "nbconvert_exporter": "python",
   "pygments_lexer": "ipython3",
   "version": "3.5.4"
  },
  "widgets": {
   "state": {},
   "version": "1.1.2"
  }
 },
 "nbformat": 4,
 "nbformat_minor": 1
}
